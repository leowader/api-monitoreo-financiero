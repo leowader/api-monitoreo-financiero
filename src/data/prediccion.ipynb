{
 "cells": [
  {
   "cell_type": "code",
   "execution_count": 2,
   "metadata": {},
   "outputs": [],
   "source": [
    "import pandas as pd\n",
    "from prophet import Prophet\n",
    "import plotly.express as px\n",
    "import requests\n",
    "import json"
   ]
  },
  {
   "cell_type": "code",
   "execution_count": 3,
   "metadata": {},
   "outputs": [
    {
     "data": {
      "text/html": [
       "<div>\n",
       "<style scoped>\n",
       "    .dataframe tbody tr th:only-of-type {\n",
       "        vertical-align: middle;\n",
       "    }\n",
       "\n",
       "    .dataframe tbody tr th {\n",
       "        vertical-align: top;\n",
       "    }\n",
       "\n",
       "    .dataframe thead th {\n",
       "        text-align: right;\n",
       "    }\n",
       "</style>\n",
       "<table border=\"1\" class=\"dataframe\">\n",
       "  <thead>\n",
       "    <tr style=\"text-align: right;\">\n",
       "      <th></th>\n",
       "      <th>Año(aaaa)-Mes(mm)</th>\n",
       "      <th>Inflación total 1</th>\n",
       "      <th>Límite superior</th>\n",
       "      <th>Meta de inflación</th>\n",
       "      <th>Límite inferior</th>\n",
       "    </tr>\n",
       "  </thead>\n",
       "  <tbody>\n",
       "    <tr>\n",
       "      <th>0</th>\n",
       "      <td>2023-08</td>\n",
       "      <td>11.43</td>\n",
       "      <td>4</td>\n",
       "      <td>3</td>\n",
       "      <td>2</td>\n",
       "    </tr>\n",
       "    <tr>\n",
       "      <th>1</th>\n",
       "      <td>2023-07</td>\n",
       "      <td>11.78</td>\n",
       "      <td>4</td>\n",
       "      <td>3</td>\n",
       "      <td>2</td>\n",
       "    </tr>\n",
       "    <tr>\n",
       "      <th>2</th>\n",
       "      <td>2023-06</td>\n",
       "      <td>12.13</td>\n",
       "      <td>4</td>\n",
       "      <td>3</td>\n",
       "      <td>2</td>\n",
       "    </tr>\n",
       "    <tr>\n",
       "      <th>3</th>\n",
       "      <td>2023-05</td>\n",
       "      <td>12.36</td>\n",
       "      <td>4</td>\n",
       "      <td>3</td>\n",
       "      <td>2</td>\n",
       "    </tr>\n",
       "    <tr>\n",
       "      <th>4</th>\n",
       "      <td>2023-04</td>\n",
       "      <td>12.82</td>\n",
       "      <td>4</td>\n",
       "      <td>3</td>\n",
       "      <td>2</td>\n",
       "    </tr>\n",
       "  </tbody>\n",
       "</table>\n",
       "</div>"
      ],
      "text/plain": [
       "  Año(aaaa)-Mes(mm)  Inflación total 1  Límite superior  Meta de inflación  \\\n",
       "0           2023-08              11.43                4                  3   \n",
       "1           2023-07              11.78                4                  3   \n",
       "2           2023-06              12.13                4                  3   \n",
       "3           2023-05              12.36                4                  3   \n",
       "4           2023-04              12.82                4                  3   \n",
       "\n",
       "   Límite inferior  \n",
       "0                2  \n",
       "1                2  \n",
       "2                2  \n",
       "3                2  \n",
       "4                2  "
      ]
     },
     "execution_count": 3,
     "metadata": {},
     "output_type": "execute_result"
    }
   ],
   "source": [
    "df = pd.read_excel(r\"C:\\Users\\LEONARDO ACUÑA\\Documents\\6 semestre\\MyS\\Proyecto-Monitoreo\\Backend\\src\\data\\INFLACION.xlsx\")\n",
    "df.head()"
   ]
  },
  {
   "cell_type": "code",
   "execution_count": 4,
   "metadata": {},
   "outputs": [
    {
     "name": "stdout",
     "output_type": "stream",
     "text": [
      "0     202308\n",
      "1     202307\n",
      "2     202306\n",
      "3     202305\n",
      "4     202304\n",
      "       ...  \n",
      "63    201805\n",
      "64    201804\n",
      "65    201803\n",
      "66    201802\n",
      "67    201801\n",
      "Name: Año(aaaa)-Mes(mm), Length: 68, dtype: object\n"
     ]
    }
   ],
   "source": [
    "\n",
    "df['Año(aaaa)-Mes(mm)'] = df['Año(aaaa)-Mes(mm)'].str.replace('-', '')  # Elimina el signo menos\n",
    "print(df['Año(aaaa)-Mes(mm)'])\n",
    "# Convierte la columna a enteros\n",
    "# df['Año(aaaa)-Mes(mm)'] = df['Año(aaaa)-Mes(mm)'].astype(int)\n"
   ]
  },
  {
   "cell_type": "code",
   "execution_count": 5,
   "metadata": {},
   "outputs": [],
   "source": [
    "# Convierte la columna 'Año(aaaa)-Mes(mm)' a datetime\n",
    "df['ds'] = pd.to_datetime(df['Año(aaaa)-Mes(mm)'], format='%Y%m')\n",
    "\n",
    "# Ajusta la columna 'ds' para que contenga el último día de cada fecha\n",
    "df['ds'] = df['ds'] + pd.offsets.MonthEnd(0)\n",
    "df['y'] = pd.to_numeric(df['Inflación total 1'])"
   ]
  },
  {
   "cell_type": "code",
   "execution_count": 6,
   "metadata": {},
   "outputs": [
    {
     "name": "stdout",
     "output_type": "stream",
     "text": [
      "2022-11-30 00:00:00\n"
     ]
    }
   ],
   "source": [
    "print(df['ds'][9])"
   ]
  },
  {
   "cell_type": "code",
   "execution_count": 7,
   "metadata": {},
   "outputs": [
    {
     "data": {
      "text/plain": [
       "(68, 7)"
      ]
     },
     "execution_count": 7,
     "metadata": {},
     "output_type": "execute_result"
    }
   ],
   "source": [
    "df.shape"
   ]
  },
  {
   "cell_type": "code",
   "execution_count": 8,
   "metadata": {},
   "outputs": [
    {
     "data": {
      "text/plain": [
       "Año(aaaa)-Mes(mm)    0\n",
       "Inflación total 1    0\n",
       "Límite superior      0\n",
       "Meta de inflación    0\n",
       "Límite inferior      0\n",
       "ds                   0\n",
       "y                    0\n",
       "dtype: int64"
      ]
     },
     "execution_count": 8,
     "metadata": {},
     "output_type": "execute_result"
    }
   ],
   "source": [
    "df.isnull().sum() "
   ]
  },
  {
   "cell_type": "code",
   "execution_count": 9,
   "metadata": {},
   "outputs": [
    {
     "data": {
      "application/vnd.plotly.v1+json": {
       "config": {
        "plotlyServerURL": "https://plot.ly"
       },
       "data": [
        {
         "hovertemplate": "ds=%{x}<br>y=%{y}<extra></extra>",
         "legendgroup": "",
         "line": {
          "color": "#636efa",
          "dash": "solid"
         },
         "marker": {
          "symbol": "circle"
         },
         "mode": "lines",
         "name": "",
         "orientation": "v",
         "showlegend": false,
         "type": "scatter",
         "x": [
          "2023-08-31T00:00:00",
          "2023-07-31T00:00:00",
          "2023-06-30T00:00:00",
          "2023-05-31T00:00:00",
          "2023-04-30T00:00:00",
          "2023-03-31T00:00:00",
          "2023-02-28T00:00:00",
          "2023-01-31T00:00:00",
          "2022-12-31T00:00:00",
          "2022-11-30T00:00:00",
          "2022-10-31T00:00:00",
          "2022-09-30T00:00:00",
          "2022-08-31T00:00:00",
          "2022-07-31T00:00:00",
          "2022-06-30T00:00:00",
          "2022-05-31T00:00:00",
          "2022-04-30T00:00:00",
          "2022-03-31T00:00:00",
          "2022-02-28T00:00:00",
          "2022-01-31T00:00:00",
          "2021-12-31T00:00:00",
          "2021-11-30T00:00:00",
          "2021-10-31T00:00:00",
          "2021-09-30T00:00:00",
          "2021-08-31T00:00:00",
          "2021-07-31T00:00:00",
          "2021-06-30T00:00:00",
          "2021-05-31T00:00:00",
          "2021-04-30T00:00:00",
          "2021-03-31T00:00:00",
          "2021-02-28T00:00:00",
          "2021-01-31T00:00:00",
          "2020-12-31T00:00:00",
          "2020-11-30T00:00:00",
          "2020-10-31T00:00:00",
          "2020-09-30T00:00:00",
          "2020-08-31T00:00:00",
          "2020-07-31T00:00:00",
          "2020-06-30T00:00:00",
          "2020-05-31T00:00:00",
          "2020-04-30T00:00:00",
          "2020-03-31T00:00:00",
          "2020-02-29T00:00:00",
          "2020-01-31T00:00:00",
          "2019-12-31T00:00:00",
          "2019-11-30T00:00:00",
          "2019-10-31T00:00:00",
          "2019-09-30T00:00:00",
          "2019-08-31T00:00:00",
          "2019-07-31T00:00:00",
          "2019-06-30T00:00:00",
          "2019-05-31T00:00:00",
          "2019-04-30T00:00:00",
          "2019-03-31T00:00:00",
          "2019-02-28T00:00:00",
          "2019-01-31T00:00:00",
          "2018-12-31T00:00:00",
          "2018-11-30T00:00:00",
          "2018-10-31T00:00:00",
          "2018-09-30T00:00:00",
          "2018-08-31T00:00:00",
          "2018-07-31T00:00:00",
          "2018-06-30T00:00:00",
          "2018-05-31T00:00:00",
          "2018-04-30T00:00:00",
          "2018-03-31T00:00:00",
          "2018-02-28T00:00:00",
          "2018-01-31T00:00:00"
         ],
         "xaxis": "x",
         "y": [
          11.43,
          11.78,
          12.13,
          12.36,
          12.82,
          13.34,
          13.28,
          13.25,
          13.12,
          12.53,
          12.22,
          11.44,
          10.84,
          10.21,
          9.67,
          9.07,
          9.23,
          8.53,
          8.01,
          6.94,
          5.62,
          5.26,
          4.58,
          4.51,
          4.44,
          3.97,
          3.63,
          3.3,
          1.95,
          1.51,
          1.56,
          1.6,
          1.61,
          1.49,
          1.75,
          1.97,
          1.88,
          1.97,
          2.19,
          2.85,
          3.51,
          3.86,
          3.72,
          3.62,
          3.8,
          3.84,
          3.86,
          3.82,
          3.75,
          3.79,
          3.43,
          3.31,
          3.25,
          3.21,
          3.01,
          3.15,
          3.18,
          3.27,
          3.33,
          3.23,
          3.1,
          3.12,
          3.2,
          3.16,
          3.13,
          3.14,
          3.37,
          3.68
         ],
         "yaxis": "y"
        }
       ],
       "layout": {
        "legend": {
         "tracegroupgap": 0
        },
        "template": {
         "data": {
          "bar": [
           {
            "error_x": {
             "color": "#2a3f5f"
            },
            "error_y": {
             "color": "#2a3f5f"
            },
            "marker": {
             "line": {
              "color": "#E5ECF6",
              "width": 0.5
             },
             "pattern": {
              "fillmode": "overlay",
              "size": 10,
              "solidity": 0.2
             }
            },
            "type": "bar"
           }
          ],
          "barpolar": [
           {
            "marker": {
             "line": {
              "color": "#E5ECF6",
              "width": 0.5
             },
             "pattern": {
              "fillmode": "overlay",
              "size": 10,
              "solidity": 0.2
             }
            },
            "type": "barpolar"
           }
          ],
          "carpet": [
           {
            "aaxis": {
             "endlinecolor": "#2a3f5f",
             "gridcolor": "white",
             "linecolor": "white",
             "minorgridcolor": "white",
             "startlinecolor": "#2a3f5f"
            },
            "baxis": {
             "endlinecolor": "#2a3f5f",
             "gridcolor": "white",
             "linecolor": "white",
             "minorgridcolor": "white",
             "startlinecolor": "#2a3f5f"
            },
            "type": "carpet"
           }
          ],
          "choropleth": [
           {
            "colorbar": {
             "outlinewidth": 0,
             "ticks": ""
            },
            "type": "choropleth"
           }
          ],
          "contour": [
           {
            "colorbar": {
             "outlinewidth": 0,
             "ticks": ""
            },
            "colorscale": [
             [
              0,
              "#0d0887"
             ],
             [
              0.1111111111111111,
              "#46039f"
             ],
             [
              0.2222222222222222,
              "#7201a8"
             ],
             [
              0.3333333333333333,
              "#9c179e"
             ],
             [
              0.4444444444444444,
              "#bd3786"
             ],
             [
              0.5555555555555556,
              "#d8576b"
             ],
             [
              0.6666666666666666,
              "#ed7953"
             ],
             [
              0.7777777777777778,
              "#fb9f3a"
             ],
             [
              0.8888888888888888,
              "#fdca26"
             ],
             [
              1,
              "#f0f921"
             ]
            ],
            "type": "contour"
           }
          ],
          "contourcarpet": [
           {
            "colorbar": {
             "outlinewidth": 0,
             "ticks": ""
            },
            "type": "contourcarpet"
           }
          ],
          "heatmap": [
           {
            "colorbar": {
             "outlinewidth": 0,
             "ticks": ""
            },
            "colorscale": [
             [
              0,
              "#0d0887"
             ],
             [
              0.1111111111111111,
              "#46039f"
             ],
             [
              0.2222222222222222,
              "#7201a8"
             ],
             [
              0.3333333333333333,
              "#9c179e"
             ],
             [
              0.4444444444444444,
              "#bd3786"
             ],
             [
              0.5555555555555556,
              "#d8576b"
             ],
             [
              0.6666666666666666,
              "#ed7953"
             ],
             [
              0.7777777777777778,
              "#fb9f3a"
             ],
             [
              0.8888888888888888,
              "#fdca26"
             ],
             [
              1,
              "#f0f921"
             ]
            ],
            "type": "heatmap"
           }
          ],
          "heatmapgl": [
           {
            "colorbar": {
             "outlinewidth": 0,
             "ticks": ""
            },
            "colorscale": [
             [
              0,
              "#0d0887"
             ],
             [
              0.1111111111111111,
              "#46039f"
             ],
             [
              0.2222222222222222,
              "#7201a8"
             ],
             [
              0.3333333333333333,
              "#9c179e"
             ],
             [
              0.4444444444444444,
              "#bd3786"
             ],
             [
              0.5555555555555556,
              "#d8576b"
             ],
             [
              0.6666666666666666,
              "#ed7953"
             ],
             [
              0.7777777777777778,
              "#fb9f3a"
             ],
             [
              0.8888888888888888,
              "#fdca26"
             ],
             [
              1,
              "#f0f921"
             ]
            ],
            "type": "heatmapgl"
           }
          ],
          "histogram": [
           {
            "marker": {
             "pattern": {
              "fillmode": "overlay",
              "size": 10,
              "solidity": 0.2
             }
            },
            "type": "histogram"
           }
          ],
          "histogram2d": [
           {
            "colorbar": {
             "outlinewidth": 0,
             "ticks": ""
            },
            "colorscale": [
             [
              0,
              "#0d0887"
             ],
             [
              0.1111111111111111,
              "#46039f"
             ],
             [
              0.2222222222222222,
              "#7201a8"
             ],
             [
              0.3333333333333333,
              "#9c179e"
             ],
             [
              0.4444444444444444,
              "#bd3786"
             ],
             [
              0.5555555555555556,
              "#d8576b"
             ],
             [
              0.6666666666666666,
              "#ed7953"
             ],
             [
              0.7777777777777778,
              "#fb9f3a"
             ],
             [
              0.8888888888888888,
              "#fdca26"
             ],
             [
              1,
              "#f0f921"
             ]
            ],
            "type": "histogram2d"
           }
          ],
          "histogram2dcontour": [
           {
            "colorbar": {
             "outlinewidth": 0,
             "ticks": ""
            },
            "colorscale": [
             [
              0,
              "#0d0887"
             ],
             [
              0.1111111111111111,
              "#46039f"
             ],
             [
              0.2222222222222222,
              "#7201a8"
             ],
             [
              0.3333333333333333,
              "#9c179e"
             ],
             [
              0.4444444444444444,
              "#bd3786"
             ],
             [
              0.5555555555555556,
              "#d8576b"
             ],
             [
              0.6666666666666666,
              "#ed7953"
             ],
             [
              0.7777777777777778,
              "#fb9f3a"
             ],
             [
              0.8888888888888888,
              "#fdca26"
             ],
             [
              1,
              "#f0f921"
             ]
            ],
            "type": "histogram2dcontour"
           }
          ],
          "mesh3d": [
           {
            "colorbar": {
             "outlinewidth": 0,
             "ticks": ""
            },
            "type": "mesh3d"
           }
          ],
          "parcoords": [
           {
            "line": {
             "colorbar": {
              "outlinewidth": 0,
              "ticks": ""
             }
            },
            "type": "parcoords"
           }
          ],
          "pie": [
           {
            "automargin": true,
            "type": "pie"
           }
          ],
          "scatter": [
           {
            "fillpattern": {
             "fillmode": "overlay",
             "size": 10,
             "solidity": 0.2
            },
            "type": "scatter"
           }
          ],
          "scatter3d": [
           {
            "line": {
             "colorbar": {
              "outlinewidth": 0,
              "ticks": ""
             }
            },
            "marker": {
             "colorbar": {
              "outlinewidth": 0,
              "ticks": ""
             }
            },
            "type": "scatter3d"
           }
          ],
          "scattercarpet": [
           {
            "marker": {
             "colorbar": {
              "outlinewidth": 0,
              "ticks": ""
             }
            },
            "type": "scattercarpet"
           }
          ],
          "scattergeo": [
           {
            "marker": {
             "colorbar": {
              "outlinewidth": 0,
              "ticks": ""
             }
            },
            "type": "scattergeo"
           }
          ],
          "scattergl": [
           {
            "marker": {
             "colorbar": {
              "outlinewidth": 0,
              "ticks": ""
             }
            },
            "type": "scattergl"
           }
          ],
          "scattermapbox": [
           {
            "marker": {
             "colorbar": {
              "outlinewidth": 0,
              "ticks": ""
             }
            },
            "type": "scattermapbox"
           }
          ],
          "scatterpolar": [
           {
            "marker": {
             "colorbar": {
              "outlinewidth": 0,
              "ticks": ""
             }
            },
            "type": "scatterpolar"
           }
          ],
          "scatterpolargl": [
           {
            "marker": {
             "colorbar": {
              "outlinewidth": 0,
              "ticks": ""
             }
            },
            "type": "scatterpolargl"
           }
          ],
          "scatterternary": [
           {
            "marker": {
             "colorbar": {
              "outlinewidth": 0,
              "ticks": ""
             }
            },
            "type": "scatterternary"
           }
          ],
          "surface": [
           {
            "colorbar": {
             "outlinewidth": 0,
             "ticks": ""
            },
            "colorscale": [
             [
              0,
              "#0d0887"
             ],
             [
              0.1111111111111111,
              "#46039f"
             ],
             [
              0.2222222222222222,
              "#7201a8"
             ],
             [
              0.3333333333333333,
              "#9c179e"
             ],
             [
              0.4444444444444444,
              "#bd3786"
             ],
             [
              0.5555555555555556,
              "#d8576b"
             ],
             [
              0.6666666666666666,
              "#ed7953"
             ],
             [
              0.7777777777777778,
              "#fb9f3a"
             ],
             [
              0.8888888888888888,
              "#fdca26"
             ],
             [
              1,
              "#f0f921"
             ]
            ],
            "type": "surface"
           }
          ],
          "table": [
           {
            "cells": {
             "fill": {
              "color": "#EBF0F8"
             },
             "line": {
              "color": "white"
             }
            },
            "header": {
             "fill": {
              "color": "#C8D4E3"
             },
             "line": {
              "color": "white"
             }
            },
            "type": "table"
           }
          ]
         },
         "layout": {
          "annotationdefaults": {
           "arrowcolor": "#2a3f5f",
           "arrowhead": 0,
           "arrowwidth": 1
          },
          "autotypenumbers": "strict",
          "coloraxis": {
           "colorbar": {
            "outlinewidth": 0,
            "ticks": ""
           }
          },
          "colorscale": {
           "diverging": [
            [
             0,
             "#8e0152"
            ],
            [
             0.1,
             "#c51b7d"
            ],
            [
             0.2,
             "#de77ae"
            ],
            [
             0.3,
             "#f1b6da"
            ],
            [
             0.4,
             "#fde0ef"
            ],
            [
             0.5,
             "#f7f7f7"
            ],
            [
             0.6,
             "#e6f5d0"
            ],
            [
             0.7,
             "#b8e186"
            ],
            [
             0.8,
             "#7fbc41"
            ],
            [
             0.9,
             "#4d9221"
            ],
            [
             1,
             "#276419"
            ]
           ],
           "sequential": [
            [
             0,
             "#0d0887"
            ],
            [
             0.1111111111111111,
             "#46039f"
            ],
            [
             0.2222222222222222,
             "#7201a8"
            ],
            [
             0.3333333333333333,
             "#9c179e"
            ],
            [
             0.4444444444444444,
             "#bd3786"
            ],
            [
             0.5555555555555556,
             "#d8576b"
            ],
            [
             0.6666666666666666,
             "#ed7953"
            ],
            [
             0.7777777777777778,
             "#fb9f3a"
            ],
            [
             0.8888888888888888,
             "#fdca26"
            ],
            [
             1,
             "#f0f921"
            ]
           ],
           "sequentialminus": [
            [
             0,
             "#0d0887"
            ],
            [
             0.1111111111111111,
             "#46039f"
            ],
            [
             0.2222222222222222,
             "#7201a8"
            ],
            [
             0.3333333333333333,
             "#9c179e"
            ],
            [
             0.4444444444444444,
             "#bd3786"
            ],
            [
             0.5555555555555556,
             "#d8576b"
            ],
            [
             0.6666666666666666,
             "#ed7953"
            ],
            [
             0.7777777777777778,
             "#fb9f3a"
            ],
            [
             0.8888888888888888,
             "#fdca26"
            ],
            [
             1,
             "#f0f921"
            ]
           ]
          },
          "colorway": [
           "#636efa",
           "#EF553B",
           "#00cc96",
           "#ab63fa",
           "#FFA15A",
           "#19d3f3",
           "#FF6692",
           "#B6E880",
           "#FF97FF",
           "#FECB52"
          ],
          "font": {
           "color": "#2a3f5f"
          },
          "geo": {
           "bgcolor": "white",
           "lakecolor": "white",
           "landcolor": "#E5ECF6",
           "showlakes": true,
           "showland": true,
           "subunitcolor": "white"
          },
          "hoverlabel": {
           "align": "left"
          },
          "hovermode": "closest",
          "mapbox": {
           "style": "light"
          },
          "paper_bgcolor": "white",
          "plot_bgcolor": "#E5ECF6",
          "polar": {
           "angularaxis": {
            "gridcolor": "white",
            "linecolor": "white",
            "ticks": ""
           },
           "bgcolor": "#E5ECF6",
           "radialaxis": {
            "gridcolor": "white",
            "linecolor": "white",
            "ticks": ""
           }
          },
          "scene": {
           "xaxis": {
            "backgroundcolor": "#E5ECF6",
            "gridcolor": "white",
            "gridwidth": 2,
            "linecolor": "white",
            "showbackground": true,
            "ticks": "",
            "zerolinecolor": "white"
           },
           "yaxis": {
            "backgroundcolor": "#E5ECF6",
            "gridcolor": "white",
            "gridwidth": 2,
            "linecolor": "white",
            "showbackground": true,
            "ticks": "",
            "zerolinecolor": "white"
           },
           "zaxis": {
            "backgroundcolor": "#E5ECF6",
            "gridcolor": "white",
            "gridwidth": 2,
            "linecolor": "white",
            "showbackground": true,
            "ticks": "",
            "zerolinecolor": "white"
           }
          },
          "shapedefaults": {
           "line": {
            "color": "#2a3f5f"
           }
          },
          "ternary": {
           "aaxis": {
            "gridcolor": "white",
            "linecolor": "white",
            "ticks": ""
           },
           "baxis": {
            "gridcolor": "white",
            "linecolor": "white",
            "ticks": ""
           },
           "bgcolor": "#E5ECF6",
           "caxis": {
            "gridcolor": "white",
            "linecolor": "white",
            "ticks": ""
           }
          },
          "title": {
           "x": 0.05
          },
          "xaxis": {
           "automargin": true,
           "gridcolor": "white",
           "linecolor": "white",
           "ticks": "",
           "title": {
            "standoff": 15
           },
           "zerolinecolor": "white",
           "zerolinewidth": 2
          },
          "yaxis": {
           "automargin": true,
           "gridcolor": "white",
           "linecolor": "white",
           "ticks": "",
           "title": {
            "standoff": 15
           },
           "zerolinecolor": "white",
           "zerolinewidth": 2
          }
         }
        },
        "title": {
         "text": "INFLACION 2018-2023-08"
        },
        "xaxis": {
         "anchor": "y",
         "domain": [
          0,
          1
         ],
         "title": {
          "text": "ds"
         }
        },
        "yaxis": {
         "anchor": "x",
         "domain": [
          0,
          1
         ],
         "title": {
          "text": "y"
         }
        }
       }
      }
     },
     "metadata": {},
     "output_type": "display_data"
    }
   ],
   "source": [
    "\n",
    "px.line(df, x='ds' , y='y' ,title='INFLACION 2018-2023-08')"
   ]
  },
  {
   "cell_type": "code",
   "execution_count": 63,
   "metadata": {},
   "outputs": [
    {
     "name": "stderr",
     "output_type": "stream",
     "text": [
      "18:53:45 - cmdstanpy - INFO - Chain [1] start processing\n",
      "18:53:48 - cmdstanpy - INFO - Chain [1] done processing\n"
     ]
    },
    {
     "data": {
      "text/plain": [
       "<prophet.forecaster.Prophet at 0x22fa1602e20>"
      ]
     },
     "execution_count": 63,
     "metadata": {},
     "output_type": "execute_result"
    }
   ],
   "source": [
    "#metodo de modelado \n",
    "m=Prophet()\n",
    "m.fit(df)"
   ]
  },
  {
   "cell_type": "code",
   "execution_count": 64,
   "metadata": {},
   "outputs": [
    {
     "data": {
      "text/html": [
       "<div>\n",
       "<style scoped>\n",
       "    .dataframe tbody tr th:only-of-type {\n",
       "        vertical-align: middle;\n",
       "    }\n",
       "\n",
       "    .dataframe tbody tr th {\n",
       "        vertical-align: top;\n",
       "    }\n",
       "\n",
       "    .dataframe thead th {\n",
       "        text-align: right;\n",
       "    }\n",
       "</style>\n",
       "<table border=\"1\" class=\"dataframe\">\n",
       "  <thead>\n",
       "    <tr style=\"text-align: right;\">\n",
       "      <th></th>\n",
       "      <th>ds</th>\n",
       "    </tr>\n",
       "  </thead>\n",
       "  <tbody>\n",
       "    <tr>\n",
       "      <th>68</th>\n",
       "      <td>2023-09-30</td>\n",
       "    </tr>\n",
       "    <tr>\n",
       "      <th>69</th>\n",
       "      <td>2023-10-31</td>\n",
       "    </tr>\n",
       "    <tr>\n",
       "      <th>70</th>\n",
       "      <td>2023-11-30</td>\n",
       "    </tr>\n",
       "    <tr>\n",
       "      <th>71</th>\n",
       "      <td>2023-12-31</td>\n",
       "    </tr>\n",
       "    <tr>\n",
       "      <th>72</th>\n",
       "      <td>2024-01-31</td>\n",
       "    </tr>\n",
       "  </tbody>\n",
       "</table>\n",
       "</div>"
      ],
      "text/plain": [
       "           ds\n",
       "68 2023-09-30\n",
       "69 2023-10-31\n",
       "70 2023-11-30\n",
       "71 2023-12-31\n",
       "72 2024-01-31"
      ]
     },
     "execution_count": 64,
     "metadata": {},
     "output_type": "execute_result"
    }
   ],
   "source": [
    "future=m.make_future_dataframe(periods=5, freq='M')\n",
    "future.tail()"
   ]
  },
  {
   "cell_type": "code",
   "execution_count": 65,
   "metadata": {},
   "outputs": [
    {
     "data": {
      "text/html": [
       "<div>\n",
       "<style scoped>\n",
       "    .dataframe tbody tr th:only-of-type {\n",
       "        vertical-align: middle;\n",
       "    }\n",
       "\n",
       "    .dataframe tbody tr th {\n",
       "        vertical-align: top;\n",
       "    }\n",
       "\n",
       "    .dataframe thead th {\n",
       "        text-align: right;\n",
       "    }\n",
       "</style>\n",
       "<table border=\"1\" class=\"dataframe\">\n",
       "  <thead>\n",
       "    <tr style=\"text-align: right;\">\n",
       "      <th></th>\n",
       "      <th>ds</th>\n",
       "      <th>yhat</th>\n",
       "      <th>yhat_lower</th>\n",
       "      <th>yhat_upper</th>\n",
       "    </tr>\n",
       "  </thead>\n",
       "  <tbody>\n",
       "    <tr>\n",
       "      <th>0</th>\n",
       "      <td>2018-01-31</td>\n",
       "      <td>3.699216</td>\n",
       "      <td>2.517538</td>\n",
       "      <td>4.940300</td>\n",
       "    </tr>\n",
       "    <tr>\n",
       "      <th>1</th>\n",
       "      <td>2018-02-28</td>\n",
       "      <td>3.582985</td>\n",
       "      <td>2.415535</td>\n",
       "      <td>4.816477</td>\n",
       "    </tr>\n",
       "    <tr>\n",
       "      <th>2</th>\n",
       "      <td>2018-03-31</td>\n",
       "      <td>3.520384</td>\n",
       "      <td>2.369121</td>\n",
       "      <td>4.790031</td>\n",
       "    </tr>\n",
       "    <tr>\n",
       "      <th>3</th>\n",
       "      <td>2018-04-30</td>\n",
       "      <td>3.387312</td>\n",
       "      <td>2.181767</td>\n",
       "      <td>4.561901</td>\n",
       "    </tr>\n",
       "    <tr>\n",
       "      <th>4</th>\n",
       "      <td>2018-05-31</td>\n",
       "      <td>3.203025</td>\n",
       "      <td>2.003324</td>\n",
       "      <td>4.369970</td>\n",
       "    </tr>\n",
       "    <tr>\n",
       "      <th>...</th>\n",
       "      <td>...</td>\n",
       "      <td>...</td>\n",
       "      <td>...</td>\n",
       "      <td>...</td>\n",
       "    </tr>\n",
       "    <tr>\n",
       "      <th>68</th>\n",
       "      <td>2023-09-30</td>\n",
       "      <td>14.828968</td>\n",
       "      <td>13.575451</td>\n",
       "      <td>16.056305</td>\n",
       "    </tr>\n",
       "    <tr>\n",
       "      <th>69</th>\n",
       "      <td>2023-10-31</td>\n",
       "      <td>15.223889</td>\n",
       "      <td>14.001523</td>\n",
       "      <td>16.466082</td>\n",
       "    </tr>\n",
       "    <tr>\n",
       "      <th>70</th>\n",
       "      <td>2023-11-30</td>\n",
       "      <td>15.550522</td>\n",
       "      <td>14.369626</td>\n",
       "      <td>16.733163</td>\n",
       "    </tr>\n",
       "    <tr>\n",
       "      <th>71</th>\n",
       "      <td>2023-12-31</td>\n",
       "      <td>16.018582</td>\n",
       "      <td>14.866415</td>\n",
       "      <td>17.111764</td>\n",
       "    </tr>\n",
       "    <tr>\n",
       "      <th>72</th>\n",
       "      <td>2024-01-31</td>\n",
       "      <td>16.353064</td>\n",
       "      <td>15.110054</td>\n",
       "      <td>17.553909</td>\n",
       "    </tr>\n",
       "  </tbody>\n",
       "</table>\n",
       "<p>73 rows × 4 columns</p>\n",
       "</div>"
      ],
      "text/plain": [
       "           ds       yhat  yhat_lower  yhat_upper\n",
       "0  2018-01-31   3.699216    2.517538    4.940300\n",
       "1  2018-02-28   3.582985    2.415535    4.816477\n",
       "2  2018-03-31   3.520384    2.369121    4.790031\n",
       "3  2018-04-30   3.387312    2.181767    4.561901\n",
       "4  2018-05-31   3.203025    2.003324    4.369970\n",
       "..        ...        ...         ...         ...\n",
       "68 2023-09-30  14.828968   13.575451   16.056305\n",
       "69 2023-10-31  15.223889   14.001523   16.466082\n",
       "70 2023-11-30  15.550522   14.369626   16.733163\n",
       "71 2023-12-31  16.018582   14.866415   17.111764\n",
       "72 2024-01-31  16.353064   15.110054   17.553909\n",
       "\n",
       "[73 rows x 4 columns]"
      ]
     },
     "execution_count": 65,
     "metadata": {},
     "output_type": "execute_result"
    }
   ],
   "source": [
    "forecast=m.predict(future)\n",
    "forecast[['ds','yhat','yhat_lower', 'yhat_upper' ]]\n"
   ]
  },
  {
   "cell_type": "code",
   "execution_count": 33,
   "metadata": {},
   "outputs": [
    {
     "name": "stdout",
     "output_type": "stream",
     "text": [
      "Enviar: {'datos': [{'ds': '2018-01-31', 'yhat': 3.699216476873149, 'yhat_lower': 2.5000616974599983, 'yhat_upper': 4.903605269816102}, {'ds': '2018-02-28', 'yhat': 3.582984533050287, 'yhat_lower': 2.3675151989447785, 'yhat_upper': 4.8755043848758275}, {'ds': '2018-03-31', 'yhat': 3.5203837371884714, 'yhat_lower': 2.239135400616459, 'yhat_upper': 4.714998495700947}, {'ds': '2018-04-30', 'yhat': 3.38731178512647, 'yhat_lower': 2.105114036359978, 'yhat_upper': 4.613560122865948}, {'ds': '2018-05-31', 'yhat': 3.203024804979851, 'yhat_lower': 1.9605741366399312, 'yhat_upper': 4.36780549064641}, {'ds': '2018-06-30', 'yhat': 3.049732368912956, 'yhat_lower': 1.8111763451103162, 'yhat_upper': 4.394030636517936}, {'ds': '2018-07-31', 'yhat': 2.92614126496054, 'yhat_lower': 1.7765305677745782, 'yhat_upper': 4.175489517232533}, {'ds': '2018-08-31', 'yhat': 2.7714094611690925, 'yhat_lower': 1.5554873199190788, 'yhat_upper': 3.978168076768071}, {'ds': '2018-09-30', 'yhat': 3.360954024392982, 'yhat_lower': 2.0662141383997263, 'yhat_upper': 4.484755658387897}, {'ds': '2018-10-31', 'yhat': 3.352898549241158, 'yhat_lower': 2.08451113471837, 'yhat_upper': 4.535384290321086}, {'ds': '2018-11-30', 'yhat': 3.312877220000978, 'yhat_lower': 2.0749977037394878, 'yhat_upper': 4.532406758151148}, {'ds': '2018-12-31', 'yhat': 3.3485689796437086, 'yhat_lower': 2.0794482170223056, 'yhat_upper': 4.594347428325799}, {'ds': '2019-01-31', 'yhat': 3.3847778694275408, 'yhat_lower': 2.284108137236202, 'yhat_upper': 4.668426213796504}, {'ds': '2019-02-28', 'yhat': 3.1107760376497717, 'yhat_lower': 2.0036905512154353, 'yhat_upper': 4.409492901470216}, {'ds': '2019-03-31', 'yhat': 3.262624244725183, 'yhat_lower': 1.993038092962494, 'yhat_upper': 4.423264898403566}, {'ds': '2019-04-30', 'yhat': 3.199579675216499, 'yhat_lower': 1.9501790250672237, 'yhat_upper': 4.402471379027683}, {'ds': '2019-05-31', 'yhat': 2.9622954242419106, 'yhat_lower': 1.6956138006490449, 'yhat_upper': 4.199308782343972}, {'ds': '2019-06-30', 'yhat': 2.8594619506716867, 'yhat_lower': 1.6054181060198187, 'yhat_upper': 4.124758760362788}, {'ds': '2019-07-31', 'yhat': 2.615759265154271, 'yhat_lower': 1.4087818325272383, 'yhat_upper': 3.8403581931575737}, {'ds': '2019-08-31', 'yhat': 2.183399538372761, 'yhat_lower': 0.9418567861205419, 'yhat_upper': 3.317901659558665}, {'ds': '2019-09-30', 'yhat': 3.163332156885269, 'yhat_lower': 1.9127212524763606, 'yhat_upper': 4.320135244161246}, {'ds': '2019-10-31', 'yhat': 3.149603581749943, 'yhat_lower': 1.9122488172802277, 'yhat_upper': 4.407313852330568}, {'ds': '2019-11-30', 'yhat': 3.0807691137502693, 'yhat_lower': 1.8249767358091793, 'yhat_upper': 4.284011325058541}, {'ds': '2019-12-31', 'yhat': 3.1401794576267004, 'yhat_lower': 1.8997758388962345, 'yhat_upper': 4.389870750212867}, {'ds': '2020-01-31', 'yhat': 3.0660127131548194, 'yhat_lower': 1.923071680142198, 'yhat_upper': 4.182047365955912}, {'ds': '2020-02-29', 'yhat': 3.3857223653470276, 'yhat_lower': 2.2121026929443173, 'yhat_upper': 4.644810899970351}, {'ds': '2020-03-31', 'yhat': 2.9038645556537688, 'yhat_lower': 1.6788735016992622, 'yhat_upper': 4.0897102859575805}, {'ds': '2020-04-30', 'yhat': 2.6211063398178176, 'yhat_lower': 1.3453034260944796, 'yhat_upper': 3.7600275703203145}, {'ds': '2020-05-31', 'yhat': 2.5370989280932665, 'yhat_lower': 1.3708149112426564, 'yhat_upper': 3.718012751844105}, {'ds': '2020-06-30', 'yhat': 2.274734329585917, 'yhat_lower': 1.0940470212864462, 'yhat_upper': 3.4546521742072165}, {'ds': '2020-07-31', 'yhat': 2.3827986102107466, 'yhat_lower': 1.160178506919103, 'yhat_upper': 3.6342608376199683}, {'ds': '2020-08-31', 'yhat': 2.8043864490386885, 'yhat_lower': 1.6443154878548492, 'yhat_upper': 3.972640592102766}, {'ds': '2020-09-30', 'yhat': 2.627454937998412, 'yhat_lower': 1.5010812113197187, 'yhat_upper': 3.8642398070780186}, {'ds': '2020-10-31', 'yhat': 2.617975046175178, 'yhat_lower': 1.4112026634251202, 'yhat_upper': 3.870307355934131}, {'ds': '2020-11-30', 'yhat': 2.629199388266234, 'yhat_lower': 1.4006535629311023, 'yhat_upper': 3.8827290330170663}, {'ds': '2020-12-31', 'yhat': 2.6109559486880434, 'yhat_lower': 1.383384012498947, 'yhat_upper': 3.9484590885180992}, {'ds': '2021-01-31', 'yhat': 2.863547685632339, 'yhat_lower': 1.6720121141335818, 'yhat_upper': 4.115514730969452}, {'ds': '2021-02-28', 'yhat': 3.279988758686263, 'yhat_lower': 2.06725656479524, 'yhat_upper': 4.522234873661282}, {'ds': '2021-03-31', 'yhat': 3.4144188977861787, 'yhat_lower': 2.2023490333277995, 'yhat_upper': 4.700195359533785}, {'ds': '2021-04-30', 'yhat': 3.6032633182988816, 'yhat_lower': 2.4492986624726036, 'yhat_upper': 4.792516259912517}, {'ds': '2021-05-31', 'yhat': 3.878454156820874, 'yhat_lower': 2.6882362018332553, 'yhat_upper': 5.058909311248207}, {'ds': '2021-06-30', 'yhat': 4.0672413400201535, 'yhat_lower': 2.827303089234461, 'yhat_upper': 5.236273815715755}, {'ds': '2021-07-31', 'yhat': 4.469404648448249, 'yhat_lower': 3.2425058465724503, 'yhat_upper': 5.7196338552390555}, {'ds': '2021-08-31', 'yhat': 5.007951819474405, 'yhat_lower': 3.843701079916171, 'yhat_upper': 6.260048865074916}, {'ds': '2021-09-30', 'yhat': 5.607108225712281, 'yhat_lower': 4.4239901672606035, 'yhat_upper': 6.7805368434561935}, {'ds': '2021-10-31', 'yhat': 6.008975616842502, 'yhat_lower': 4.766734377662396, 'yhat_upper': 7.195184203839339}, {'ds': '2021-11-30', 'yhat': 6.391083341398219, 'yhat_lower': 5.161073455416829, 'yhat_upper': 7.656639841734177}, {'ds': '2021-12-31', 'yhat': 6.809473367088334, 'yhat_lower': 5.572555404240222, 'yhat_upper': 7.989282444361889}, {'ds': '2022-01-31', 'yhat': 7.363232946836417, 'yhat_lower': 6.160052719178684, 'yhat_upper': 8.528624749539079}, {'ds': '2022-02-28', 'yhat': 7.6161037259903885, 'yhat_lower': 6.467478345317893, 'yhat_upper': 8.8680914059082}, {'ds': '2022-03-31', 'yhat': 7.962152373970105, 'yhat_lower': 6.813318182784428, 'yhat_upper': 9.140771469468445}, {'ds': '2022-04-30', 'yhat': 8.224547625045169, 'yhat_lower': 6.971646322867368, 'yhat_upper': 9.422192867701984}, {'ds': '2022-05-31', 'yhat': 8.44891008880556, 'yhat_lower': 7.215282508278116, 'yhat_upper': 9.634004614865322}, {'ds': '2022-06-30', 'yhat': 8.691084856804203, 'yhat_lower': 7.442512191731437, 'yhat_upper': 9.918177275734068}, {'ds': '2022-07-31', 'yhat': 8.976143197187929, 'yhat_lower': 7.729320130256484, 'yhat_upper': 10.25679018963868}, {'ds': '2022-08-31', 'yhat': 9.230060837641716, 'yhat_lower': 8.009238384840206, 'yhat_upper': 10.522651415634842}, {'ds': '2022-09-30', 'yhat': 10.215072604972345, 'yhat_lower': 9.025467335349536, 'yhat_upper': 11.420864093572305}, {'ds': '2022-10-31', 'yhat': 10.6156665737702, 'yhat_lower': 9.393303403338686, 'yhat_upper': 11.783474673304848}, {'ds': '2022-11-30', 'yhat': 10.971112448354285, 'yhat_lower': 9.795455215993021, 'yhat_upper': 12.166379574784331}, {'ds': '2022-12-31', 'yhat': 11.415453651949878, 'yhat_lower': 10.264853414423866, 'yhat_upper': 12.734918934987464}, {'ds': '2023-01-31', 'yhat': 11.860311986350288, 'yhat_lower': 10.642926873421962, 'yhat_upper': 13.089555747013842}, {'ds': '2023-02-28', 'yhat': 11.95541287874115, 'yhat_lower': 10.819132943200751, 'yhat_upper': 13.284159106239356}, {'ds': '2023-03-31', 'yhat': 12.515910530477132, 'yhat_lower': 11.353301550327757, 'yhat_upper': 13.767105398522522}, {'ds': '2023-04-30', 'yhat': 12.848333165478063, 'yhat_lower': 11.615740586196369, 'yhat_upper': 14.04346869975476}, {'ds': '2023-05-31', 'yhat': 13.01969835945811, 'yhat_lower': 11.780957460847878, 'yhat_upper': 14.302372112334961}, {'ds': '2023-06-30', 'yhat': 13.312332090684924, 'yhat_lower': 12.160463753303798, 'yhat_upper': 14.613585270294218}, {'ds': '2023-07-31', 'yhat': 13.477278850467822, 'yhat_lower': 12.257513183741693, 'yhat_upper': 14.735579532542744}, {'ds': '2023-08-31', 'yhat': 13.4535685689848, 'yhat_lower': 12.198765955876935, 'yhat_upper': 14.653707464397945}, {'ds': '2023-09-30', 'yhat': 14.828968392893305, 'yhat_lower': 13.632201298612934, 'yhat_upper': 15.993882641634855}, {'ds': '2023-10-31', 'yhat': 15.223889263331047, 'yhat_lower': 13.99429156349264, 'yhat_upper': 16.467436788017952}, {'ds': '2023-11-30', 'yhat': 15.550522001131167, 'yhat_lower': 14.398228192313562, 'yhat_upper': 16.820587219061455}, {'ds': '2023-12-31', 'yhat': 16.018581791000415, 'yhat_lower': 14.796925271491922, 'yhat_upper': 17.18854384375732}, {'ds': '2024-01-31', 'yhat': 16.353064492767047, 'yhat_lower': 15.098877224362697, 'yhat_upper': 17.522884422458873}]}\n",
      "status res: 200\n",
      "respuesta servidor: {\"message\":\"se guardo\"}\n"
     ]
    }
   ],
   "source": [
    "# print(\"forecast\",forecast)\n",
    "#enviar a la api\n",
    "url= \"http://localhost:4000/prediccion\"\n",
    "args= forecast[['ds','yhat','yhat_lower', 'yhat_upper' ]]\n",
    "data = {\"datos\": args.astype({'ds': 'str'}).to_dict(orient='records')}\n",
    "\n",
    "print(\"Enviar:\", data)\n",
    "\n",
    "response = requests.post(url=url, json=data)\n",
    "\n",
    "print(\"status res:\",response.status_code)\n",
    "print(\"respuesta servidor:\", response.text)"
   ]
  },
  {
   "cell_type": "code",
   "execution_count": 66,
   "metadata": {},
   "outputs": [
    {
     "data": {
      "image/png": "[encoded data removed]",
      "text/plain": [
       "<Figure size 1000x600 with 1 Axes>"
      ]
     },
     "metadata": {},
     "output_type": "display_data"
    }
   ],
   "source": [
    "fig1=m.plot(forecast)"
   ]
  }
 ],
 "metadata": {
  "kernelspec": {
   "display_name": "Python 3",
   "language": "python",
   "name": "python3"
  },
  "language_info": {
   "codemirror_mode": {
    "name": "ipython",
    "version": 3
   },
   "file_extension": ".py",
   "mimetype": "text/x-python",
   "name": "python",
   "nbconvert_exporter": "python",
   "pygments_lexer": "ipython3",
   "version": "3.9.7"
  }
 },
 "nbformat": 4,
 "nbformat_minor": 2
}
