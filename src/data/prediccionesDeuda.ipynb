{
 "cells": [
  {
   "cell_type": "code",
   "execution_count": 1,
   "metadata": {},
   "outputs": [],
   "source": [
    "import pandas as pd\n",
    "from prophet import Prophet\n",
    "import plotly.express as px\n",
    "import requests\n",
    "import json"
   ]
  },
  {
   "cell_type": "code",
   "execution_count": 2,
   "metadata": {},
   "outputs": [
    {
     "data": {
      "text/html": [
       "<div>\n",
       "<style scoped>\n",
       "    .dataframe tbody tr th:only-of-type {\n",
       "        vertical-align: middle;\n",
       "    }\n",
       "\n",
       "    .dataframe tbody tr th {\n",
       "        vertical-align: top;\n",
       "    }\n",
       "\n",
       "    .dataframe thead th {\n",
       "        text-align: right;\n",
       "    }\n",
       "</style>\n",
       "<table border=\"1\" class=\"dataframe\">\n",
       "  <thead>\n",
       "    <tr style=\"text-align: right;\">\n",
       "      <th></th>\n",
       "      <th>Fecha</th>\n",
       "      <th>Moneda</th>\n",
       "      <th>Interna1_Billo</th>\n",
       "      <th>Externa_Billo</th>\n",
       "      <th>Total_Billo</th>\n",
       "    </tr>\n",
       "  </thead>\n",
       "  <tbody>\n",
       "    <tr>\n",
       "      <th>0</th>\n",
       "      <td>2018-01-31</td>\n",
       "      <td>1</td>\n",
       "      <td>273,6</td>\n",
       "      <td>137,9</td>\n",
       "      <td>411,5</td>\n",
       "    </tr>\n",
       "    <tr>\n",
       "      <th>1</th>\n",
       "      <td>2018-01-31</td>\n",
       "      <td>2</td>\n",
       "      <td>96,2</td>\n",
       "      <td>48,5</td>\n",
       "      <td>144,7</td>\n",
       "    </tr>\n",
       "    <tr>\n",
       "      <th>2</th>\n",
       "      <td>2018-02-28</td>\n",
       "      <td>1</td>\n",
       "      <td>279,1</td>\n",
       "      <td>138,3</td>\n",
       "      <td>417,3</td>\n",
       "    </tr>\n",
       "    <tr>\n",
       "      <th>3</th>\n",
       "      <td>2018-02-28</td>\n",
       "      <td>2</td>\n",
       "      <td>97,7</td>\n",
       "      <td>48,4</td>\n",
       "      <td>146,1</td>\n",
       "    </tr>\n",
       "    <tr>\n",
       "      <th>4</th>\n",
       "      <td>2018-03-31</td>\n",
       "      <td>1</td>\n",
       "      <td>280,6</td>\n",
       "      <td>136,6</td>\n",
       "      <td>417,1</td>\n",
       "    </tr>\n",
       "  </tbody>\n",
       "</table>\n",
       "</div>"
      ],
      "text/plain": [
       "       Fecha  Moneda Interna1_Billo Externa_Billo Total_Billo\n",
       "0 2018-01-31       1          273,6         137,9       411,5\n",
       "1 2018-01-31       2           96,2          48,5       144,7\n",
       "2 2018-02-28       1          279,1         138,3       417,3\n",
       "3 2018-02-28       2           97,7          48,4       146,1\n",
       "4 2018-03-31       1          280,6         136,6       417,1"
      ]
     },
     "execution_count": 2,
     "metadata": {},
     "output_type": "execute_result"
    }
   ],
   "source": [
    "df = pd.read_excel(r'C:\\Users\\juand\\OneDrive\\Documentos\\Proyecto Modelo Codigo\\api-monitoreo-financiero\\src\\data\\DEUDA.xlsx')\n",
    "df.head()"
   ]
  }
 ],
 "metadata": {
  "kernelspec": {
   "display_name": "Python 3",
   "language": "python",
   "name": "python3"
  },
  "language_info": {
   "codemirror_mode": {
    "name": "ipython",
    "version": 3
   },
   "file_extension": ".py",
   "mimetype": "text/x-python",
   "name": "python",
   "nbconvert_exporter": "python",
   "pygments_lexer": "ipython3",
   "version": "3.11.6"
  }
 },
 "nbformat": 4,
 "nbformat_minor": 2
}
