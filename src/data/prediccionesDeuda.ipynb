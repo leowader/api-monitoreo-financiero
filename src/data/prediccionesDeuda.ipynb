{
 "cells": [
  {
   "cell_type": "code",
   "execution_count": 2,
   "metadata": {},
   "outputs": [],
   "source": [
    "import pandas as pd\n",
    "from prophet import Prophet\n",
    "import plotly.express as px\n",
    "import requests\n",
    "import json"
   ]
  },
  {
   "cell_type": "code",
   "execution_count": 5,
   "metadata": {},
   "outputs": [
    {
     "data": {
      "text/html": [
       "<div>\n",
       "<style scoped>\n",
       "    .dataframe tbody tr th:only-of-type {\n",
       "        vertical-align: middle;\n",
       "    }\n",
       "\n",
       "    .dataframe tbody tr th {\n",
       "        vertical-align: top;\n",
       "    }\n",
       "\n",
       "    .dataframe thead th {\n",
       "        text-align: right;\n",
       "    }\n",
       "</style>\n",
       "<table border=\"1\" class=\"dataframe\">\n",
       "  <thead>\n",
       "    <tr style=\"text-align: right;\">\n",
       "      <th></th>\n",
       "      <th>Fecha</th>\n",
       "      <th>Moneda</th>\n",
       "      <th>Interna1_Billo</th>\n",
       "      <th>Externa_Billo</th>\n",
       "      <th>Total_Billo</th>\n",
       "    </tr>\n",
       "  </thead>\n",
       "  <tbody>\n",
       "    <tr>\n",
       "      <th>0</th>\n",
       "      <td>2018-01-31</td>\n",
       "      <td>1</td>\n",
       "      <td>273,6</td>\n",
       "      <td>137,9</td>\n",
       "      <td>411,5</td>\n",
       "    </tr>\n",
       "    <tr>\n",
       "      <th>1</th>\n",
       "      <td>2018-02-28</td>\n",
       "      <td>1</td>\n",
       "      <td>279,1</td>\n",
       "      <td>138,3</td>\n",
       "      <td>417,3</td>\n",
       "    </tr>\n",
       "    <tr>\n",
       "      <th>2</th>\n",
       "      <td>2018-03-31</td>\n",
       "      <td>1</td>\n",
       "      <td>280,6</td>\n",
       "      <td>136,6</td>\n",
       "      <td>417,1</td>\n",
       "    </tr>\n",
       "    <tr>\n",
       "      <th>3</th>\n",
       "      <td>2018-04-30</td>\n",
       "      <td>1</td>\n",
       "      <td>287,8</td>\n",
       "      <td>138,0</td>\n",
       "      <td>425,8</td>\n",
       "    </tr>\n",
       "    <tr>\n",
       "      <th>4</th>\n",
       "      <td>2018-05-31</td>\n",
       "      <td>1</td>\n",
       "      <td>293,7</td>\n",
       "      <td>140,6</td>\n",
       "      <td>434,4</td>\n",
       "    </tr>\n",
       "  </tbody>\n",
       "</table>\n",
       "</div>"
      ],
      "text/plain": [
       "       Fecha  Moneda Interna1_Billo Externa_Billo Total_Billo\n",
       "0 2018-01-31       1          273,6         137,9       411,5\n",
       "1 2018-02-28       1          279,1         138,3       417,3\n",
       "2 2018-03-31       1          280,6         136,6       417,1\n",
       "3 2018-04-30       1          287,8         138,0       425,8\n",
       "4 2018-05-31       1          293,7         140,6       434,4"
      ]
     },
     "execution_count": 5,
     "metadata": {},
     "output_type": "execute_result"
    }
   ],
   "source": [
    "df = pd.read_excel(r'C:\\Users\\juand\\OneDrive\\Documentos\\Proyecto Modelo Codigo\\api-monitoreo-financiero\\src\\data\\DEUDA.xlsx')\n",
    "df.head()"
   ]
  },
  {
   "cell_type": "code",
   "execution_count": 6,
   "metadata": {},
   "outputs": [
    {
     "data": {
      "text/plain": [
       "Fecha             0\n",
       "Moneda            0\n",
       "Interna1_Billo    0\n",
       "Externa_Billo     0\n",
       "Total_Billo       0\n",
       "dtype: int64"
      ]
     },
     "execution_count": 6,
     "metadata": {},
     "output_type": "execute_result"
    }
   ],
   "source": [
    "df.shape\n",
    "df.isnull().sum()"
   ]
  },
  {
   "cell_type": "code",
   "execution_count": 69,
   "metadata": {},
   "outputs": [
    {
     "name": "stdout",
     "output_type": "stream",
     "text": [
      "        Fecha  Moneda Interna1_Billo Externa_Billo Total_Billo         ds  \\\n",
      "0  2018-01-31       1          273,6         137,9       411,5 2018-01-31   \n",
      "1  2018-02-28       1          279,1         138,3       417,3 2018-02-28   \n",
      "2  2018-03-31       1          280,6         136,6       417,1 2018-03-31   \n",
      "3  2018-04-30       1          287,8         138,0       425,8 2018-04-30   \n",
      "4  2018-05-31       1          293,7         140,6       434,4 2018-05-31   \n",
      "..        ...     ...            ...           ...         ...        ...   \n",
      "62 2022-10-31       1          495,9         353,0       848,9 2022-10-31   \n",
      "63 2022-12-31       1          507,3         365,5       872,7 2022-12-31   \n",
      "64 2023-01-31       1          513,9         353,0       867,0 2023-01-31   \n",
      "65 2023-02-28       1          509,6         373,9       883,4 2023-02-28   \n",
      "66 2023-04-30       1          532,0         359,1       891,1 2023-04-30   \n",
      "\n",
      "        y  \n",
      "0   273.6  \n",
      "1   279.1  \n",
      "2   280.6  \n",
      "3   287.8  \n",
      "4   293.7  \n",
      "..    ...  \n",
      "62  495.9  \n",
      "63  507.3  \n",
      "64  513.9  \n",
      "65  509.6  \n",
      "66  532.0  \n",
      "\n",
      "[67 rows x 7 columns]\n"
     ]
    }
   ],
   "source": [
    "df['ds'] = pd.to_datetime(df['Fecha'],format='%Y%m%d')\n",
    "print(df)"
   ]
  },
  {
   "cell_type": "code",
   "execution_count": 58,
   "metadata": {},
   "outputs": [
    {
     "name": "stderr",
     "output_type": "stream",
     "text": [
      "C:\\Users\\juand\\AppData\\Local\\Packages\\PythonSoftwareFoundation.Python.3.11_qbz5n2kfra8p0\\LocalCache\\local-packages\\Python311\\site-packages\\_plotly_utils\\basevalidators.py:105: FutureWarning:\n",
      "\n",
      "The behavior of DatetimeProperties.to_pydatetime is deprecated, in a future version this will return a Series containing python datetime objects instead of an ndarray. To retain the old behavior, call `np.array` on the result\n",
      "\n"
     ]
    },
    {
     "data": {
      "application/vnd.plotly.v1+json": {
       "config": {
        "plotlyServerURL": "https://plot.ly"
       },
       "data": [
        {
         "hovertemplate": "ds=%{x}<br>Externa_Billo=%{y}<extra></extra>",
         "legendgroup": "",
         "line": {
          "color": "#636efa",
          "dash": "solid"
         },
         "marker": {
          "symbol": "circle"
         },
         "mode": "lines",
         "name": "",
         "orientation": "v",
         "showlegend": false,
         "type": "scatter",
         "x": [
          "2018-01-31T00:00:00",
          "2018-02-28T00:00:00",
          "2018-03-31T00:00:00",
          "2018-04-30T00:00:00",
          "2018-05-31T00:00:00",
          "2018-06-30T00:00:00",
          "2018-07-31T00:00:00",
          "2018-09-30T00:00:00",
          "2018-10-31T00:00:00",
          "2018-11-30T00:00:00",
          "2018-12-31T00:00:00",
          "2019-01-31T00:00:00",
          "2019-02-28T00:00:00",
          "2019-03-31T00:00:00",
          "2019-04-30T00:00:00",
          "2019-05-31T00:00:00",
          "2019-06-30T00:00:00",
          "2019-07-31T00:00:00",
          "2019-08-31T00:00:00",
          "2019-09-30T00:00:00",
          "2019-10-31T00:00:00",
          "2019-11-30T00:00:00",
          "2019-12-31T00:00:00",
          "2020-01-31T00:00:00",
          "2020-02-29T00:00:00",
          "2020-03-31T00:00:00",
          "2020-04-30T00:00:00",
          "2020-05-31T00:00:00",
          "2020-06-30T00:00:00",
          "2020-07-31T00:00:00",
          "2020-08-31T00:00:00",
          "2020-09-30T00:00:00",
          "2020-10-31T00:00:00",
          "2020-11-30T00:00:00",
          "2020-12-31T00:00:00",
          "2021-01-31T00:00:00",
          "2021-05-31T00:00:00",
          "2021-07-31T00:00:00",
          "2021-09-30T00:00:00",
          "2022-02-28T00:00:00",
          "2022-06-30T00:00:00",
          "2021-03-31T00:00:00",
          "2021-11-30T00:00:00",
          "2022-08-31T00:00:00",
          "2022-11-30T00:00:00",
          "2023-03-31T00:00:00",
          "2023-06-30T00:00:00",
          "2023-08-31T00:00:00",
          "2021-02-28T00:00:00",
          "2021-04-30T00:00:00",
          "2021-06-30T00:00:00",
          "2021-08-31T00:00:00",
          "2021-10-31T00:00:00",
          "2021-12-31T00:00:00",
          "2022-03-31T00:00:00",
          "2022-05-31T00:00:00",
          "2023-05-31T00:00:00",
          "2022-01-31T00:00:00",
          "2022-04-30T00:00:00",
          "2023-07-31T00:00:00",
          "2022-07-31T00:00:00",
          "2022-09-30T00:00:00",
          "2022-10-31T00:00:00",
          "2022-12-31T00:00:00",
          "2023-01-31T00:00:00",
          "2023-02-28T00:00:00",
          "2023-04-30T00:00:00"
         ],
         "xaxis": "x",
         "y": [
          "137,9",
          "138,3",
          "136,6",
          "138,0",
          "140,6",
          "143,4",
          "140,1",
          "145,8",
          "159,0",
          "161,2",
          "164,1",
          "166,3",
          "161,1",
          "163,4",
          "165,9",
          "171,0",
          "163,3",
          "167,5",
          "175,1",
          "176,1",
          "172,6",
          "178,5",
          "169,5",
          "182,2",
          "184,0",
          "215,5",
          "217,5",
          "208,5",
          "219,7",
          "225,4",
          "228,6",
          "234,9",
          "233,2",
          "219,0",
          "229,7",
          "243,6",
          "258,4",
          "268,6",
          "267,9",
          "286,7",
          "302,0",
          "250,1",
          "287,9",
          "323,4",
          "355,1",
          "356,3",
          "321,3",
          "312,8",
          "245,3",
          "258,5",
          "262,8",
          "265,5",
          "268,7",
          "292,4",
          "274,3",
          "286,6",
          "337,4",
          "291,2",
          "287,6",
          "301,7",
          "315,1",
          "332,5",
          "353,0",
          "365,5",
          "353,0",
          "373,9",
          "359,1"
         ],
         "yaxis": "y"
        }
       ],
       "layout": {
        "legend": {
         "tracegroupgap": 0
        },
        "template": {
         "data": {
          "bar": [
           {
            "error_x": {
             "color": "#2a3f5f"
            },
            "error_y": {
             "color": "#2a3f5f"
            },
            "marker": {
             "line": {
              "color": "#E5ECF6",
              "width": 0.5
             },
             "pattern": {
              "fillmode": "overlay",
              "size": 10,
              "solidity": 0.2
             }
            },
            "type": "bar"
           }
          ],
          "barpolar": [
           {
            "marker": {
             "line": {
              "color": "#E5ECF6",
              "width": 0.5
             },
             "pattern": {
              "fillmode": "overlay",
              "size": 10,
              "solidity": 0.2
             }
            },
            "type": "barpolar"
           }
          ],
          "carpet": [
           {
            "aaxis": {
             "endlinecolor": "#2a3f5f",
             "gridcolor": "white",
             "linecolor": "white",
             "minorgridcolor": "white",
             "startlinecolor": "#2a3f5f"
            },
            "baxis": {
             "endlinecolor": "#2a3f5f",
             "gridcolor": "white",
             "linecolor": "white",
             "minorgridcolor": "white",
             "startlinecolor": "#2a3f5f"
            },
            "type": "carpet"
           }
          ],
          "choropleth": [
           {
            "colorbar": {
             "outlinewidth": 0,
             "ticks": ""
            },
            "type": "choropleth"
           }
          ],
          "contour": [
           {
            "colorbar": {
             "outlinewidth": 0,
             "ticks": ""
            },
            "colorscale": [
             [
              0,
              "#0d0887"
             ],
             [
              0.1111111111111111,
              "#46039f"
             ],
             [
              0.2222222222222222,
              "#7201a8"
             ],
             [
              0.3333333333333333,
              "#9c179e"
             ],
             [
              0.4444444444444444,
              "#bd3786"
             ],
             [
              0.5555555555555556,
              "#d8576b"
             ],
             [
              0.6666666666666666,
              "#ed7953"
             ],
             [
              0.7777777777777778,
              "#fb9f3a"
             ],
             [
              0.8888888888888888,
              "#fdca26"
             ],
             [
              1,
              "#f0f921"
             ]
            ],
            "type": "contour"
           }
          ],
          "contourcarpet": [
           {
            "colorbar": {
             "outlinewidth": 0,
             "ticks": ""
            },
            "type": "contourcarpet"
           }
          ],
          "heatmap": [
           {
            "colorbar": {
             "outlinewidth": 0,
             "ticks": ""
            },
            "colorscale": [
             [
              0,
              "#0d0887"
             ],
             [
              0.1111111111111111,
              "#46039f"
             ],
             [
              0.2222222222222222,
              "#7201a8"
             ],
             [
              0.3333333333333333,
              "#9c179e"
             ],
             [
              0.4444444444444444,
              "#bd3786"
             ],
             [
              0.5555555555555556,
              "#d8576b"
             ],
             [
              0.6666666666666666,
              "#ed7953"
             ],
             [
              0.7777777777777778,
              "#fb9f3a"
             ],
             [
              0.8888888888888888,
              "#fdca26"
             ],
             [
              1,
              "#f0f921"
             ]
            ],
            "type": "heatmap"
           }
          ],
          "heatmapgl": [
           {
            "colorbar": {
             "outlinewidth": 0,
             "ticks": ""
            },
            "colorscale": [
             [
              0,
              "#0d0887"
             ],
             [
              0.1111111111111111,
              "#46039f"
             ],
             [
              0.2222222222222222,
              "#7201a8"
             ],
             [
              0.3333333333333333,
              "#9c179e"
             ],
             [
              0.4444444444444444,
              "#bd3786"
             ],
             [
              0.5555555555555556,
              "#d8576b"
             ],
             [
              0.6666666666666666,
              "#ed7953"
             ],
             [
              0.7777777777777778,
              "#fb9f3a"
             ],
             [
              0.8888888888888888,
              "#fdca26"
             ],
             [
              1,
              "#f0f921"
             ]
            ],
            "type": "heatmapgl"
           }
          ],
          "histogram": [
           {
            "marker": {
             "pattern": {
              "fillmode": "overlay",
              "size": 10,
              "solidity": 0.2
             }
            },
            "type": "histogram"
           }
          ],
          "histogram2d": [
           {
            "colorbar": {
             "outlinewidth": 0,
             "ticks": ""
            },
            "colorscale": [
             [
              0,
              "#0d0887"
             ],
             [
              0.1111111111111111,
              "#46039f"
             ],
             [
              0.2222222222222222,
              "#7201a8"
             ],
             [
              0.3333333333333333,
              "#9c179e"
             ],
             [
              0.4444444444444444,
              "#bd3786"
             ],
             [
              0.5555555555555556,
              "#d8576b"
             ],
             [
              0.6666666666666666,
              "#ed7953"
             ],
             [
              0.7777777777777778,
              "#fb9f3a"
             ],
             [
              0.8888888888888888,
              "#fdca26"
             ],
             [
              1,
              "#f0f921"
             ]
            ],
            "type": "histogram2d"
           }
          ],
          "histogram2dcontour": [
           {
            "colorbar": {
             "outlinewidth": 0,
             "ticks": ""
            },
            "colorscale": [
             [
              0,
              "#0d0887"
             ],
             [
              0.1111111111111111,
              "#46039f"
             ],
             [
              0.2222222222222222,
              "#7201a8"
             ],
             [
              0.3333333333333333,
              "#9c179e"
             ],
             [
              0.4444444444444444,
              "#bd3786"
             ],
             [
              0.5555555555555556,
              "#d8576b"
             ],
             [
              0.6666666666666666,
              "#ed7953"
             ],
             [
              0.7777777777777778,
              "#fb9f3a"
             ],
             [
              0.8888888888888888,
              "#fdca26"
             ],
             [
              1,
              "#f0f921"
             ]
            ],
            "type": "histogram2dcontour"
           }
          ],
          "mesh3d": [
           {
            "colorbar": {
             "outlinewidth": 0,
             "ticks": ""
            },
            "type": "mesh3d"
           }
          ],
          "parcoords": [
           {
            "line": {
             "colorbar": {
              "outlinewidth": 0,
              "ticks": ""
             }
            },
            "type": "parcoords"
           }
          ],
          "pie": [
           {
            "automargin": true,
            "type": "pie"
           }
          ],
          "scatter": [
           {
            "fillpattern": {
             "fillmode": "overlay",
             "size": 10,
             "solidity": 0.2
            },
            "type": "scatter"
           }
          ],
          "scatter3d": [
           {
            "line": {
             "colorbar": {
              "outlinewidth": 0,
              "ticks": ""
             }
            },
            "marker": {
             "colorbar": {
              "outlinewidth": 0,
              "ticks": ""
             }
            },
            "type": "scatter3d"
           }
          ],
          "scattercarpet": [
           {
            "marker": {
             "colorbar": {
              "outlinewidth": 0,
              "ticks": ""
             }
            },
            "type": "scattercarpet"
           }
          ],
          "scattergeo": [
           {
            "marker": {
             "colorbar": {
              "outlinewidth": 0,
              "ticks": ""
             }
            },
            "type": "scattergeo"
           }
          ],
          "scattergl": [
           {
            "marker": {
             "colorbar": {
              "outlinewidth": 0,
              "ticks": ""
             }
            },
            "type": "scattergl"
           }
          ],
          "scattermapbox": [
           {
            "marker": {
             "colorbar": {
              "outlinewidth": 0,
              "ticks": ""
             }
            },
            "type": "scattermapbox"
           }
          ],
          "scatterpolar": [
           {
            "marker": {
             "colorbar": {
              "outlinewidth": 0,
              "ticks": ""
             }
            },
            "type": "scatterpolar"
           }
          ],
          "scatterpolargl": [
           {
            "marker": {
             "colorbar": {
              "outlinewidth": 0,
              "ticks": ""
             }
            },
            "type": "scatterpolargl"
           }
          ],
          "scatterternary": [
           {
            "marker": {
             "colorbar": {
              "outlinewidth": 0,
              "ticks": ""
             }
            },
            "type": "scatterternary"
           }
          ],
          "surface": [
           {
            "colorbar": {
             "outlinewidth": 0,
             "ticks": ""
            },
            "colorscale": [
             [
              0,
              "#0d0887"
             ],
             [
              0.1111111111111111,
              "#46039f"
             ],
             [
              0.2222222222222222,
              "#7201a8"
             ],
             [
              0.3333333333333333,
              "#9c179e"
             ],
             [
              0.4444444444444444,
              "#bd3786"
             ],
             [
              0.5555555555555556,
              "#d8576b"
             ],
             [
              0.6666666666666666,
              "#ed7953"
             ],
             [
              0.7777777777777778,
              "#fb9f3a"
             ],
             [
              0.8888888888888888,
              "#fdca26"
             ],
             [
              1,
              "#f0f921"
             ]
            ],
            "type": "surface"
           }
          ],
          "table": [
           {
            "cells": {
             "fill": {
              "color": "#EBF0F8"
             },
             "line": {
              "color": "white"
             }
            },
            "header": {
             "fill": {
              "color": "#C8D4E3"
             },
             "line": {
              "color": "white"
             }
            },
            "type": "table"
           }
          ]
         },
         "layout": {
          "annotationdefaults": {
           "arrowcolor": "#2a3f5f",
           "arrowhead": 0,
           "arrowwidth": 1
          },
          "autotypenumbers": "strict",
          "coloraxis": {
           "colorbar": {
            "outlinewidth": 0,
            "ticks": ""
           }
          },
          "colorscale": {
           "diverging": [
            [
             0,
             "#8e0152"
            ],
            [
             0.1,
             "#c51b7d"
            ],
            [
             0.2,
             "#de77ae"
            ],
            [
             0.3,
             "#f1b6da"
            ],
            [
             0.4,
             "#fde0ef"
            ],
            [
             0.5,
             "#f7f7f7"
            ],
            [
             0.6,
             "#e6f5d0"
            ],
            [
             0.7,
             "#b8e186"
            ],
            [
             0.8,
             "#7fbc41"
            ],
            [
             0.9,
             "#4d9221"
            ],
            [
             1,
             "#276419"
            ]
           ],
           "sequential": [
            [
             0,
             "#0d0887"
            ],
            [
             0.1111111111111111,
             "#46039f"
            ],
            [
             0.2222222222222222,
             "#7201a8"
            ],
            [
             0.3333333333333333,
             "#9c179e"
            ],
            [
             0.4444444444444444,
             "#bd3786"
            ],
            [
             0.5555555555555556,
             "#d8576b"
            ],
            [
             0.6666666666666666,
             "#ed7953"
            ],
            [
             0.7777777777777778,
             "#fb9f3a"
            ],
            [
             0.8888888888888888,
             "#fdca26"
            ],
            [
             1,
             "#f0f921"
            ]
           ],
           "sequentialminus": [
            [
             0,
             "#0d0887"
            ],
            [
             0.1111111111111111,
             "#46039f"
            ],
            [
             0.2222222222222222,
             "#7201a8"
            ],
            [
             0.3333333333333333,
             "#9c179e"
            ],
            [
             0.4444444444444444,
             "#bd3786"
            ],
            [
             0.5555555555555556,
             "#d8576b"
            ],
            [
             0.6666666666666666,
             "#ed7953"
            ],
            [
             0.7777777777777778,
             "#fb9f3a"
            ],
            [
             0.8888888888888888,
             "#fdca26"
            ],
            [
             1,
             "#f0f921"
            ]
           ]
          },
          "colorway": [
           "#636efa",
           "#EF553B",
           "#00cc96",
           "#ab63fa",
           "#FFA15A",
           "#19d3f3",
           "#FF6692",
           "#B6E880",
           "#FF97FF",
           "#FECB52"
          ],
          "font": {
           "color": "#2a3f5f"
          },
          "geo": {
           "bgcolor": "white",
           "lakecolor": "white",
           "landcolor": "#E5ECF6",
           "showlakes": true,
           "showland": true,
           "subunitcolor": "white"
          },
          "hoverlabel": {
           "align": "left"
          },
          "hovermode": "closest",
          "mapbox": {
           "style": "light"
          },
          "paper_bgcolor": "white",
          "plot_bgcolor": "#E5ECF6",
          "polar": {
           "angularaxis": {
            "gridcolor": "white",
            "linecolor": "white",
            "ticks": ""
           },
           "bgcolor": "#E5ECF6",
           "radialaxis": {
            "gridcolor": "white",
            "linecolor": "white",
            "ticks": ""
           }
          },
          "scene": {
           "xaxis": {
            "backgroundcolor": "#E5ECF6",
            "gridcolor": "white",
            "gridwidth": 2,
            "linecolor": "white",
            "showbackground": true,
            "ticks": "",
            "zerolinecolor": "white"
           },
           "yaxis": {
            "backgroundcolor": "#E5ECF6",
            "gridcolor": "white",
            "gridwidth": 2,
            "linecolor": "white",
            "showbackground": true,
            "ticks": "",
            "zerolinecolor": "white"
           },
           "zaxis": {
            "backgroundcolor": "#E5ECF6",
            "gridcolor": "white",
            "gridwidth": 2,
            "linecolor": "white",
            "showbackground": true,
            "ticks": "",
            "zerolinecolor": "white"
           }
          },
          "shapedefaults": {
           "line": {
            "color": "#2a3f5f"
           }
          },
          "ternary": {
           "aaxis": {
            "gridcolor": "white",
            "linecolor": "white",
            "ticks": ""
           },
           "baxis": {
            "gridcolor": "white",
            "linecolor": "white",
            "ticks": ""
           },
           "bgcolor": "#E5ECF6",
           "caxis": {
            "gridcolor": "white",
            "linecolor": "white",
            "ticks": ""
           }
          },
          "title": {
           "x": 0.05
          },
          "xaxis": {
           "automargin": true,
           "gridcolor": "white",
           "linecolor": "white",
           "ticks": "",
           "title": {
            "standoff": 15
           },
           "zerolinecolor": "white",
           "zerolinewidth": 2
          },
          "yaxis": {
           "automargin": true,
           "gridcolor": "white",
           "linecolor": "white",
           "ticks": "",
           "title": {
            "standoff": 15
           },
           "zerolinecolor": "white",
           "zerolinewidth": 2
          }
         }
        },
        "title": {
         "text": "Producto Interno Bruto"
        },
        "xaxis": {
         "anchor": "y",
         "domain": [
          0,
          1
         ],
         "title": {
          "text": "ds"
         }
        },
        "yaxis": {
         "anchor": "x",
         "domain": [
          0,
          1
         ],
         "title": {
          "text": "Externa_Billo"
         }
        }
       }
      }
     },
     "metadata": {},
     "output_type": "display_data"
    }
   ],
   "source": [
    "df['y']= pd.to_numeric(df['Externa_Billo'].str.replace(',', '.'), errors='coerce')\n"
   ]
  },
  {
   "cell_type": "code",
   "execution_count": 13,
   "metadata": {},
   "outputs": [
    {
     "name": "stderr",
     "output_type": "stream",
     "text": [
      "15:20:26 - cmdstanpy - INFO - Chain [1] start processing\n",
      "15:20:27 - cmdstanpy - INFO - Chain [1] done processing\n"
     ]
    },
    {
     "data": {
      "text/plain": [
       "<prophet.forecaster.Prophet at 0x230ffca0190>"
      ]
     },
     "execution_count": 13,
     "metadata": {},
     "output_type": "execute_result"
    }
   ],
   "source": [
    "m= Prophet()\n",
    "m.fit(df)"
   ]
  },
  {
   "cell_type": "code",
   "execution_count": 15,
   "metadata": {},
   "outputs": [
    {
     "data": {
      "text/html": [
       "<div>\n",
       "<style scoped>\n",
       "    .dataframe tbody tr th:only-of-type {\n",
       "        vertical-align: middle;\n",
       "    }\n",
       "\n",
       "    .dataframe tbody tr th {\n",
       "        vertical-align: top;\n",
       "    }\n",
       "\n",
       "    .dataframe thead th {\n",
       "        text-align: right;\n",
       "    }\n",
       "</style>\n",
       "<table border=\"1\" class=\"dataframe\">\n",
       "  <thead>\n",
       "    <tr style=\"text-align: right;\">\n",
       "      <th></th>\n",
       "      <th>ds</th>\n",
       "    </tr>\n",
       "  </thead>\n",
       "  <tbody>\n",
       "    <tr>\n",
       "      <th>63</th>\n",
       "      <td>2023-05-31</td>\n",
       "    </tr>\n",
       "    <tr>\n",
       "      <th>64</th>\n",
       "      <td>2023-06-30</td>\n",
       "    </tr>\n",
       "    <tr>\n",
       "      <th>65</th>\n",
       "      <td>2023-07-31</td>\n",
       "    </tr>\n",
       "    <tr>\n",
       "      <th>66</th>\n",
       "      <td>2023-08-31</td>\n",
       "    </tr>\n",
       "    <tr>\n",
       "      <th>67</th>\n",
       "      <td>2023-09-30</td>\n",
       "    </tr>\n",
       "  </tbody>\n",
       "</table>\n",
       "</div>"
      ],
      "text/plain": [
       "           ds\n",
       "63 2023-05-31\n",
       "64 2023-06-30\n",
       "65 2023-07-31\n",
       "66 2023-08-31\n",
       "67 2023-09-30"
      ]
     },
     "execution_count": 15,
     "metadata": {},
     "output_type": "execute_result"
    }
   ],
   "source": [
    "future = m.make_future_dataframe(periods=1,freq='M')\n",
    "future.tail()"
   ]
  },
  {
   "cell_type": "code",
   "execution_count": 16,
   "metadata": {},
   "outputs": [
    {
     "data": {
      "text/html": [
       "<div>\n",
       "<style scoped>\n",
       "    .dataframe tbody tr th:only-of-type {\n",
       "        vertical-align: middle;\n",
       "    }\n",
       "\n",
       "    .dataframe tbody tr th {\n",
       "        vertical-align: top;\n",
       "    }\n",
       "\n",
       "    .dataframe thead th {\n",
       "        text-align: right;\n",
       "    }\n",
       "</style>\n",
       "<table border=\"1\" class=\"dataframe\">\n",
       "  <thead>\n",
       "    <tr style=\"text-align: right;\">\n",
       "      <th></th>\n",
       "      <th>ds</th>\n",
       "      <th>yhat</th>\n",
       "      <th>yhat_lower</th>\n",
       "      <th>yhat_upper</th>\n",
       "    </tr>\n",
       "  </thead>\n",
       "  <tbody>\n",
       "    <tr>\n",
       "      <th>0</th>\n",
       "      <td>2018-01-31</td>\n",
       "      <td>133.346112</td>\n",
       "      <td>116.022828</td>\n",
       "      <td>151.352809</td>\n",
       "    </tr>\n",
       "    <tr>\n",
       "      <th>1</th>\n",
       "      <td>2018-02-28</td>\n",
       "      <td>132.418637</td>\n",
       "      <td>115.475845</td>\n",
       "      <td>149.973382</td>\n",
       "    </tr>\n",
       "    <tr>\n",
       "      <th>2</th>\n",
       "      <td>2018-03-31</td>\n",
       "      <td>131.534445</td>\n",
       "      <td>114.468452</td>\n",
       "      <td>149.656490</td>\n",
       "    </tr>\n",
       "    <tr>\n",
       "      <th>3</th>\n",
       "      <td>2018-04-30</td>\n",
       "      <td>136.483869</td>\n",
       "      <td>118.807682</td>\n",
       "      <td>155.652873</td>\n",
       "    </tr>\n",
       "    <tr>\n",
       "      <th>4</th>\n",
       "      <td>2018-05-31</td>\n",
       "      <td>132.386120</td>\n",
       "      <td>113.882816</td>\n",
       "      <td>149.260137</td>\n",
       "    </tr>\n",
       "    <tr>\n",
       "      <th>...</th>\n",
       "      <td>...</td>\n",
       "      <td>...</td>\n",
       "      <td>...</td>\n",
       "      <td>...</td>\n",
       "    </tr>\n",
       "    <tr>\n",
       "      <th>63</th>\n",
       "      <td>2023-05-31</td>\n",
       "      <td>348.401213</td>\n",
       "      <td>331.596689</td>\n",
       "      <td>365.955588</td>\n",
       "    </tr>\n",
       "    <tr>\n",
       "      <th>64</th>\n",
       "      <td>2023-06-30</td>\n",
       "      <td>344.323315</td>\n",
       "      <td>326.236975</td>\n",
       "      <td>362.887087</td>\n",
       "    </tr>\n",
       "    <tr>\n",
       "      <th>65</th>\n",
       "      <td>2023-07-31</td>\n",
       "      <td>340.883045</td>\n",
       "      <td>324.079760</td>\n",
       "      <td>359.079501</td>\n",
       "    </tr>\n",
       "    <tr>\n",
       "      <th>66</th>\n",
       "      <td>2023-08-31</td>\n",
       "      <td>348.091514</td>\n",
       "      <td>330.732537</td>\n",
       "      <td>366.452110</td>\n",
       "    </tr>\n",
       "    <tr>\n",
       "      <th>67</th>\n",
       "      <td>2023-09-30</td>\n",
       "      <td>371.078771</td>\n",
       "      <td>352.113808</td>\n",
       "      <td>388.934086</td>\n",
       "    </tr>\n",
       "  </tbody>\n",
       "</table>\n",
       "<p>68 rows × 4 columns</p>\n",
       "</div>"
      ],
      "text/plain": [
       "           ds        yhat  yhat_lower  yhat_upper\n",
       "0  2018-01-31  133.346112  116.022828  151.352809\n",
       "1  2018-02-28  132.418637  115.475845  149.973382\n",
       "2  2018-03-31  131.534445  114.468452  149.656490\n",
       "3  2018-04-30  136.483869  118.807682  155.652873\n",
       "4  2018-05-31  132.386120  113.882816  149.260137\n",
       "..        ...         ...         ...         ...\n",
       "63 2023-05-31  348.401213  331.596689  365.955588\n",
       "64 2023-06-30  344.323315  326.236975  362.887087\n",
       "65 2023-07-31  340.883045  324.079760  359.079501\n",
       "66 2023-08-31  348.091514  330.732537  366.452110\n",
       "67 2023-09-30  371.078771  352.113808  388.934086\n",
       "\n",
       "[68 rows x 4 columns]"
      ]
     },
     "execution_count": 16,
     "metadata": {},
     "output_type": "execute_result"
    }
   ],
   "source": [
    "forecast=m.predict(future)\n",
    "forecast[['ds','yhat','yhat_lower', 'yhat_upper' ]]"
   ]
  },
  {
   "cell_type": "code",
   "execution_count": 17,
   "metadata": {},
   "outputs": [
    {
     "name": "stderr",
     "output_type": "stream",
     "text": [
      "C:\\Users\\juand\\AppData\\Local\\Packages\\PythonSoftwareFoundation.Python.3.11_qbz5n2kfra8p0\\LocalCache\\local-packages\\Python311\\site-packages\\prophet\\plot.py:72: FutureWarning: The behavior of DatetimeProperties.to_pydatetime is deprecated, in a future version this will return a Series containing python datetime objects instead of an ndarray. To retain the old behavior, call `np.array` on the result\n",
      "  fcst_t = fcst['ds'].dt.to_pydatetime()\n",
      "C:\\Users\\juand\\AppData\\Local\\Packages\\PythonSoftwareFoundation.Python.3.11_qbz5n2kfra8p0\\LocalCache\\local-packages\\Python311\\site-packages\\prophet\\plot.py:73: FutureWarning: The behavior of DatetimeProperties.to_pydatetime is deprecated, in a future version this will return a Series containing python datetime objects instead of an ndarray. To retain the old behavior, call `np.array` on the result\n",
      "  ax.plot(m.history['ds'].dt.to_pydatetime(), m.history['y'], 'k.',\n"
     ]
    },
    {
     "data": {
      "image/png": "[encoded data removed]",
      "text/plain": [
       "<Figure size 1000x600 with 1 Axes>"
      ]
     },
     "metadata": {},
     "output_type": "display_data"
    }
   ],
   "source": [
    "fig1= m.plot(forecast)"
   ]
  },
  {
   "cell_type": "code",
   "execution_count": 18,
   "metadata": {},
   "outputs": [],
   "source": [
    "args = forecast[['ds','yhat','yhat_lower', 'yhat_upper']]"
   ]
  },
  {
   "cell_type": "code",
   "execution_count": 71,
   "metadata": {},
   "outputs": [
    {
     "name": "stdout",
     "output_type": "stream",
     "text": [
      "        Fecha  Moneda Interna1_Billo Externa_Billo Total_Billo         ds  \\\n",
      "0  2018-01-31       1          273,6         137,9       411,5 2018-01-31   \n",
      "1  2018-02-28       1          279,1         138,3       417,3 2018-02-28   \n",
      "2  2018-03-31       1          280,6         136,6       417,1 2018-03-31   \n",
      "3  2018-04-30       1          287,8         138,0       425,8 2018-04-30   \n",
      "4  2018-05-31       1          293,7         140,6       434,4 2018-05-31   \n",
      "..        ...     ...            ...           ...         ...        ...   \n",
      "62 2022-10-31       1          495,9         353,0       848,9 2022-10-31   \n",
      "63 2022-12-31       1          507,3         365,5       872,7 2022-12-31   \n",
      "64 2023-01-31       1          513,9         353,0       867,0 2023-01-31   \n",
      "65 2023-02-28       1          509,6         373,9       883,4 2023-02-28   \n",
      "66 2023-04-30       1          532,0         359,1       891,1 2023-04-30   \n",
      "\n",
      "        y  \n",
      "0   273.6  \n",
      "1   279.1  \n",
      "2   280.6  \n",
      "3   287.8  \n",
      "4   293.7  \n",
      "..    ...  \n",
      "62  495.9  \n",
      "63  507.3  \n",
      "64  513.9  \n",
      "65  509.6  \n",
      "66  532.0  \n",
      "\n",
      "[67 rows x 7 columns]\n"
     ]
    }
   ],
   "source": [
    "df['y']= pd.to_numeric(df['Interna1_Billo'].str.replace(',', '.'), errors='coerce')\n",
    "print(df)"
   ]
  },
  {
   "cell_type": "code",
   "execution_count": 61,
   "metadata": {},
   "outputs": [
    {
     "name": "stderr",
     "output_type": "stream",
     "text": [
      "16:16:26 - cmdstanpy - INFO - Chain [1] start processing\n",
      "16:16:27 - cmdstanpy - INFO - Chain [1] done processing\n"
     ]
    },
    {
     "data": {
      "text/plain": [
       "<prophet.forecaster.Prophet at 0x230859e6750>"
      ]
     },
     "execution_count": 61,
     "metadata": {},
     "output_type": "execute_result"
    }
   ],
   "source": [
    "m2= Prophet()\n",
    "m2.fit(df)"
   ]
  },
  {
   "cell_type": "code",
   "execution_count": 66,
   "metadata": {},
   "outputs": [
    {
     "data": {
      "text/html": [
       "<div>\n",
       "<style scoped>\n",
       "    .dataframe tbody tr th:only-of-type {\n",
       "        vertical-align: middle;\n",
       "    }\n",
       "\n",
       "    .dataframe tbody tr th {\n",
       "        vertical-align: top;\n",
       "    }\n",
       "\n",
       "    .dataframe thead th {\n",
       "        text-align: right;\n",
       "    }\n",
       "</style>\n",
       "<table border=\"1\" class=\"dataframe\">\n",
       "  <thead>\n",
       "    <tr style=\"text-align: right;\">\n",
       "      <th></th>\n",
       "      <th>ds</th>\n",
       "    </tr>\n",
       "  </thead>\n",
       "  <tbody>\n",
       "    <tr>\n",
       "      <th>63</th>\n",
       "      <td>2023-05-31</td>\n",
       "    </tr>\n",
       "    <tr>\n",
       "      <th>64</th>\n",
       "      <td>2023-06-30</td>\n",
       "    </tr>\n",
       "    <tr>\n",
       "      <th>65</th>\n",
       "      <td>2023-07-31</td>\n",
       "    </tr>\n",
       "    <tr>\n",
       "      <th>66</th>\n",
       "      <td>2023-08-31</td>\n",
       "    </tr>\n",
       "    <tr>\n",
       "      <th>67</th>\n",
       "      <td>2023-12-31</td>\n",
       "    </tr>\n",
       "  </tbody>\n",
       "</table>\n",
       "</div>"
      ],
      "text/plain": [
       "           ds\n",
       "63 2023-05-31\n",
       "64 2023-06-30\n",
       "65 2023-07-31\n",
       "66 2023-08-31\n",
       "67 2023-12-31"
      ]
     },
     "execution_count": 66,
     "metadata": {},
     "output_type": "execute_result"
    }
   ],
   "source": [
    "future2 = m2.make_future_dataframe(periods=1,freq='A')\n",
    "future2.tail()"
   ]
  },
  {
   "cell_type": "code",
   "execution_count": 67,
   "metadata": {},
   "outputs": [
    {
     "data": {
      "text/html": [
       "<div>\n",
       "<style scoped>\n",
       "    .dataframe tbody tr th:only-of-type {\n",
       "        vertical-align: middle;\n",
       "    }\n",
       "\n",
       "    .dataframe tbody tr th {\n",
       "        vertical-align: top;\n",
       "    }\n",
       "\n",
       "    .dataframe thead th {\n",
       "        text-align: right;\n",
       "    }\n",
       "</style>\n",
       "<table border=\"1\" class=\"dataframe\">\n",
       "  <thead>\n",
       "    <tr style=\"text-align: right;\">\n",
       "      <th></th>\n",
       "      <th>ds</th>\n",
       "      <th>yhat</th>\n",
       "      <th>yhat_lower</th>\n",
       "      <th>yhat_upper</th>\n",
       "    </tr>\n",
       "  </thead>\n",
       "  <tbody>\n",
       "    <tr>\n",
       "      <th>0</th>\n",
       "      <td>2018-01-31</td>\n",
       "      <td>274.691549</td>\n",
       "      <td>271.246245</td>\n",
       "      <td>277.837014</td>\n",
       "    </tr>\n",
       "    <tr>\n",
       "      <th>1</th>\n",
       "      <td>2018-02-28</td>\n",
       "      <td>279.185502</td>\n",
       "      <td>276.055067</td>\n",
       "      <td>282.319046</td>\n",
       "    </tr>\n",
       "    <tr>\n",
       "      <th>2</th>\n",
       "      <td>2018-03-31</td>\n",
       "      <td>282.904239</td>\n",
       "      <td>279.617253</td>\n",
       "      <td>286.082853</td>\n",
       "    </tr>\n",
       "    <tr>\n",
       "      <th>3</th>\n",
       "      <td>2018-04-30</td>\n",
       "      <td>287.647714</td>\n",
       "      <td>284.464330</td>\n",
       "      <td>290.739777</td>\n",
       "    </tr>\n",
       "    <tr>\n",
       "      <th>4</th>\n",
       "      <td>2018-05-31</td>\n",
       "      <td>293.991611</td>\n",
       "      <td>290.726492</td>\n",
       "      <td>297.213088</td>\n",
       "    </tr>\n",
       "    <tr>\n",
       "      <th>...</th>\n",
       "      <td>...</td>\n",
       "      <td>...</td>\n",
       "      <td>...</td>\n",
       "      <td>...</td>\n",
       "    </tr>\n",
       "    <tr>\n",
       "      <th>63</th>\n",
       "      <td>2023-05-31</td>\n",
       "      <td>536.668215</td>\n",
       "      <td>533.500021</td>\n",
       "      <td>539.915277</td>\n",
       "    </tr>\n",
       "    <tr>\n",
       "      <th>64</th>\n",
       "      <td>2023-06-30</td>\n",
       "      <td>543.043465</td>\n",
       "      <td>539.788334</td>\n",
       "      <td>546.421938</td>\n",
       "    </tr>\n",
       "    <tr>\n",
       "      <th>65</th>\n",
       "      <td>2023-07-31</td>\n",
       "      <td>546.141799</td>\n",
       "      <td>542.872743</td>\n",
       "      <td>549.404436</td>\n",
       "    </tr>\n",
       "    <tr>\n",
       "      <th>66</th>\n",
       "      <td>2023-08-31</td>\n",
       "      <td>552.461121</td>\n",
       "      <td>549.048946</td>\n",
       "      <td>555.686676</td>\n",
       "    </tr>\n",
       "    <tr>\n",
       "      <th>67</th>\n",
       "      <td>2023-12-31</td>\n",
       "      <td>572.546905</td>\n",
       "      <td>569.468001</td>\n",
       "      <td>575.708257</td>\n",
       "    </tr>\n",
       "  </tbody>\n",
       "</table>\n",
       "<p>68 rows × 4 columns</p>\n",
       "</div>"
      ],
      "text/plain": [
       "           ds        yhat  yhat_lower  yhat_upper\n",
       "0  2018-01-31  274.691549  271.246245  277.837014\n",
       "1  2018-02-28  279.185502  276.055067  282.319046\n",
       "2  2018-03-31  282.904239  279.617253  286.082853\n",
       "3  2018-04-30  287.647714  284.464330  290.739777\n",
       "4  2018-05-31  293.991611  290.726492  297.213088\n",
       "..        ...         ...         ...         ...\n",
       "63 2023-05-31  536.668215  533.500021  539.915277\n",
       "64 2023-06-30  543.043465  539.788334  546.421938\n",
       "65 2023-07-31  546.141799  542.872743  549.404436\n",
       "66 2023-08-31  552.461121  549.048946  555.686676\n",
       "67 2023-12-31  572.546905  569.468001  575.708257\n",
       "\n",
       "[68 rows x 4 columns]"
      ]
     },
     "execution_count": 67,
     "metadata": {},
     "output_type": "execute_result"
    }
   ],
   "source": [
    "forecast2=m2.predict(future2)\n",
    "forecast2[['ds','yhat','yhat_lower', 'yhat_upper' ]]"
   ]
  },
  {
   "cell_type": "code",
   "execution_count": 72,
   "metadata": {},
   "outputs": [
    {
     "name": "stderr",
     "output_type": "stream",
     "text": [
      "C:\\Users\\juand\\AppData\\Local\\Packages\\PythonSoftwareFoundation.Python.3.11_qbz5n2kfra8p0\\LocalCache\\local-packages\\Python311\\site-packages\\prophet\\plot.py:72: FutureWarning:\n",
      "\n",
      "The behavior of DatetimeProperties.to_pydatetime is deprecated, in a future version this will return a Series containing python datetime objects instead of an ndarray. To retain the old behavior, call `np.array` on the result\n",
      "\n",
      "C:\\Users\\juand\\AppData\\Local\\Packages\\PythonSoftwareFoundation.Python.3.11_qbz5n2kfra8p0\\LocalCache\\local-packages\\Python311\\site-packages\\prophet\\plot.py:73: FutureWarning:\n",
      "\n",
      "The behavior of DatetimeProperties.to_pydatetime is deprecated, in a future version this will return a Series containing python datetime objects instead of an ndarray. To retain the old behavior, call `np.array` on the result\n",
      "\n"
     ]
    },
    {
     "data": {
      "image/png": "[encoded data removed]",
      "text/plain": [
       "<Figure size 1000x600 with 1 Axes>"
      ]
     },
     "execution_count": 72,
     "metadata": {},
     "output_type": "execute_result"
    },
    {
     "data": {
      "image/png": "[encoded data removed]",
      "text/plain": [
       "<Figure size 1000x600 with 1 Axes>"
      ]
     },
     "metadata": {},
     "output_type": "display_data"
    }
   ],
   "source": [
    "args2 = forecast2[['ds','yhat','yhat_lower', 'yhat_upper']]\n",
    "m2.plot(forecast2)"
   ]
  },
  {
   "cell_type": "code",
   "execution_count": 77,
   "metadata": {},
   "outputs": [],
   "source": [
    "df['y']= pd.to_numeric(df['Total_Billo'].str.replace(',', '.'), errors='coerce')\n"
   ]
  },
  {
   "cell_type": "code",
   "execution_count": 78,
   "metadata": {},
   "outputs": [
    {
     "name": "stderr",
     "output_type": "stream",
     "text": [
      "16:27:34 - cmdstanpy - INFO - Chain [1] start processing\n",
      "16:27:35 - cmdstanpy - INFO - Chain [1] done processing\n"
     ]
    },
    {
     "data": {
      "text/plain": [
       "<prophet.forecaster.Prophet at 0x23087d65650>"
      ]
     },
     "execution_count": 78,
     "metadata": {},
     "output_type": "execute_result"
    }
   ],
   "source": [
    "m3 = Prophet()\n",
    "m3.fit(df)"
   ]
  },
  {
   "cell_type": "code",
   "execution_count": 79,
   "metadata": {},
   "outputs": [
    {
     "data": {
      "text/html": [
       "<div>\n",
       "<style scoped>\n",
       "    .dataframe tbody tr th:only-of-type {\n",
       "        vertical-align: middle;\n",
       "    }\n",
       "\n",
       "    .dataframe tbody tr th {\n",
       "        vertical-align: top;\n",
       "    }\n",
       "\n",
       "    .dataframe thead th {\n",
       "        text-align: right;\n",
       "    }\n",
       "</style>\n",
       "<table border=\"1\" class=\"dataframe\">\n",
       "  <thead>\n",
       "    <tr style=\"text-align: right;\">\n",
       "      <th></th>\n",
       "      <th>ds</th>\n",
       "    </tr>\n",
       "  </thead>\n",
       "  <tbody>\n",
       "    <tr>\n",
       "      <th>63</th>\n",
       "      <td>2023-05-31</td>\n",
       "    </tr>\n",
       "    <tr>\n",
       "      <th>64</th>\n",
       "      <td>2023-06-30</td>\n",
       "    </tr>\n",
       "    <tr>\n",
       "      <th>65</th>\n",
       "      <td>2023-07-31</td>\n",
       "    </tr>\n",
       "    <tr>\n",
       "      <th>66</th>\n",
       "      <td>2023-08-31</td>\n",
       "    </tr>\n",
       "    <tr>\n",
       "      <th>67</th>\n",
       "      <td>2023-12-31</td>\n",
       "    </tr>\n",
       "  </tbody>\n",
       "</table>\n",
       "</div>"
      ],
      "text/plain": [
       "           ds\n",
       "63 2023-05-31\n",
       "64 2023-06-30\n",
       "65 2023-07-31\n",
       "66 2023-08-31\n",
       "67 2023-12-31"
      ]
     },
     "execution_count": 79,
     "metadata": {},
     "output_type": "execute_result"
    }
   ],
   "source": [
    "future3 = m3.make_future_dataframe(periods=1,freq='A')\n",
    "future3.tail()"
   ]
  },
  {
   "cell_type": "code",
   "execution_count": 80,
   "metadata": {},
   "outputs": [
    {
     "data": {
      "text/html": [
       "<div>\n",
       "<style scoped>\n",
       "    .dataframe tbody tr th:only-of-type {\n",
       "        vertical-align: middle;\n",
       "    }\n",
       "\n",
       "    .dataframe tbody tr th {\n",
       "        vertical-align: top;\n",
       "    }\n",
       "\n",
       "    .dataframe thead th {\n",
       "        text-align: right;\n",
       "    }\n",
       "</style>\n",
       "<table border=\"1\" class=\"dataframe\">\n",
       "  <thead>\n",
       "    <tr style=\"text-align: right;\">\n",
       "      <th></th>\n",
       "      <th>ds</th>\n",
       "      <th>yhat</th>\n",
       "      <th>yhat_lower</th>\n",
       "      <th>yhat_upper</th>\n",
       "    </tr>\n",
       "  </thead>\n",
       "  <tbody>\n",
       "    <tr>\n",
       "      <th>0</th>\n",
       "      <td>2018-01-31</td>\n",
       "      <td>416.356312</td>\n",
       "      <td>398.493024</td>\n",
       "      <td>433.238200</td>\n",
       "    </tr>\n",
       "    <tr>\n",
       "      <th>1</th>\n",
       "      <td>2018-02-28</td>\n",
       "      <td>419.475247</td>\n",
       "      <td>401.982112</td>\n",
       "      <td>436.163507</td>\n",
       "    </tr>\n",
       "    <tr>\n",
       "      <th>2</th>\n",
       "      <td>2018-03-31</td>\n",
       "      <td>421.050422</td>\n",
       "      <td>404.660885</td>\n",
       "      <td>438.504093</td>\n",
       "    </tr>\n",
       "    <tr>\n",
       "      <th>3</th>\n",
       "      <td>2018-04-30</td>\n",
       "      <td>429.532365</td>\n",
       "      <td>412.676332</td>\n",
       "      <td>446.783201</td>\n",
       "    </tr>\n",
       "    <tr>\n",
       "      <th>4</th>\n",
       "      <td>2018-05-31</td>\n",
       "      <td>430.492525</td>\n",
       "      <td>414.131898</td>\n",
       "      <td>447.647234</td>\n",
       "    </tr>\n",
       "    <tr>\n",
       "      <th>...</th>\n",
       "      <td>...</td>\n",
       "      <td>...</td>\n",
       "      <td>...</td>\n",
       "      <td>...</td>\n",
       "    </tr>\n",
       "    <tr>\n",
       "      <th>63</th>\n",
       "      <td>2023-05-31</td>\n",
       "      <td>881.274278</td>\n",
       "      <td>863.614235</td>\n",
       "      <td>897.404562</td>\n",
       "    </tr>\n",
       "    <tr>\n",
       "      <th>64</th>\n",
       "      <td>2023-06-30</td>\n",
       "      <td>883.014411</td>\n",
       "      <td>865.325788</td>\n",
       "      <td>901.046568</td>\n",
       "    </tr>\n",
       "    <tr>\n",
       "      <th>65</th>\n",
       "      <td>2023-07-31</td>\n",
       "      <td>882.549817</td>\n",
       "      <td>865.437605</td>\n",
       "      <td>899.862288</td>\n",
       "    </tr>\n",
       "    <tr>\n",
       "      <th>66</th>\n",
       "      <td>2023-08-31</td>\n",
       "      <td>895.644351</td>\n",
       "      <td>879.410914</td>\n",
       "      <td>912.819540</td>\n",
       "    </tr>\n",
       "    <tr>\n",
       "      <th>67</th>\n",
       "      <td>2023-12-31</td>\n",
       "      <td>936.725141</td>\n",
       "      <td>918.314624</td>\n",
       "      <td>954.615491</td>\n",
       "    </tr>\n",
       "  </tbody>\n",
       "</table>\n",
       "<p>68 rows × 4 columns</p>\n",
       "</div>"
      ],
      "text/plain": [
       "           ds        yhat  yhat_lower  yhat_upper\n",
       "0  2018-01-31  416.356312  398.493024  433.238200\n",
       "1  2018-02-28  419.475247  401.982112  436.163507\n",
       "2  2018-03-31  421.050422  404.660885  438.504093\n",
       "3  2018-04-30  429.532365  412.676332  446.783201\n",
       "4  2018-05-31  430.492525  414.131898  447.647234\n",
       "..        ...         ...         ...         ...\n",
       "63 2023-05-31  881.274278  863.614235  897.404562\n",
       "64 2023-06-30  883.014411  865.325788  901.046568\n",
       "65 2023-07-31  882.549817  865.437605  899.862288\n",
       "66 2023-08-31  895.644351  879.410914  912.819540\n",
       "67 2023-12-31  936.725141  918.314624  954.615491\n",
       "\n",
       "[68 rows x 4 columns]"
      ]
     },
     "execution_count": 80,
     "metadata": {},
     "output_type": "execute_result"
    }
   ],
   "source": [
    "forecast3=m3.predict(future3)\n",
    "forecast3[['ds','yhat','yhat_lower', 'yhat_upper' ]]"
   ]
  },
  {
   "cell_type": "code",
   "execution_count": 81,
   "metadata": {},
   "outputs": [
    {
     "name": "stderr",
     "output_type": "stream",
     "text": [
      "C:\\Users\\juand\\AppData\\Local\\Packages\\PythonSoftwareFoundation.Python.3.11_qbz5n2kfra8p0\\LocalCache\\local-packages\\Python311\\site-packages\\prophet\\plot.py:72: FutureWarning:\n",
      "\n",
      "The behavior of DatetimeProperties.to_pydatetime is deprecated, in a future version this will return a Series containing python datetime objects instead of an ndarray. To retain the old behavior, call `np.array` on the result\n",
      "\n",
      "C:\\Users\\juand\\AppData\\Local\\Packages\\PythonSoftwareFoundation.Python.3.11_qbz5n2kfra8p0\\LocalCache\\local-packages\\Python311\\site-packages\\prophet\\plot.py:73: FutureWarning:\n",
      "\n",
      "The behavior of DatetimeProperties.to_pydatetime is deprecated, in a future version this will return a Series containing python datetime objects instead of an ndarray. To retain the old behavior, call `np.array` on the result\n",
      "\n"
     ]
    },
    {
     "data": {
      "image/png": "[encoded data removed]",
      "text/plain": [
       "<Figure size 1000x600 with 1 Axes>"
      ]
     },
     "metadata": {},
     "output_type": "display_data"
    }
   ],
   "source": [
    "fg2 = m3.plot(forecast3)"
   ]
  },
  {
   "cell_type": "code",
   "execution_count": 82,
   "metadata": {},
   "outputs": [],
   "source": [
    "args3 = forecast3[['ds','yhat','yhat_lower', 'yhat_upper']]"
   ]
  },
  {
   "cell_type": "code",
   "execution_count": 83,
   "metadata": {},
   "outputs": [
    {
     "name": "stdout",
     "output_type": "stream",
     "text": [
      "enviar {'datos': [{'ds': '2018-01-31', 'yhat': 133.34611188334657, 'yhat_lower': 116.02282768246128, 'yhat_upper': 151.3528088511078}, {'ds': '2018-02-28', 'yhat': 132.41863745585752, 'yhat_lower': 115.47584531436645, 'yhat_upper': 149.97338174819538}, {'ds': '2018-03-31', 'yhat': 131.534444941064, 'yhat_lower': 114.46845166965143, 'yhat_upper': 149.65649036184865}, {'ds': '2018-04-30', 'yhat': 136.4838687230755, 'yhat_lower': 118.80768172562544, 'yhat_upper': 155.6528731311217}, {'ds': '2018-05-31', 'yhat': 132.38611957803127, 'yhat_lower': 113.88281631196739, 'yhat_upper': 149.26013686291716}, {'ds': '2018-06-30', 'yhat': 132.70446795959657, 'yhat_lower': 115.28040084941033, 'yhat_upper': 151.29723325509286}, {'ds': '2018-07-31', 'yhat': 132.3772233167394, 'yhat_lower': 115.58833678442228, 'yhat_upper': 150.47424689752634}, {'ds': '2018-09-30', 'yhat': 151.1364057973057, 'yhat_lower': 134.47591033898968, 'yhat_upper': 168.19937683329843}, {'ds': '2018-10-31', 'yhat': 156.1136601820973, 'yhat_lower': 139.22827276888074, 'yhat_upper': 173.04791263007868}, {'ds': '2018-11-30', 'yhat': 159.00741933708724, 'yhat_lower': 143.0163498581195, 'yhat_upper': 176.90766708720255}, {'ds': '2018-12-31', 'yhat': 158.97532576761003, 'yhat_lower': 140.97044560788473, 'yhat_upper': 177.22300966319514}, {'ds': '2019-01-31', 'yhat': 160.5293299397125, 'yhat_lower': 143.86199587313416, 'yhat_upper': 179.42575045941595}, {'ds': '2019-02-28', 'yhat': 175.48612316395244, 'yhat_lower': 157.01531521572406, 'yhat_upper': 192.9410156795723}, {'ds': '2019-03-31', 'yhat': 165.2812660278434, 'yhat_lower': 147.9112743531579, 'yhat_upper': 183.25920194943296}, {'ds': '2019-04-30', 'yhat': 173.0896190082501, 'yhat_lower': 154.34601486231193, 'yhat_upper': 191.38261869234967}, {'ds': '2019-05-31', 'yhat': 171.51050744666443, 'yhat_lower': 152.11270976192654, 'yhat_upper': 189.3661535337171}, {'ds': '2019-06-30', 'yhat': 166.6087111150205, 'yhat_lower': 148.97973581470825, 'yhat_upper': 184.0225686806273}, {'ds': '2019-07-31', 'yhat': 162.31708003416026, 'yhat_lower': 145.91610530198267, 'yhat_upper': 180.4944915747009}, {'ds': '2019-08-31', 'yhat': 168.67527366706318, 'yhat_lower': 151.81288019724417, 'yhat_upper': 186.45494911585513}, {'ds': '2019-09-30', 'yhat': 190.8396849405887, 'yhat_lower': 173.83416827978462, 'yhat_upper': 208.86516830596136}, {'ds': '2019-10-31', 'yhat': 194.6341310742862, 'yhat_lower': 177.38043242296632, 'yhat_upper': 212.97338837398138}, {'ds': '2019-11-30', 'yhat': 198.1010148970381, 'yhat_lower': 179.9028312998537, 'yhat_upper': 216.2059159179528}, {'ds': '2019-12-31', 'yhat': 190.78487213008955, 'yhat_lower': 172.1795059436519, 'yhat_upper': 209.56820468410686}, {'ds': '2020-01-31', 'yhat': 189.53519461466044, 'yhat_lower': 172.28940338489483, 'yhat_upper': 206.4105862449719}, {'ds': '2020-02-29', 'yhat': 190.86935064111233, 'yhat_lower': 172.69647665246023, 'yhat_upper': 207.99511268798557}, {'ds': '2020-03-31', 'yhat': 209.07293509192453, 'yhat_lower': 191.3645539668794, 'yhat_upper': 227.36318791003987}, {'ds': '2020-04-30', 'yhat': 209.32665114288852, 'yhat_lower': 193.30946983912074, 'yhat_upper': 228.86868657378062}, {'ds': '2020-05-31', 'yhat': 200.7464973826506, 'yhat_lower': 183.00595528512585, 'yhat_upper': 219.14028518239866}, {'ds': '2020-06-30', 'yhat': 212.09957971547144, 'yhat_lower': 193.85786714799443, 'yhat_upper': 228.16829187328506}, {'ds': '2020-07-31', 'yhat': 220.95107825201953, 'yhat_lower': 202.60906034866298, 'yhat_upper': 237.6333241923772}, {'ds': '2020-08-31', 'yhat': 220.43680358728452, 'yhat_lower': 202.91710274326883, 'yhat_upper': 237.64861522116422}, {'ds': '2020-09-30', 'yhat': 222.25651502986713, 'yhat_lower': 205.0916443018618, 'yhat_upper': 239.31643291318343}, {'ds': '2020-10-31', 'yhat': 230.06997454641166, 'yhat_lower': 213.30376549103738, 'yhat_upper': 247.9827850053042}, {'ds': '2020-11-30', 'yhat': 232.19697058246945, 'yhat_lower': 214.9322716516357, 'yhat_upper': 250.2572515893233}, {'ds': '2020-12-31', 'yhat': 249.24274274947834, 'yhat_lower': 230.73233446613696, 'yhat_upper': 266.08871772572246}, {'ds': '2021-01-31', 'yhat': 259.8062621814719, 'yhat_lower': 242.7763036875744, 'yhat_upper': 276.8571287163432}, {'ds': '2021-02-28', 'yhat': 243.75923471457347, 'yhat_lower': 224.621020057418, 'yhat_upper': 261.93675468277183}, {'ds': '2021-03-31', 'yhat': 252.91458770263625, 'yhat_lower': 235.89186551984966, 'yhat_upper': 270.25818576778283}, {'ds': '2021-04-30', 'yhat': 255.8947719248029, 'yhat_lower': 238.02916562023398, 'yhat_upper': 272.91108985507145}, {'ds': '2021-05-31', 'yhat': 250.03050232238428, 'yhat_lower': 232.8099672561769, 'yhat_upper': 269.0791821396762}, {'ds': '2021-06-30', 'yhat': 256.3189601621628, 'yhat_lower': 239.88881106069584, 'yhat_upper': 274.18088436341293}, {'ds': '2021-07-31', 'yhat': 260.9423101593179, 'yhat_lower': 241.7500259329304, 'yhat_upper': 277.91237203611274}, {'ds': '2021-08-31', 'yhat': 262.8282723880194, 'yhat_lower': 244.95933078784753, 'yhat_upper': 279.8352315179069}, {'ds': '2021-09-30', 'yhat': 271.742674046662, 'yhat_lower': 254.84483222608375, 'yhat_upper': 289.021286472722}, {'ds': '2021-10-31', 'yhat': 278.6286296120118, 'yhat_lower': 260.56354609588146, 'yhat_upper': 294.5454973816615}, {'ds': '2021-11-30', 'yhat': 281.62743113400575, 'yhat_lower': 262.9963284485772, 'yhat_upper': 299.94103840323464}, {'ds': '2021-12-31', 'yhat': 290.5701432339415, 'yhat_lower': 273.20605813298477, 'yhat_upper': 307.7347498384812}, {'ds': '2022-01-31', 'yhat': 296.9137698111513, 'yhat_lower': 279.20133829257946, 'yhat_upper': 314.4487562046367}, {'ds': '2022-02-28', 'yhat': 296.755468699616, 'yhat_lower': 279.9607989531159, 'yhat_upper': 314.5109632396289}, {'ds': '2022-03-31', 'yhat': 296.7228609305251, 'yhat_lower': 279.15354338953387, 'yhat_upper': 313.58013685208095}, {'ds': '2022-04-30', 'yhat': 302.49639898550197, 'yhat_lower': 284.27280824914783, 'yhat_upper': 321.28449308655286}, {'ds': '2022-05-31', 'yhat': 299.250234586879, 'yhat_lower': 282.65725808051354, 'yhat_upper': 317.19161253509907}, {'ds': '2022-06-30', 'yhat': 300.39269723759975, 'yhat_lower': 282.978388174063, 'yhat_upper': 317.0312582298201}, {'ds': '2022-07-31', 'yhat': 300.91703727903354, 'yhat_lower': 284.4469052084091, 'yhat_upper': 318.47602332378466}, {'ds': '2022-08-31', 'yhat': 305.3784895878602, 'yhat_lower': 286.93149750035394, 'yhat_upper': 322.6743968739798}, {'ds': '2022-09-30', 'yhat': 321.35191865390647, 'yhat_lower': 303.7820948514203, 'yhat_upper': 338.4132189463461}, {'ds': '2022-10-31', 'yhat': 327.18075772256304, 'yhat_lower': 307.1146142613456, 'yhat_upper': 344.63900860798805}, {'ds': '2022-11-30', 'yhat': 330.8986310822379, 'yhat_lower': 314.2664521697155, 'yhat_upper': 349.16811070421267}, {'ds': '2022-12-31', 'yhat': 331.7181221909467, 'yhat_lower': 314.877570276579, 'yhat_upper': 349.9363503130802}, {'ds': '2023-01-31', 'yhat': 334.12371103671904, 'yhat_lower': 315.79911855059686, 'yhat_upper': 350.94574785487856}, {'ds': '2023-02-28', 'yhat': 349.8496775144671, 'yhat_lower': 331.4815489392666, 'yhat_upper': 367.759350545905}, {'ds': '2023-03-31', 'yhat': 340.49636035541664, 'yhat_lower': 322.3374462420184, 'yhat_upper': 357.5752746936884}, {'ds': '2023-04-30', 'yhat': 349.1287842814152, 'yhat_lower': 330.65817249665747, 'yhat_upper': 366.5660101533789}, {'ds': '2023-05-31', 'yhat': 348.4012126969494, 'yhat_lower': 331.5966889240544, 'yhat_upper': 365.9555884691603}, {'ds': '2023-06-30', 'yhat': 344.32331478315484, 'yhat_lower': 326.23697452671695, 'yhat_upper': 362.887086791738}, {'ds': '2023-07-31', 'yhat': 340.88304540080753, 'yhat_lower': 324.07975966246045, 'yhat_upper': 359.0795012242329}, {'ds': '2023-08-31', 'yhat': 348.0915135876181, 'yhat_lower': 330.73253678795805, 'yhat_upper': 366.4521100064133}, {'ds': '2023-09-30', 'yhat': 371.0787712037131, 'yhat_lower': 352.1138075579511, 'yhat_upper': 388.9340861878566}], 'datos2': [{'ds': '2018-01-31', 'yhat': 274.69154854696757, 'yhat_lower': 271.2462454849961, 'yhat_upper': 277.8370144989881}, {'ds': '2018-02-28', 'yhat': 279.1855020392322, 'yhat_lower': 276.05506712883226, 'yhat_upper': 282.3190456651161}, {'ds': '2018-03-31', 'yhat': 282.9042387874805, 'yhat_lower': 279.6172531185886, 'yhat_upper': 286.0828526902396}, {'ds': '2018-04-30', 'yhat': 287.6477144332647, 'yhat_lower': 284.4643295357247, 'yhat_upper': 290.7397770901996}, {'ds': '2018-05-31', 'yhat': 293.99161081385955, 'yhat_lower': 290.72649192044327, 'yhat_upper': 297.2130881617828}, {'ds': '2018-06-30', 'yhat': 295.5049904704561, 'yhat_lower': 292.3216057763245, 'yhat_upper': 298.63433104226544}, {'ds': '2018-07-31', 'yhat': 298.6873841588197, 'yhat_lower': 295.4480199638597, 'yhat_upper': 301.88922815959916}, {'ds': '2018-09-30', 'yhat': 309.21708442995214, 'yhat_lower': 305.8989038153863, 'yhat_upper': 312.4498483379085}, {'ds': '2018-10-31', 'yhat': 310.6382107887571, 'yhat_lower': 307.4253609291011, 'yhat_upper': 313.8874313267239}, {'ds': '2018-11-30', 'yhat': 311.6818796194155, 'yhat_lower': 308.6221499888501, 'yhat_upper': 314.8476283666508}, {'ds': '2018-12-31', 'yhat': 309.49050439007226, 'yhat_lower': 306.01796704004516, 'yhat_upper': 312.8239192360881}, {'ds': '2019-01-31', 'yhat': 316.4342372808756, 'yhat_lower': 312.99170878233787, 'yhat_upper': 319.86600974326933}, {'ds': '2019-02-28', 'yhat': 315.99269503314855, 'yhat_lower': 312.7042686101611, 'yhat_upper': 319.29122545271093}, {'ds': '2019-03-31', 'yhat': 320.3905483223993, 'yhat_lower': 317.3515768040957, 'yhat_upper': 323.4638182579702}, {'ds': '2019-04-30', 'yhat': 324.7443805464652, 'yhat_lower': 321.66703766524154, 'yhat_upper': 327.6784497224728}, {'ds': '2019-05-31', 'yhat': 325.4748664845802, 'yhat_lower': 322.46113118227237, 'yhat_upper': 328.95480103292306}, {'ds': '2019-06-30', 'yhat': 327.36215622466585, 'yhat_lower': 324.1137318724543, 'yhat_upper': 330.5525920644547}, {'ds': '2019-07-31', 'yhat': 325.82293236396254, 'yhat_lower': 322.4822219792515, 'yhat_upper': 329.0706784197859}, {'ds': '2019-08-31', 'yhat': 327.5047094389292, 'yhat_lower': 324.2448797112724, 'yhat_upper': 330.7092697829062}, {'ds': '2019-09-30', 'yhat': 336.7989225637077, 'yhat_lower': 333.55794729934564, 'yhat_upper': 340.0574455660223}, {'ds': '2019-10-31', 'yhat': 338.201554986562, 'yhat_lower': 334.99562563933904, 'yhat_upper': 341.35116013924784}, {'ds': '2019-11-30', 'yhat': 337.7626648851327, 'yhat_lower': 334.4759810248914, 'yhat_upper': 341.08159784624996}, {'ds': '2019-12-31', 'yhat': 335.52339063913325, 'yhat_lower': 332.42976800907826, 'yhat_upper': 338.7060105552008}, {'ds': '2020-01-31', 'yhat': 347.581955784174, 'yhat_lower': 344.2529743542825, 'yhat_upper': 350.8586507107385}, {'ds': '2020-02-29', 'yhat': 352.4375810022331, 'yhat_lower': 349.10775814680113, 'yhat_upper': 355.7412744369311}, {'ds': '2020-03-31', 'yhat': 351.3758131078024, 'yhat_lower': 348.08022144857256, 'yhat_upper': 354.72979618069655}, {'ds': '2020-04-30', 'yhat': 353.2195882994198, 'yhat_lower': 349.997100213405, 'yhat_upper': 356.22995770441554}, {'ds': '2020-05-31', 'yhat': 367.1846861894833, 'yhat_lower': 364.10751946599976, 'yhat_upper': 370.5482831301004}, {'ds': '2020-06-30', 'yhat': 364.5335350300015, 'yhat_lower': 361.3381546129193, 'yhat_upper': 367.83512133282994}, {'ds': '2020-07-31', 'yhat': 373.6085691378923, 'yhat_lower': 370.20515360961946, 'yhat_upper': 376.6979854046988}, {'ds': '2020-08-31', 'yhat': 373.477602948964, 'yhat_lower': 370.36479767350255, 'yhat_upper': 376.53992683719656}, {'ds': '2020-09-30', 'yhat': 379.46920148335954, 'yhat_lower': 376.23729799684696, 'yhat_upper': 382.7026983329437}, {'ds': '2020-10-31', 'yhat': 382.54843224291966, 'yhat_lower': 379.19489526130246, 'yhat_upper': 385.85471375815484}, {'ds': '2020-11-30', 'yhat': 388.2741014094204, 'yhat_lower': 384.9947038058268, 'yhat_upper': 391.59860789721347}, {'ds': '2020-12-31', 'yhat': 389.1584139151635, 'yhat_lower': 385.79569334935246, 'yhat_upper': 392.54761145036946}, {'ds': '2021-01-31', 'yhat': 388.58655801474185, 'yhat_lower': 385.16013819409534, 'yhat_upper': 391.954839301219}, {'ds': '2021-02-28', 'yhat': 397.69804796726885, 'yhat_lower': 394.48977323229843, 'yhat_upper': 400.9059202350577}, {'ds': '2021-03-31', 'yhat': 398.97120055027756, 'yhat_lower': 395.7392916913893, 'yhat_upper': 402.3047186373262}, {'ds': '2021-04-30', 'yhat': 402.27265296556226, 'yhat_lower': 399.0404684549424, 'yhat_upper': 405.44620249570096}, {'ds': '2021-05-31', 'yhat': 412.40421760442433, 'yhat_lower': 409.2689276143012, 'yhat_upper': 415.66439489706505}, {'ds': '2021-06-30', 'yhat': 411.7997367712445, 'yhat_lower': 408.50531734059314, 'yhat_upper': 415.3667386428218}, {'ds': '2021-07-31', 'yhat': 417.89601998141177, 'yhat_lower': 414.7634295927116, 'yhat_upper': 421.3043548952615}, {'ds': '2021-08-31', 'yhat': 418.88144734733584, 'yhat_lower': 415.67254982585956, 'yhat_upper': 422.1151549547483}, {'ds': '2021-09-30', 'yhat': 426.55284417949645, 'yhat_lower': 423.029573572166, 'yhat_upper': 429.5178903069058}, {'ds': '2021-10-31', 'yhat': 429.07803550957277, 'yhat_lower': 425.8815500334678, 'yhat_upper': 432.28735320040863}, {'ds': '2021-11-30', 'yhat': 434.06315994366565, 'yhat_lower': 431.1101381314201, 'yhat_upper': 437.6858656807657}, {'ds': '2021-12-31', 'yhat': 435.1497740414152, 'yhat_lower': 431.93454140573414, 'yhat_upper': 438.5052532239217}, {'ds': '2022-01-31', 'yhat': 440.12675601297, 'yhat_lower': 436.72589321272824, 'yhat_upper': 443.4567334388613}, {'ds': '2022-02-28', 'yhat': 446.0745415079537, 'yhat_lower': 442.95850759672555, 'yhat_upper': 449.34552164326675}, {'ds': '2022-03-31', 'yhat': 451.4028874370676, 'yhat_lower': 448.16737953467674, 'yhat_upper': 454.62586877203535}, {'ds': '2022-04-30', 'yhat': 457.704054734262, 'yhat_lower': 454.54232323975083, 'yhat_upper': 461.12943662611497}, {'ds': '2022-05-31', 'yhat': 465.6575723432684, 'yhat_lower': 462.33226109767384, 'yhat_upper': 468.941362412643}, {'ds': '2022-06-30', 'yhat': 468.7286573740755, 'yhat_lower': 465.38793613845485, 'yhat_upper': 471.88646429882107}, {'ds': '2022-07-31', 'yhat': 474.52465041503615, 'yhat_lower': 471.05887900390553, 'yhat_upper': 477.77219219915247}, {'ds': '2022-08-31', 'yhat': 479.3533349217537, 'yhat_lower': 476.32375027539535, 'yhat_upper': 482.5110220342157}, {'ds': '2022-09-30', 'yhat': 491.2601412519756, 'yhat_lower': 488.15546187511245, 'yhat_upper': 494.26069470435135}, {'ds': '2022-10-31', 'yhat': 495.8350300294318, 'yhat_lower': 492.73753919277686, 'yhat_upper': 499.0355254047551}, {'ds': '2022-11-30', 'yhat': 499.93568117328715, 'yhat_lower': 496.46727600580806, 'yhat_upper': 503.09901272809424}, {'ds': '2022-12-31', 'yhat': 500.90318766753217, 'yhat_lower': 497.6115694843239, 'yhat_upper': 504.22242592585496}, {'ds': '2023-01-31', 'yhat': 511.0086998682178, 'yhat_lower': 507.7185795868742, 'yhat_upper': 514.5388265154958}, {'ds': '2023-02-28', 'yhat': 513.4229582874858, 'yhat_lower': 510.3838883872535, 'yhat_upper': 516.6240055851988}, {'ds': '2023-03-31', 'yhat': 522.4583730230394, 'yhat_lower': 519.0829096093285, 'yhat_upper': 525.7247560384761}, {'ds': '2023-04-30', 'yhat': 531.3001679370881, 'yhat_lower': 527.9772289706953, 'yhat_upper': 534.5838059689906}, {'ds': '2023-05-31', 'yhat': 536.6682153214815, 'yhat_lower': 533.5000214835188, 'yhat_upper': 539.915276907304}, {'ds': '2023-06-30', 'yhat': 543.0434648106695, 'yhat_lower': 539.7883339026648, 'yhat_upper': 546.4219378045993}, {'ds': '2023-07-31', 'yhat': 546.1417993573416, 'yhat_lower': 542.8727428516007, 'yhat_upper': 549.4044361673008}, {'ds': '2023-08-31', 'yhat': 552.4611207636743, 'yhat_lower': 549.0489462147005, 'yhat_upper': 555.6866757464729}, {'ds': '2023-12-31', 'yhat': 572.5469049227545, 'yhat_lower': 569.468001123428, 'yhat_upper': 575.7082572971871}], 'datos3': [{'ds': '2018-01-31', 'yhat': 416.3563120549627, 'yhat_lower': 398.4930235762413, 'yhat_upper': 433.2382004698355}, {'ds': '2018-02-28', 'yhat': 419.47524653143824, 'yhat_lower': 401.9821124208546, 'yhat_upper': 436.1635067441071}, {'ds': '2018-03-31', 'yhat': 421.0504221375666, 'yhat_lower': 404.66088463257375, 'yhat_upper': 438.50409307759725}, {'ds': '2018-04-30', 'yhat': 429.53236533932676, 'yhat_lower': 412.6763323459217, 'yhat_upper': 446.7832012450736}, {'ds': '2018-05-31', 'yhat': 430.49252510995666, 'yhat_lower': 414.1318976045944, 'yhat_upper': 447.6472336270204}, {'ds': '2018-06-30', 'yhat': 431.02926765476155, 'yhat_lower': 412.5055587730349, 'yhat_upper': 448.86284186839976}, {'ds': '2018-07-31', 'yhat': 432.8869011619841, 'yhat_lower': 415.8100899183391, 'yhat_upper': 450.0258589911235}, {'ds': '2018-09-30', 'yhat': 458.97514695591553, 'yhat_lower': 439.64958575557773, 'yhat_upper': 477.0331060663526}, {'ds': '2018-10-31', 'yhat': 465.12783449365554, 'yhat_lower': 447.4376009891081, 'yhat_upper': 481.7784428590445}, {'ds': '2018-11-30', 'yhat': 468.87694131150903, 'yhat_lower': 450.8735224404997, 'yhat_upper': 484.8223693862307}, {'ds': '2018-12-31', 'yhat': 465.96984999953645, 'yhat_lower': 448.75803909889675, 'yhat_upper': 484.14168555795084}, {'ds': '2019-01-31', 'yhat': 472.48316854612904, 'yhat_lower': 453.912276187435, 'yhat_upper': 488.33850766920364}, {'ds': '2019-02-28', 'yhat': 484.83269660742144, 'yhat_lower': 467.5287900966864, 'yhat_upper': 501.01799831996186}, {'ds': '2019-03-31', 'yhat': 480.1881490046432, 'yhat_lower': 463.2545786063578, 'yhat_upper': 498.52801491793554}, {'ds': '2019-04-30', 'yhat': 493.4590715964126, 'yhat_lower': 476.928281838042, 'yhat_upper': 510.87569855117425}, {'ds': '2019-05-31', 'yhat': 493.5868853990743, 'yhat_lower': 476.2012838758948, 'yhat_upper': 510.93810998874216}, {'ds': '2019-06-30', 'yhat': 491.3494490105676, 'yhat_lower': 472.89083196595817, 'yhat_upper': 509.3890870211033}, {'ds': '2019-07-31', 'yhat': 486.7746997013345, 'yhat_lower': 470.3522160069523, 'yhat_upper': 504.25318824753253}, {'ds': '2019-08-31', 'yhat': 495.75907909171565, 'yhat_lower': 478.5707131087141, 'yhat_upper': 513.3490921876083}, {'ds': '2019-09-30', 'yhat': 524.5802124739647, 'yhat_lower': 508.47838130333764, 'yhat_upper': 543.2951162301874}, {'ds': '2019-10-31', 'yhat': 529.6161920279661, 'yhat_lower': 511.50721416783455, 'yhat_upper': 546.8661375386637}, {'ds': '2019-11-30', 'yhat': 532.6065529091501, 'yhat_lower': 514.9011869426417, 'yhat_upper': 549.3527182345301}, {'ds': '2019-12-31', 'yhat': 523.6618838317077, 'yhat_lower': 506.30350092813796, 'yhat_upper': 541.6432195543894}, {'ds': '2020-01-31', 'yhat': 534.7072374930317, 'yhat_lower': 517.6385733603939, 'yhat_upper': 552.4979493665345}, {'ds': '2020-02-29', 'yhat': 541.0042444966405, 'yhat_lower': 523.8722038084638, 'yhat_upper': 558.0244236416492}, {'ds': '2020-03-31', 'yhat': 557.859219963088, 'yhat_lower': 541.6230448237483, 'yhat_upper': 575.1424766180236}, {'ds': '2020-04-30', 'yhat': 559.6774160203822, 'yhat_lower': 542.6036185903343, 'yhat_upper': 575.722202345586}, {'ds': '2020-05-31', 'yhat': 564.9745528227588, 'yhat_lower': 547.6401322329767, 'yhat_upper': 582.7249252944185}, {'ds': '2020-06-30', 'yhat': 573.7643778009118, 'yhat_lower': 557.0266869476256, 'yhat_upper': 590.3613555454957}, {'ds': '2020-07-31', 'yhat': 591.8839386484913, 'yhat_lower': 574.2216995389459, 'yhat_upper': 609.2726664970369}, {'ds': '2020-08-31', 'yhat': 591.7073125801389, 'yhat_lower': 573.8388386135961, 'yhat_upper': 610.1586215560488}, {'ds': '2020-09-30', 'yhat': 600.8735354978976, 'yhat_lower': 583.1786041309952, 'yhat_upper': 616.9420303388348}, {'ds': '2020-10-31', 'yhat': 611.7924726841572, 'yhat_lower': 594.1001846466863, 'yhat_upper': 630.3793516078792}, {'ds': '2020-11-30', 'yhat': 619.5030229797679, 'yhat_lower': 602.8919301281804, 'yhat_upper': 637.2803261860912}, {'ds': '2020-12-31', 'yhat': 637.8250036433899, 'yhat_lower': 619.5210379296053, 'yhat_upper': 654.7810875243852}, {'ds': '2021-01-31', 'yhat': 644.9564851858268, 'yhat_lower': 627.5547393393877, 'yhat_upper': 662.3048671349512}, {'ds': '2021-02-28', 'yhat': 641.5340185530683, 'yhat_lower': 623.5507190242685, 'yhat_upper': 660.091853500403}, {'ds': '2021-03-31', 'yhat': 652.284736592565, 'yhat_lower': 634.0252518479887, 'yhat_upper': 669.3369032292723}, {'ds': '2021-04-30', 'yhat': 658.8987039227429, 'yhat_lower': 640.3743644813183, 'yhat_upper': 675.78904311962}, {'ds': '2021-05-31', 'yhat': 663.5981460676771, 'yhat_lower': 645.4919096830426, 'yhat_upper': 681.3365496476218}, {'ds': '2021-06-30', 'yhat': 669.7634792409187, 'yhat_lower': 652.0605394328792, 'yhat_upper': 687.7167360285117}, {'ds': '2021-07-31', 'yhat': 681.2077380641298, 'yhat_lower': 662.9455788241942, 'yhat_upper': 700.0557540616152}, {'ds': '2021-08-31', 'yhat': 684.8963154346554, 'yhat_lower': 667.3236856199857, 'yhat_upper': 702.8178395038589}, {'ds': '2021-09-30', 'yhat': 701.6655286905356, 'yhat_lower': 683.8176145249223, 'yhat_upper': 718.5289276909758}, {'ds': '2021-10-31', 'yhat': 711.8052535641938, 'yhat_lower': 694.4636654766332, 'yhat_upper': 729.9126134372792}, {'ds': '2021-11-30', 'yhat': 720.1360867704027, 'yhat_lower': 702.0340172909775, 'yhat_upper': 738.3290617476586}, {'ds': '2021-12-31', 'yhat': 730.4264200608744, 'yhat_lower': 712.3633846515154, 'yhat_upper': 748.1887690658815}, {'ds': '2022-01-31', 'yhat': 739.7415322854961, 'yhat_lower': 722.0151493966194, 'yhat_upper': 756.7134843564928}, {'ds': '2022-02-28', 'yhat': 746.5709930552514, 'yhat_lower': 728.8475362901986, 'yhat_upper': 764.1508193616014}, {'ds': '2022-03-31', 'yhat': 752.2563240452293, 'yhat_lower': 733.4323478338329, 'yhat_upper': 768.9412155900303}, {'ds': '2022-04-30', 'yhat': 764.7158369719191, 'yhat_lower': 746.4760733575642, 'yhat_upper': 781.9392184906111}, {'ds': '2022-05-31', 'yhat': 769.7861521345815, 'yhat_lower': 752.4847367124166, 'yhat_upper': 786.3306118271737}, {'ds': '2022-06-30', 'yhat': 774.3004644126231, 'yhat_lower': 756.3835155064703, 'yhat_upper': 793.924162821364}, {'ds': '2022-07-31', 'yhat': 780.2682533064441, 'yhat_lower': 762.4624451120726, 'yhat_upper': 798.9858428925779}, {'ds': '2022-08-31', 'yhat': 789.1028199517074, 'yhat_lower': 771.6934930872324, 'yhat_upper': 805.6320949119608}, {'ds': '2022-09-30', 'yhat': 814.4442242254645, 'yhat_lower': 796.7731854483671, 'yhat_upper': 830.1514243136755}, {'ds': '2022-10-31', 'yhat': 824.7070671544977, 'yhat_lower': 806.7601148589793, 'yhat_upper': 843.0228518907351}, {'ds': '2022-11-30', 'yhat': 832.4337437100535, 'yhat_lower': 814.4758962424004, 'yhat_upper': 849.7646703563518}, {'ds': '2022-12-31', 'yhat': 833.6368077936788, 'yhat_lower': 814.7354502768503, 'yhat_upper': 850.8347250445379}, {'ds': '2023-01-31', 'yhat': 844.2602817351528, 'yhat_lower': 827.9886863026654, 'yhat_upper': 861.7713501274649}, {'ds': '2023-02-28', 'yhat': 860.3222082175301, 'yhat_lower': 842.8851045573904, 'yhat_upper': 877.3468275433573}, {'ds': '2023-03-31', 'yhat': 859.787816012476, 'yhat_lower': 842.4024165319066, 'yhat_upper': 877.3503263340936}, {'ds': '2023-04-30', 'yhat': 877.0363083440511, 'yhat_lower': 860.2234283577399, 'yhat_upper': 893.7579380485759}, {'ds': '2023-05-31', 'yhat': 881.2742775444779, 'yhat_lower': 863.614235396898, 'yhat_upper': 897.4045623262907}, {'ds': '2023-06-30', 'yhat': 883.0144108898645, 'yhat_lower': 865.3257875864464, 'yhat_upper': 901.046568311796}, {'ds': '2023-07-31', 'yhat': 882.549816972351, 'yhat_lower': 865.4376053305061, 'yhat_upper': 899.8622882237939}, {'ds': '2023-08-31', 'yhat': 895.6443512411097, 'yhat_lower': 879.4109135131858, 'yhat_upper': 912.8195396281171}, {'ds': '2023-12-31', 'yhat': 936.7251411537048, 'yhat_lower': 918.3146242829259, 'yhat_upper': 954.6154907510571}]}\n",
      "status res: 200\n",
      "respuesta servidor: {\"message\":\"se guardo\"}\n"
     ]
    }
   ],
   "source": [
    "url = \"http://localhost:4000/prediccion\"\n",
    "data = {\"datos\": args2.astype({'ds': 'str'}).to_dict(orient='records'),\n",
    "        \"datos2\": args2.astype({'ds': 'str'}).to_dict(orient='records'),\n",
    "        \"datos3\": args3.astype({'ds': 'str'}).to_dict(orient='records')  }\n",
    "print(\"enviar\", data )\n",
    "\n",
    "reponse = requests.post(url=url,json=data)\n",
    "print(\"status res:\",reponse.status_code)\n",
    "print(\"respuesta servidor:\", reponse.text)"
   ]
  },
  {
   "cell_type": "code",
   "execution_count": 86,
   "metadata": {},
   "outputs": [
    {
     "name": "stdout",
     "output_type": "stream",
     "text": [
      "enviar {'datos2': [{'ds': '2018-01-31', 'yhat': 274.69154854696757, 'yhat_lower': 271.2462454849961, 'yhat_upper': 277.8370144989881}, {'ds': '2018-02-28', 'yhat': 279.1855020392322, 'yhat_lower': 276.05506712883226, 'yhat_upper': 282.3190456651161}, {'ds': '2018-03-31', 'yhat': 282.9042387874805, 'yhat_lower': 279.6172531185886, 'yhat_upper': 286.0828526902396}, {'ds': '2018-04-30', 'yhat': 287.6477144332647, 'yhat_lower': 284.4643295357247, 'yhat_upper': 290.7397770901996}, {'ds': '2018-05-31', 'yhat': 293.99161081385955, 'yhat_lower': 290.72649192044327, 'yhat_upper': 297.2130881617828}, {'ds': '2018-06-30', 'yhat': 295.5049904704561, 'yhat_lower': 292.3216057763245, 'yhat_upper': 298.63433104226544}, {'ds': '2018-07-31', 'yhat': 298.6873841588197, 'yhat_lower': 295.4480199638597, 'yhat_upper': 301.88922815959916}, {'ds': '2018-09-30', 'yhat': 309.21708442995214, 'yhat_lower': 305.8989038153863, 'yhat_upper': 312.4498483379085}, {'ds': '2018-10-31', 'yhat': 310.6382107887571, 'yhat_lower': 307.4253609291011, 'yhat_upper': 313.8874313267239}, {'ds': '2018-11-30', 'yhat': 311.6818796194155, 'yhat_lower': 308.6221499888501, 'yhat_upper': 314.8476283666508}, {'ds': '2018-12-31', 'yhat': 309.49050439007226, 'yhat_lower': 306.01796704004516, 'yhat_upper': 312.8239192360881}, {'ds': '2019-01-31', 'yhat': 316.4342372808756, 'yhat_lower': 312.99170878233787, 'yhat_upper': 319.86600974326933}, {'ds': '2019-02-28', 'yhat': 315.99269503314855, 'yhat_lower': 312.7042686101611, 'yhat_upper': 319.29122545271093}, {'ds': '2019-03-31', 'yhat': 320.3905483223993, 'yhat_lower': 317.3515768040957, 'yhat_upper': 323.4638182579702}, {'ds': '2019-04-30', 'yhat': 324.7443805464652, 'yhat_lower': 321.66703766524154, 'yhat_upper': 327.6784497224728}, {'ds': '2019-05-31', 'yhat': 325.4748664845802, 'yhat_lower': 322.46113118227237, 'yhat_upper': 328.95480103292306}, {'ds': '2019-06-30', 'yhat': 327.36215622466585, 'yhat_lower': 324.1137318724543, 'yhat_upper': 330.5525920644547}, {'ds': '2019-07-31', 'yhat': 325.82293236396254, 'yhat_lower': 322.4822219792515, 'yhat_upper': 329.0706784197859}, {'ds': '2019-08-31', 'yhat': 327.5047094389292, 'yhat_lower': 324.2448797112724, 'yhat_upper': 330.7092697829062}, {'ds': '2019-09-30', 'yhat': 336.7989225637077, 'yhat_lower': 333.55794729934564, 'yhat_upper': 340.0574455660223}, {'ds': '2019-10-31', 'yhat': 338.201554986562, 'yhat_lower': 334.99562563933904, 'yhat_upper': 341.35116013924784}, {'ds': '2019-11-30', 'yhat': 337.7626648851327, 'yhat_lower': 334.4759810248914, 'yhat_upper': 341.08159784624996}, {'ds': '2019-12-31', 'yhat': 335.52339063913325, 'yhat_lower': 332.42976800907826, 'yhat_upper': 338.7060105552008}, {'ds': '2020-01-31', 'yhat': 347.581955784174, 'yhat_lower': 344.2529743542825, 'yhat_upper': 350.8586507107385}, {'ds': '2020-02-29', 'yhat': 352.4375810022331, 'yhat_lower': 349.10775814680113, 'yhat_upper': 355.7412744369311}, {'ds': '2020-03-31', 'yhat': 351.3758131078024, 'yhat_lower': 348.08022144857256, 'yhat_upper': 354.72979618069655}, {'ds': '2020-04-30', 'yhat': 353.2195882994198, 'yhat_lower': 349.997100213405, 'yhat_upper': 356.22995770441554}, {'ds': '2020-05-31', 'yhat': 367.1846861894833, 'yhat_lower': 364.10751946599976, 'yhat_upper': 370.5482831301004}, {'ds': '2020-06-30', 'yhat': 364.5335350300015, 'yhat_lower': 361.3381546129193, 'yhat_upper': 367.83512133282994}, {'ds': '2020-07-31', 'yhat': 373.6085691378923, 'yhat_lower': 370.20515360961946, 'yhat_upper': 376.6979854046988}, {'ds': '2020-08-31', 'yhat': 373.477602948964, 'yhat_lower': 370.36479767350255, 'yhat_upper': 376.53992683719656}, {'ds': '2020-09-30', 'yhat': 379.46920148335954, 'yhat_lower': 376.23729799684696, 'yhat_upper': 382.7026983329437}, {'ds': '2020-10-31', 'yhat': 382.54843224291966, 'yhat_lower': 379.19489526130246, 'yhat_upper': 385.85471375815484}, {'ds': '2020-11-30', 'yhat': 388.2741014094204, 'yhat_lower': 384.9947038058268, 'yhat_upper': 391.59860789721347}, {'ds': '2020-12-31', 'yhat': 389.1584139151635, 'yhat_lower': 385.79569334935246, 'yhat_upper': 392.54761145036946}, {'ds': '2021-01-31', 'yhat': 388.58655801474185, 'yhat_lower': 385.16013819409534, 'yhat_upper': 391.954839301219}, {'ds': '2021-02-28', 'yhat': 397.69804796726885, 'yhat_lower': 394.48977323229843, 'yhat_upper': 400.9059202350577}, {'ds': '2021-03-31', 'yhat': 398.97120055027756, 'yhat_lower': 395.7392916913893, 'yhat_upper': 402.3047186373262}, {'ds': '2021-04-30', 'yhat': 402.27265296556226, 'yhat_lower': 399.0404684549424, 'yhat_upper': 405.44620249570096}, {'ds': '2021-05-31', 'yhat': 412.40421760442433, 'yhat_lower': 409.2689276143012, 'yhat_upper': 415.66439489706505}, {'ds': '2021-06-30', 'yhat': 411.7997367712445, 'yhat_lower': 408.50531734059314, 'yhat_upper': 415.3667386428218}, {'ds': '2021-07-31', 'yhat': 417.89601998141177, 'yhat_lower': 414.7634295927116, 'yhat_upper': 421.3043548952615}, {'ds': '2021-08-31', 'yhat': 418.88144734733584, 'yhat_lower': 415.67254982585956, 'yhat_upper': 422.1151549547483}, {'ds': '2021-09-30', 'yhat': 426.55284417949645, 'yhat_lower': 423.029573572166, 'yhat_upper': 429.5178903069058}, {'ds': '2021-10-31', 'yhat': 429.07803550957277, 'yhat_lower': 425.8815500334678, 'yhat_upper': 432.28735320040863}, {'ds': '2021-11-30', 'yhat': 434.06315994366565, 'yhat_lower': 431.1101381314201, 'yhat_upper': 437.6858656807657}, {'ds': '2021-12-31', 'yhat': 435.1497740414152, 'yhat_lower': 431.93454140573414, 'yhat_upper': 438.5052532239217}, {'ds': '2022-01-31', 'yhat': 440.12675601297, 'yhat_lower': 436.72589321272824, 'yhat_upper': 443.4567334388613}, {'ds': '2022-02-28', 'yhat': 446.0745415079537, 'yhat_lower': 442.95850759672555, 'yhat_upper': 449.34552164326675}, {'ds': '2022-03-31', 'yhat': 451.4028874370676, 'yhat_lower': 448.16737953467674, 'yhat_upper': 454.62586877203535}, {'ds': '2022-04-30', 'yhat': 457.704054734262, 'yhat_lower': 454.54232323975083, 'yhat_upper': 461.12943662611497}, {'ds': '2022-05-31', 'yhat': 465.6575723432684, 'yhat_lower': 462.33226109767384, 'yhat_upper': 468.941362412643}, {'ds': '2022-06-30', 'yhat': 468.7286573740755, 'yhat_lower': 465.38793613845485, 'yhat_upper': 471.88646429882107}, {'ds': '2022-07-31', 'yhat': 474.52465041503615, 'yhat_lower': 471.05887900390553, 'yhat_upper': 477.77219219915247}, {'ds': '2022-08-31', 'yhat': 479.3533349217537, 'yhat_lower': 476.32375027539535, 'yhat_upper': 482.5110220342157}, {'ds': '2022-09-30', 'yhat': 491.2601412519756, 'yhat_lower': 488.15546187511245, 'yhat_upper': 494.26069470435135}, {'ds': '2022-10-31', 'yhat': 495.8350300294318, 'yhat_lower': 492.73753919277686, 'yhat_upper': 499.0355254047551}, {'ds': '2022-11-30', 'yhat': 499.93568117328715, 'yhat_lower': 496.46727600580806, 'yhat_upper': 503.09901272809424}, {'ds': '2022-12-31', 'yhat': 500.90318766753217, 'yhat_lower': 497.6115694843239, 'yhat_upper': 504.22242592585496}, {'ds': '2023-01-31', 'yhat': 511.0086998682178, 'yhat_lower': 507.7185795868742, 'yhat_upper': 514.5388265154958}, {'ds': '2023-02-28', 'yhat': 513.4229582874858, 'yhat_lower': 510.3838883872535, 'yhat_upper': 516.6240055851988}, {'ds': '2023-03-31', 'yhat': 522.4583730230394, 'yhat_lower': 519.0829096093285, 'yhat_upper': 525.7247560384761}, {'ds': '2023-04-30', 'yhat': 531.3001679370881, 'yhat_lower': 527.9772289706953, 'yhat_upper': 534.5838059689906}, {'ds': '2023-05-31', 'yhat': 536.6682153214815, 'yhat_lower': 533.5000214835188, 'yhat_upper': 539.915276907304}, {'ds': '2023-06-30', 'yhat': 543.0434648106695, 'yhat_lower': 539.7883339026648, 'yhat_upper': 546.4219378045993}, {'ds': '2023-07-31', 'yhat': 546.1417993573416, 'yhat_lower': 542.8727428516007, 'yhat_upper': 549.4044361673008}, {'ds': '2023-08-31', 'yhat': 552.4611207636743, 'yhat_lower': 549.0489462147005, 'yhat_upper': 555.6866757464729}, {'ds': '2023-12-31', 'yhat': 572.5469049227545, 'yhat_lower': 569.468001123428, 'yhat_upper': 575.7082572971871}]}\n",
      "status res: 200\n",
      "respuesta servidor: {\"message\":\"se guardo\"}\n"
     ]
    }
   ],
   "source": [
    "\n",
    "data = {\"datos2\": args2.astype({'ds': 'str'}).to_dict(orient='records')}\n",
    "print(\"enviar\", data )\n",
    "\n",
    "reponse = requests.post(url=url,json=data)\n",
    "print(\"status res:\",reponse.status_code)\n",
    "print(\"respuesta servidor:\", reponse.text)"
   ]
  },
  {
   "cell_type": "code",
   "execution_count": 87,
   "metadata": {},
   "outputs": [
    {
     "name": "stdout",
     "output_type": "stream",
     "text": [
      "enviar {'datos3': [{'ds': '2018-01-31', 'yhat': 416.3563120549627, 'yhat_lower': 398.4930235762413, 'yhat_upper': 433.2382004698355}, {'ds': '2018-02-28', 'yhat': 419.47524653143824, 'yhat_lower': 401.9821124208546, 'yhat_upper': 436.1635067441071}, {'ds': '2018-03-31', 'yhat': 421.0504221375666, 'yhat_lower': 404.66088463257375, 'yhat_upper': 438.50409307759725}, {'ds': '2018-04-30', 'yhat': 429.53236533932676, 'yhat_lower': 412.6763323459217, 'yhat_upper': 446.7832012450736}, {'ds': '2018-05-31', 'yhat': 430.49252510995666, 'yhat_lower': 414.1318976045944, 'yhat_upper': 447.6472336270204}, {'ds': '2018-06-30', 'yhat': 431.02926765476155, 'yhat_lower': 412.5055587730349, 'yhat_upper': 448.86284186839976}, {'ds': '2018-07-31', 'yhat': 432.8869011619841, 'yhat_lower': 415.8100899183391, 'yhat_upper': 450.0258589911235}, {'ds': '2018-09-30', 'yhat': 458.97514695591553, 'yhat_lower': 439.64958575557773, 'yhat_upper': 477.0331060663526}, {'ds': '2018-10-31', 'yhat': 465.12783449365554, 'yhat_lower': 447.4376009891081, 'yhat_upper': 481.7784428590445}, {'ds': '2018-11-30', 'yhat': 468.87694131150903, 'yhat_lower': 450.8735224404997, 'yhat_upper': 484.8223693862307}, {'ds': '2018-12-31', 'yhat': 465.96984999953645, 'yhat_lower': 448.75803909889675, 'yhat_upper': 484.14168555795084}, {'ds': '2019-01-31', 'yhat': 472.48316854612904, 'yhat_lower': 453.912276187435, 'yhat_upper': 488.33850766920364}, {'ds': '2019-02-28', 'yhat': 484.83269660742144, 'yhat_lower': 467.5287900966864, 'yhat_upper': 501.01799831996186}, {'ds': '2019-03-31', 'yhat': 480.1881490046432, 'yhat_lower': 463.2545786063578, 'yhat_upper': 498.52801491793554}, {'ds': '2019-04-30', 'yhat': 493.4590715964126, 'yhat_lower': 476.928281838042, 'yhat_upper': 510.87569855117425}, {'ds': '2019-05-31', 'yhat': 493.5868853990743, 'yhat_lower': 476.2012838758948, 'yhat_upper': 510.93810998874216}, {'ds': '2019-06-30', 'yhat': 491.3494490105676, 'yhat_lower': 472.89083196595817, 'yhat_upper': 509.3890870211033}, {'ds': '2019-07-31', 'yhat': 486.7746997013345, 'yhat_lower': 470.3522160069523, 'yhat_upper': 504.25318824753253}, {'ds': '2019-08-31', 'yhat': 495.75907909171565, 'yhat_lower': 478.5707131087141, 'yhat_upper': 513.3490921876083}, {'ds': '2019-09-30', 'yhat': 524.5802124739647, 'yhat_lower': 508.47838130333764, 'yhat_upper': 543.2951162301874}, {'ds': '2019-10-31', 'yhat': 529.6161920279661, 'yhat_lower': 511.50721416783455, 'yhat_upper': 546.8661375386637}, {'ds': '2019-11-30', 'yhat': 532.6065529091501, 'yhat_lower': 514.9011869426417, 'yhat_upper': 549.3527182345301}, {'ds': '2019-12-31', 'yhat': 523.6618838317077, 'yhat_lower': 506.30350092813796, 'yhat_upper': 541.6432195543894}, {'ds': '2020-01-31', 'yhat': 534.7072374930317, 'yhat_lower': 517.6385733603939, 'yhat_upper': 552.4979493665345}, {'ds': '2020-02-29', 'yhat': 541.0042444966405, 'yhat_lower': 523.8722038084638, 'yhat_upper': 558.0244236416492}, {'ds': '2020-03-31', 'yhat': 557.859219963088, 'yhat_lower': 541.6230448237483, 'yhat_upper': 575.1424766180236}, {'ds': '2020-04-30', 'yhat': 559.6774160203822, 'yhat_lower': 542.6036185903343, 'yhat_upper': 575.722202345586}, {'ds': '2020-05-31', 'yhat': 564.9745528227588, 'yhat_lower': 547.6401322329767, 'yhat_upper': 582.7249252944185}, {'ds': '2020-06-30', 'yhat': 573.7643778009118, 'yhat_lower': 557.0266869476256, 'yhat_upper': 590.3613555454957}, {'ds': '2020-07-31', 'yhat': 591.8839386484913, 'yhat_lower': 574.2216995389459, 'yhat_upper': 609.2726664970369}, {'ds': '2020-08-31', 'yhat': 591.7073125801389, 'yhat_lower': 573.8388386135961, 'yhat_upper': 610.1586215560488}, {'ds': '2020-09-30', 'yhat': 600.8735354978976, 'yhat_lower': 583.1786041309952, 'yhat_upper': 616.9420303388348}, {'ds': '2020-10-31', 'yhat': 611.7924726841572, 'yhat_lower': 594.1001846466863, 'yhat_upper': 630.3793516078792}, {'ds': '2020-11-30', 'yhat': 619.5030229797679, 'yhat_lower': 602.8919301281804, 'yhat_upper': 637.2803261860912}, {'ds': '2020-12-31', 'yhat': 637.8250036433899, 'yhat_lower': 619.5210379296053, 'yhat_upper': 654.7810875243852}, {'ds': '2021-01-31', 'yhat': 644.9564851858268, 'yhat_lower': 627.5547393393877, 'yhat_upper': 662.3048671349512}, {'ds': '2021-02-28', 'yhat': 641.5340185530683, 'yhat_lower': 623.5507190242685, 'yhat_upper': 660.091853500403}, {'ds': '2021-03-31', 'yhat': 652.284736592565, 'yhat_lower': 634.0252518479887, 'yhat_upper': 669.3369032292723}, {'ds': '2021-04-30', 'yhat': 658.8987039227429, 'yhat_lower': 640.3743644813183, 'yhat_upper': 675.78904311962}, {'ds': '2021-05-31', 'yhat': 663.5981460676771, 'yhat_lower': 645.4919096830426, 'yhat_upper': 681.3365496476218}, {'ds': '2021-06-30', 'yhat': 669.7634792409187, 'yhat_lower': 652.0605394328792, 'yhat_upper': 687.7167360285117}, {'ds': '2021-07-31', 'yhat': 681.2077380641298, 'yhat_lower': 662.9455788241942, 'yhat_upper': 700.0557540616152}, {'ds': '2021-08-31', 'yhat': 684.8963154346554, 'yhat_lower': 667.3236856199857, 'yhat_upper': 702.8178395038589}, {'ds': '2021-09-30', 'yhat': 701.6655286905356, 'yhat_lower': 683.8176145249223, 'yhat_upper': 718.5289276909758}, {'ds': '2021-10-31', 'yhat': 711.8052535641938, 'yhat_lower': 694.4636654766332, 'yhat_upper': 729.9126134372792}, {'ds': '2021-11-30', 'yhat': 720.1360867704027, 'yhat_lower': 702.0340172909775, 'yhat_upper': 738.3290617476586}, {'ds': '2021-12-31', 'yhat': 730.4264200608744, 'yhat_lower': 712.3633846515154, 'yhat_upper': 748.1887690658815}, {'ds': '2022-01-31', 'yhat': 739.7415322854961, 'yhat_lower': 722.0151493966194, 'yhat_upper': 756.7134843564928}, {'ds': '2022-02-28', 'yhat': 746.5709930552514, 'yhat_lower': 728.8475362901986, 'yhat_upper': 764.1508193616014}, {'ds': '2022-03-31', 'yhat': 752.2563240452293, 'yhat_lower': 733.4323478338329, 'yhat_upper': 768.9412155900303}, {'ds': '2022-04-30', 'yhat': 764.7158369719191, 'yhat_lower': 746.4760733575642, 'yhat_upper': 781.9392184906111}, {'ds': '2022-05-31', 'yhat': 769.7861521345815, 'yhat_lower': 752.4847367124166, 'yhat_upper': 786.3306118271737}, {'ds': '2022-06-30', 'yhat': 774.3004644126231, 'yhat_lower': 756.3835155064703, 'yhat_upper': 793.924162821364}, {'ds': '2022-07-31', 'yhat': 780.2682533064441, 'yhat_lower': 762.4624451120726, 'yhat_upper': 798.9858428925779}, {'ds': '2022-08-31', 'yhat': 789.1028199517074, 'yhat_lower': 771.6934930872324, 'yhat_upper': 805.6320949119608}, {'ds': '2022-09-30', 'yhat': 814.4442242254645, 'yhat_lower': 796.7731854483671, 'yhat_upper': 830.1514243136755}, {'ds': '2022-10-31', 'yhat': 824.7070671544977, 'yhat_lower': 806.7601148589793, 'yhat_upper': 843.0228518907351}, {'ds': '2022-11-30', 'yhat': 832.4337437100535, 'yhat_lower': 814.4758962424004, 'yhat_upper': 849.7646703563518}, {'ds': '2022-12-31', 'yhat': 833.6368077936788, 'yhat_lower': 814.7354502768503, 'yhat_upper': 850.8347250445379}, {'ds': '2023-01-31', 'yhat': 844.2602817351528, 'yhat_lower': 827.9886863026654, 'yhat_upper': 861.7713501274649}, {'ds': '2023-02-28', 'yhat': 860.3222082175301, 'yhat_lower': 842.8851045573904, 'yhat_upper': 877.3468275433573}, {'ds': '2023-03-31', 'yhat': 859.787816012476, 'yhat_lower': 842.4024165319066, 'yhat_upper': 877.3503263340936}, {'ds': '2023-04-30', 'yhat': 877.0363083440511, 'yhat_lower': 860.2234283577399, 'yhat_upper': 893.7579380485759}, {'ds': '2023-05-31', 'yhat': 881.2742775444779, 'yhat_lower': 863.614235396898, 'yhat_upper': 897.4045623262907}, {'ds': '2023-06-30', 'yhat': 883.0144108898645, 'yhat_lower': 865.3257875864464, 'yhat_upper': 901.046568311796}, {'ds': '2023-07-31', 'yhat': 882.549816972351, 'yhat_lower': 865.4376053305061, 'yhat_upper': 899.8622882237939}, {'ds': '2023-08-31', 'yhat': 895.6443512411097, 'yhat_lower': 879.4109135131858, 'yhat_upper': 912.8195396281171}, {'ds': '2023-12-31', 'yhat': 936.7251411537048, 'yhat_lower': 918.3146242829259, 'yhat_upper': 954.6154907510571}]}\n",
      "status res: 200\n",
      "respuesta servidor: {\"message\":\"se guardo\"}\n"
     ]
    }
   ],
   "source": [
    "\n",
    "data = {\"datos3\": args3.astype({'ds': 'str'}).to_dict(orient='records')  }\n",
    "print(\"enviar\", data )\n",
    "\n",
    "reponse = requests.post(url=url,json=data)\n",
    "print(\"status res:\",reponse.status_code)\n",
    "print(\"respuesta servidor:\", reponse.text)"
   ]
  }
 ],
 "metadata": {
  "kernelspec": {
   "display_name": "Python 3",
   "language": "python",
   "name": "python3"
  },
  "language_info": {
   "codemirror_mode": {
    "name": "ipython",
    "version": 3
   },
   "file_extension": ".py",
   "mimetype": "text/x-python",
   "name": "python",
   "nbconvert_exporter": "python",
   "pygments_lexer": "ipython3",
   "version": "3.11.6"
  }
 },
 "nbformat": 4,
 "nbformat_minor": 2
}
