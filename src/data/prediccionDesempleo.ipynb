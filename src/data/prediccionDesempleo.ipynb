{
 "cells": [
  {
   "cell_type": "code",
   "execution_count": 1,
   "metadata": {},
   "outputs": [],
   "source": [
    "import pandas as pd\n",
    "from prophet import Prophet\n",
    "import plotly.express as px\n",
    "import requests\n",
    "import json"
   ]
  },
  {
   "cell_type": "code",
   "execution_count": 3,
   "metadata": {},
   "outputs": [
    {
     "data": {
      "text/html": [
       "<div>\n",
       "<style scoped>\n",
       "    .dataframe tbody tr th:only-of-type {\n",
       "        vertical-align: middle;\n",
       "    }\n",
       "\n",
       "    .dataframe tbody tr th {\n",
       "        vertical-align: top;\n",
       "    }\n",
       "\n",
       "    .dataframe thead th {\n",
       "        text-align: right;\n",
       "    }\n",
       "</style>\n",
       "<table border=\"1\" class=\"dataframe\">\n",
       "  <thead>\n",
       "    <tr style=\"text-align: right;\">\n",
       "      <th></th>\n",
       "      <th>Año-Mes (AAAA-MM)</th>\n",
       "      <th>Tasa de ocupación (%)</th>\n",
       "      <th>Tasa de desempleo (%)</th>\n",
       "    </tr>\n",
       "  </thead>\n",
       "  <tbody>\n",
       "    <tr>\n",
       "      <th>0</th>\n",
       "      <td>2023-08</td>\n",
       "      <td>58.465340</td>\n",
       "      <td>9.277372</td>\n",
       "    </tr>\n",
       "    <tr>\n",
       "      <th>1</th>\n",
       "      <td>2023-07</td>\n",
       "      <td>58.591552</td>\n",
       "      <td>9.572851</td>\n",
       "    </tr>\n",
       "    <tr>\n",
       "      <th>2</th>\n",
       "      <td>2023-06</td>\n",
       "      <td>58.324317</td>\n",
       "      <td>9.342310</td>\n",
       "    </tr>\n",
       "    <tr>\n",
       "      <th>3</th>\n",
       "      <td>2023-05</td>\n",
       "      <td>57.168700</td>\n",
       "      <td>10.475100</td>\n",
       "    </tr>\n",
       "    <tr>\n",
       "      <th>4</th>\n",
       "      <td>2023-04</td>\n",
       "      <td>57.679106</td>\n",
       "      <td>10.724700</td>\n",
       "    </tr>\n",
       "  </tbody>\n",
       "</table>\n",
       "</div>"
      ],
      "text/plain": [
       "  Año-Mes (AAAA-MM)  Tasa de ocupación (%)  Tasa de desempleo (%)\n",
       "0           2023-08              58.465340               9.277372\n",
       "1           2023-07              58.591552               9.572851\n",
       "2           2023-06              58.324317               9.342310\n",
       "3           2023-05              57.168700              10.475100\n",
       "4           2023-04              57.679106              10.724700"
      ]
     },
     "execution_count": 3,
     "metadata": {},
     "output_type": "execute_result"
    }
   ],
   "source": [
    "df = pd.read_excel(r\"C:\\Users\\LEONARDO ACUÑA\\Documents\\6 semestre\\MyS\\Proyecto-Monitoreo\\Backend\\src\\data\\DESEMPLEO.xlsx\")\n",
    "df.head()"
   ]
  },
  {
   "cell_type": "code",
   "execution_count": 15,
   "metadata": {},
   "outputs": [
    {
     "name": "stdout",
     "output_type": "stream",
     "text": [
      "0     202308\n",
      "1     202307\n",
      "2     202306\n",
      "3     202305\n",
      "4     202304\n",
      "       ...  \n",
      "63    201805\n",
      "64    201804\n",
      "65    201803\n",
      "66    201802\n",
      "67    201801\n",
      "Name: Año-Mes (AAAA-MM), Length: 68, dtype: object\n"
     ]
    }
   ],
   "source": [
    "\n",
    "df['Año-Mes (AAAA-MM)'] = df['Año-Mes (AAAA-MM)'].str.replace('-', '')  # Elimina el signo menos\n",
    "print(df['Año-Mes (AAAA-MM)'])\n",
    "# Convierte la columna a enteros\n"
   ]
  },
  {
   "cell_type": "code",
   "execution_count": 16,
   "metadata": {},
   "outputs": [],
   "source": [
    "# Convierte la columna 'Año(aaaa)-Mes(mm)' a datetime\n",
    "df['ds'] = pd.to_datetime(df['Año-Mes (AAAA-MM)'], format='%Y%m')\n",
    "\n",
    "# Ajusta la columna 'ds' para que contenga el último día de cada fecha\n",
    "df['ds'] = df['ds'] + pd.offsets.MonthEnd(0)\n",
    "df['y'] = pd.to_numeric(df['Tasa de desempleo (%)'])\n",
    "print"
   ]
  },
  {
   "cell_type": "code",
   "execution_count": 18,
   "metadata": {},
   "outputs": [
    {
     "name": "stdout",
     "output_type": "stream",
     "text": [
      "2022-11-30 00:00:00\n"
     ]
    }
   ],
   "source": [
    "print(df['ds'][9])"
   ]
  },
  {
   "cell_type": "code",
   "execution_count": 19,
   "metadata": {},
   "outputs": [
    {
     "data": {
      "text/plain": [
       "(68, 6)"
      ]
     },
     "execution_count": 19,
     "metadata": {},
     "output_type": "execute_result"
    }
   ],
   "source": [
    "df.shape"
   ]
  },
  {
   "cell_type": "code",
   "execution_count": 20,
   "metadata": {},
   "outputs": [
    {
     "data": {
      "text/plain": [
       "Año-Mes (AAAA-MM)        0\n",
       "Tasa de ocupación (%)    0\n",
       "Tasa de desempleo (%)    0\n",
       "Año(aaaa)-Mes(mm)        0\n",
       "ds                       0\n",
       "y                        0\n",
       "dtype: int64"
      ]
     },
     "execution_count": 20,
     "metadata": {},
     "output_type": "execute_result"
    }
   ],
   "source": [
    "df.isnull().sum() "
   ]
  },
  {
   "cell_type": "code",
   "execution_count": 21,
   "metadata": {},
   "outputs": [
    {
     "data": {
      "application/vnd.plotly.v1+json": {
       "config": {
        "plotlyServerURL": "https://plot.ly"
       },
       "data": [
        {
         "hovertemplate": "ds=%{x}<br>y=%{y}<extra></extra>",
         "legendgroup": "",
         "line": {
          "color": "#636efa",
          "dash": "solid"
         },
         "marker": {
          "symbol": "circle"
         },
         "mode": "lines",
         "name": "",
         "orientation": "v",
         "showlegend": false,
         "type": "scatter",
         "x": [
          "2023-08-31T00:00:00",
          "2023-07-31T00:00:00",
          "2023-06-30T00:00:00",
          "2023-05-31T00:00:00",
          "2023-04-30T00:00:00",
          "2023-03-31T00:00:00",
          "2023-02-28T00:00:00",
          "2023-01-31T00:00:00",
          "2022-12-31T00:00:00",
          "2022-11-30T00:00:00",
          "2022-10-31T00:00:00",
          "2022-09-30T00:00:00",
          "2022-08-31T00:00:00",
          "2022-07-31T00:00:00",
          "2022-06-30T00:00:00",
          "2022-05-31T00:00:00",
          "2022-04-30T00:00:00",
          "2022-03-31T00:00:00",
          "2022-02-28T00:00:00",
          "2022-01-31T00:00:00",
          "2021-12-31T00:00:00",
          "2021-11-30T00:00:00",
          "2021-10-31T00:00:00",
          "2021-09-30T00:00:00",
          "2021-08-31T00:00:00",
          "2021-07-31T00:00:00",
          "2021-06-30T00:00:00",
          "2021-05-31T00:00:00",
          "2021-04-30T00:00:00",
          "2021-03-31T00:00:00",
          "2021-02-28T00:00:00",
          "2021-01-31T00:00:00",
          "2020-12-31T00:00:00",
          "2020-11-30T00:00:00",
          "2020-10-31T00:00:00",
          "2020-09-30T00:00:00",
          "2020-08-31T00:00:00",
          "2020-07-31T00:00:00",
          "2020-06-30T00:00:00",
          "2020-05-31T00:00:00",
          "2020-04-30T00:00:00",
          "2020-03-31T00:00:00",
          "2020-02-29T00:00:00",
          "2020-01-31T00:00:00",
          "2019-12-31T00:00:00",
          "2019-11-30T00:00:00",
          "2019-10-31T00:00:00",
          "2019-09-30T00:00:00",
          "2019-08-31T00:00:00",
          "2019-07-31T00:00:00",
          "2019-06-30T00:00:00",
          "2019-05-31T00:00:00",
          "2019-04-30T00:00:00",
          "2019-03-31T00:00:00",
          "2019-02-28T00:00:00",
          "2019-01-31T00:00:00",
          "2018-12-31T00:00:00",
          "2018-11-30T00:00:00",
          "2018-10-31T00:00:00",
          "2018-09-30T00:00:00",
          "2018-08-31T00:00:00",
          "2018-07-31T00:00:00",
          "2018-06-30T00:00:00",
          "2018-05-31T00:00:00",
          "2018-04-30T00:00:00",
          "2018-03-31T00:00:00",
          "2018-02-28T00:00:00",
          "2018-01-31T00:00:00"
         ],
         "xaxis": "x",
         "y": [
          9.277371999,
          9.572850564,
          9.342309621,
          10.4751,
          10.724700483,
          10.032543955,
          11.353126106,
          13.704360068,
          10.272678774,
          9.500757733,
          9.721029957,
          10.748438413,
          10.63127651,
          10.988923636,
          11.261201224,
          10.648261518,
          11.168465857,
          12.121232557,
          12.905169722,
          14.647251143,
          11.096493065,
          11.533057524,
          11.995241041,
          11.961303547,
          12.861392996,
          13.058523089,
          14.646591578,
          15.204204747,
          15.488034242,
          14.725529465,
          15.585196369,
          17.563265669,
          13.9142,
          13.9128,
          15.2814,
          16.2928,
          17.4427,
          20.9147,
          20.3591,
          21.972,
          20.4853,
          13.1828,
          12.8131,
          13.4585,
          9.9497,
          9.6186,
          10.1236,
          10.8003,
          11.1973,
          11.2807,
          9.7229,
          10.9519,
          10.6566,
          11.1814,
          12.0926,
          13.0752,
          9.9891,
          8.9905,
          9.3615,
          9.6707,
          9.4292,
          10.0423,
          9.3085,
          9.9795,
          9.7292,
          9.7716,
          11.1882,
          12.1374
         ],
         "yaxis": "y"
        }
       ],
       "layout": {
        "legend": {
         "tracegroupgap": 0
        },
        "template": {
         "data": {
          "bar": [
           {
            "error_x": {
             "color": "#2a3f5f"
            },
            "error_y": {
             "color": "#2a3f5f"
            },
            "marker": {
             "line": {
              "color": "#E5ECF6",
              "width": 0.5
             },
             "pattern": {
              "fillmode": "overlay",
              "size": 10,
              "solidity": 0.2
             }
            },
            "type": "bar"
           }
          ],
          "barpolar": [
           {
            "marker": {
             "line": {
              "color": "#E5ECF6",
              "width": 0.5
             },
             "pattern": {
              "fillmode": "overlay",
              "size": 10,
              "solidity": 0.2
             }
            },
            "type": "barpolar"
           }
          ],
          "carpet": [
           {
            "aaxis": {
             "endlinecolor": "#2a3f5f",
             "gridcolor": "white",
             "linecolor": "white",
             "minorgridcolor": "white",
             "startlinecolor": "#2a3f5f"
            },
            "baxis": {
             "endlinecolor": "#2a3f5f",
             "gridcolor": "white",
             "linecolor": "white",
             "minorgridcolor": "white",
             "startlinecolor": "#2a3f5f"
            },
            "type": "carpet"
           }
          ],
          "choropleth": [
           {
            "colorbar": {
             "outlinewidth": 0,
             "ticks": ""
            },
            "type": "choropleth"
           }
          ],
          "contour": [
           {
            "colorbar": {
             "outlinewidth": 0,
             "ticks": ""
            },
            "colorscale": [
             [
              0,
              "#0d0887"
             ],
             [
              0.1111111111111111,
              "#46039f"
             ],
             [
              0.2222222222222222,
              "#7201a8"
             ],
             [
              0.3333333333333333,
              "#9c179e"
             ],
             [
              0.4444444444444444,
              "#bd3786"
             ],
             [
              0.5555555555555556,
              "#d8576b"
             ],
             [
              0.6666666666666666,
              "#ed7953"
             ],
             [
              0.7777777777777778,
              "#fb9f3a"
             ],
             [
              0.8888888888888888,
              "#fdca26"
             ],
             [
              1,
              "#f0f921"
             ]
            ],
            "type": "contour"
           }
          ],
          "contourcarpet": [
           {
            "colorbar": {
             "outlinewidth": 0,
             "ticks": ""
            },
            "type": "contourcarpet"
           }
          ],
          "heatmap": [
           {
            "colorbar": {
             "outlinewidth": 0,
             "ticks": ""
            },
            "colorscale": [
             [
              0,
              "#0d0887"
             ],
             [
              0.1111111111111111,
              "#46039f"
             ],
             [
              0.2222222222222222,
              "#7201a8"
             ],
             [
              0.3333333333333333,
              "#9c179e"
             ],
             [
              0.4444444444444444,
              "#bd3786"
             ],
             [
              0.5555555555555556,
              "#d8576b"
             ],
             [
              0.6666666666666666,
              "#ed7953"
             ],
             [
              0.7777777777777778,
              "#fb9f3a"
             ],
             [
              0.8888888888888888,
              "#fdca26"
             ],
             [
              1,
              "#f0f921"
             ]
            ],
            "type": "heatmap"
           }
          ],
          "heatmapgl": [
           {
            "colorbar": {
             "outlinewidth": 0,
             "ticks": ""
            },
            "colorscale": [
             [
              0,
              "#0d0887"
             ],
             [
              0.1111111111111111,
              "#46039f"
             ],
             [
              0.2222222222222222,
              "#7201a8"
             ],
             [
              0.3333333333333333,
              "#9c179e"
             ],
             [
              0.4444444444444444,
              "#bd3786"
             ],
             [
              0.5555555555555556,
              "#d8576b"
             ],
             [
              0.6666666666666666,
              "#ed7953"
             ],
             [
              0.7777777777777778,
              "#fb9f3a"
             ],
             [
              0.8888888888888888,
              "#fdca26"
             ],
             [
              1,
              "#f0f921"
             ]
            ],
            "type": "heatmapgl"
           }
          ],
          "histogram": [
           {
            "marker": {
             "pattern": {
              "fillmode": "overlay",
              "size": 10,
              "solidity": 0.2
             }
            },
            "type": "histogram"
           }
          ],
          "histogram2d": [
           {
            "colorbar": {
             "outlinewidth": 0,
             "ticks": ""
            },
            "colorscale": [
             [
              0,
              "#0d0887"
             ],
             [
              0.1111111111111111,
              "#46039f"
             ],
             [
              0.2222222222222222,
              "#7201a8"
             ],
             [
              0.3333333333333333,
              "#9c179e"
             ],
             [
              0.4444444444444444,
              "#bd3786"
             ],
             [
              0.5555555555555556,
              "#d8576b"
             ],
             [
              0.6666666666666666,
              "#ed7953"
             ],
             [
              0.7777777777777778,
              "#fb9f3a"
             ],
             [
              0.8888888888888888,
              "#fdca26"
             ],
             [
              1,
              "#f0f921"
             ]
            ],
            "type": "histogram2d"
           }
          ],
          "histogram2dcontour": [
           {
            "colorbar": {
             "outlinewidth": 0,
             "ticks": ""
            },
            "colorscale": [
             [
              0,
              "#0d0887"
             ],
             [
              0.1111111111111111,
              "#46039f"
             ],
             [
              0.2222222222222222,
              "#7201a8"
             ],
             [
              0.3333333333333333,
              "#9c179e"
             ],
             [
              0.4444444444444444,
              "#bd3786"
             ],
             [
              0.5555555555555556,
              "#d8576b"
             ],
             [
              0.6666666666666666,
              "#ed7953"
             ],
             [
              0.7777777777777778,
              "#fb9f3a"
             ],
             [
              0.8888888888888888,
              "#fdca26"
             ],
             [
              1,
              "#f0f921"
             ]
            ],
            "type": "histogram2dcontour"
           }
          ],
          "mesh3d": [
           {
            "colorbar": {
             "outlinewidth": 0,
             "ticks": ""
            },
            "type": "mesh3d"
           }
          ],
          "parcoords": [
           {
            "line": {
             "colorbar": {
              "outlinewidth": 0,
              "ticks": ""
             }
            },
            "type": "parcoords"
           }
          ],
          "pie": [
           {
            "automargin": true,
            "type": "pie"
           }
          ],
          "scatter": [
           {
            "fillpattern": {
             "fillmode": "overlay",
             "size": 10,
             "solidity": 0.2
            },
            "type": "scatter"
           }
          ],
          "scatter3d": [
           {
            "line": {
             "colorbar": {
              "outlinewidth": 0,
              "ticks": ""
             }
            },
            "marker": {
             "colorbar": {
              "outlinewidth": 0,
              "ticks": ""
             }
            },
            "type": "scatter3d"
           }
          ],
          "scattercarpet": [
           {
            "marker": {
             "colorbar": {
              "outlinewidth": 0,
              "ticks": ""
             }
            },
            "type": "scattercarpet"
           }
          ],
          "scattergeo": [
           {
            "marker": {
             "colorbar": {
              "outlinewidth": 0,
              "ticks": ""
             }
            },
            "type": "scattergeo"
           }
          ],
          "scattergl": [
           {
            "marker": {
             "colorbar": {
              "outlinewidth": 0,
              "ticks": ""
             }
            },
            "type": "scattergl"
           }
          ],
          "scattermapbox": [
           {
            "marker": {
             "colorbar": {
              "outlinewidth": 0,
              "ticks": ""
             }
            },
            "type": "scattermapbox"
           }
          ],
          "scatterpolar": [
           {
            "marker": {
             "colorbar": {
              "outlinewidth": 0,
              "ticks": ""
             }
            },
            "type": "scatterpolar"
           }
          ],
          "scatterpolargl": [
           {
            "marker": {
             "colorbar": {
              "outlinewidth": 0,
              "ticks": ""
             }
            },
            "type": "scatterpolargl"
           }
          ],
          "scatterternary": [
           {
            "marker": {
             "colorbar": {
              "outlinewidth": 0,
              "ticks": ""
             }
            },
            "type": "scatterternary"
           }
          ],
          "surface": [
           {
            "colorbar": {
             "outlinewidth": 0,
             "ticks": ""
            },
            "colorscale": [
             [
              0,
              "#0d0887"
             ],
             [
              0.1111111111111111,
              "#46039f"
             ],
             [
              0.2222222222222222,
              "#7201a8"
             ],
             [
              0.3333333333333333,
              "#9c179e"
             ],
             [
              0.4444444444444444,
              "#bd3786"
             ],
             [
              0.5555555555555556,
              "#d8576b"
             ],
             [
              0.6666666666666666,
              "#ed7953"
             ],
             [
              0.7777777777777778,
              "#fb9f3a"
             ],
             [
              0.8888888888888888,
              "#fdca26"
             ],
             [
              1,
              "#f0f921"
             ]
            ],
            "type": "surface"
           }
          ],
          "table": [
           {
            "cells": {
             "fill": {
              "color": "#EBF0F8"
             },
             "line": {
              "color": "white"
             }
            },
            "header": {
             "fill": {
              "color": "#C8D4E3"
             },
             "line": {
              "color": "white"
             }
            },
            "type": "table"
           }
          ]
         },
         "layout": {
          "annotationdefaults": {
           "arrowcolor": "#2a3f5f",
           "arrowhead": 0,
           "arrowwidth": 1
          },
          "autotypenumbers": "strict",
          "coloraxis": {
           "colorbar": {
            "outlinewidth": 0,
            "ticks": ""
           }
          },
          "colorscale": {
           "diverging": [
            [
             0,
             "#8e0152"
            ],
            [
             0.1,
             "#c51b7d"
            ],
            [
             0.2,
             "#de77ae"
            ],
            [
             0.3,
             "#f1b6da"
            ],
            [
             0.4,
             "#fde0ef"
            ],
            [
             0.5,
             "#f7f7f7"
            ],
            [
             0.6,
             "#e6f5d0"
            ],
            [
             0.7,
             "#b8e186"
            ],
            [
             0.8,
             "#7fbc41"
            ],
            [
             0.9,
             "#4d9221"
            ],
            [
             1,
             "#276419"
            ]
           ],
           "sequential": [
            [
             0,
             "#0d0887"
            ],
            [
             0.1111111111111111,
             "#46039f"
            ],
            [
             0.2222222222222222,
             "#7201a8"
            ],
            [
             0.3333333333333333,
             "#9c179e"
            ],
            [
             0.4444444444444444,
             "#bd3786"
            ],
            [
             0.5555555555555556,
             "#d8576b"
            ],
            [
             0.6666666666666666,
             "#ed7953"
            ],
            [
             0.7777777777777778,
             "#fb9f3a"
            ],
            [
             0.8888888888888888,
             "#fdca26"
            ],
            [
             1,
             "#f0f921"
            ]
           ],
           "sequentialminus": [
            [
             0,
             "#0d0887"
            ],
            [
             0.1111111111111111,
             "#46039f"
            ],
            [
             0.2222222222222222,
             "#7201a8"
            ],
            [
             0.3333333333333333,
             "#9c179e"
            ],
            [
             0.4444444444444444,
             "#bd3786"
            ],
            [
             0.5555555555555556,
             "#d8576b"
            ],
            [
             0.6666666666666666,
             "#ed7953"
            ],
            [
             0.7777777777777778,
             "#fb9f3a"
            ],
            [
             0.8888888888888888,
             "#fdca26"
            ],
            [
             1,
             "#f0f921"
            ]
           ]
          },
          "colorway": [
           "#636efa",
           "#EF553B",
           "#00cc96",
           "#ab63fa",
           "#FFA15A",
           "#19d3f3",
           "#FF6692",
           "#B6E880",
           "#FF97FF",
           "#FECB52"
          ],
          "font": {
           "color": "#2a3f5f"
          },
          "geo": {
           "bgcolor": "white",
           "lakecolor": "white",
           "landcolor": "#E5ECF6",
           "showlakes": true,
           "showland": true,
           "subunitcolor": "white"
          },
          "hoverlabel": {
           "align": "left"
          },
          "hovermode": "closest",
          "mapbox": {
           "style": "light"
          },
          "paper_bgcolor": "white",
          "plot_bgcolor": "#E5ECF6",
          "polar": {
           "angularaxis": {
            "gridcolor": "white",
            "linecolor": "white",
            "ticks": ""
           },
           "bgcolor": "#E5ECF6",
           "radialaxis": {
            "gridcolor": "white",
            "linecolor": "white",
            "ticks": ""
           }
          },
          "scene": {
           "xaxis": {
            "backgroundcolor": "#E5ECF6",
            "gridcolor": "white",
            "gridwidth": 2,
            "linecolor": "white",
            "showbackground": true,
            "ticks": "",
            "zerolinecolor": "white"
           },
           "yaxis": {
            "backgroundcolor": "#E5ECF6",
            "gridcolor": "white",
            "gridwidth": 2,
            "linecolor": "white",
            "showbackground": true,
            "ticks": "",
            "zerolinecolor": "white"
           },
           "zaxis": {
            "backgroundcolor": "#E5ECF6",
            "gridcolor": "white",
            "gridwidth": 2,
            "linecolor": "white",
            "showbackground": true,
            "ticks": "",
            "zerolinecolor": "white"
           }
          },
          "shapedefaults": {
           "line": {
            "color": "#2a3f5f"
           }
          },
          "ternary": {
           "aaxis": {
            "gridcolor": "white",
            "linecolor": "white",
            "ticks": ""
           },
           "baxis": {
            "gridcolor": "white",
            "linecolor": "white",
            "ticks": ""
           },
           "bgcolor": "#E5ECF6",
           "caxis": {
            "gridcolor": "white",
            "linecolor": "white",
            "ticks": ""
           }
          },
          "title": {
           "x": 0.05
          },
          "xaxis": {
           "automargin": true,
           "gridcolor": "white",
           "linecolor": "white",
           "ticks": "",
           "title": {
            "standoff": 15
           },
           "zerolinecolor": "white",
           "zerolinewidth": 2
          },
          "yaxis": {
           "automargin": true,
           "gridcolor": "white",
           "linecolor": "white",
           "ticks": "",
           "title": {
            "standoff": 15
           },
           "zerolinecolor": "white",
           "zerolinewidth": 2
          }
         }
        },
        "title": {
         "text": "Desempleo 2018-2023-08"
        },
        "xaxis": {
         "anchor": "y",
         "domain": [
          0,
          1
         ],
         "title": {
          "text": "ds"
         }
        },
        "yaxis": {
         "anchor": "x",
         "domain": [
          0,
          1
         ],
         "title": {
          "text": "y"
         }
        }
       }
      }
     },
     "metadata": {},
     "output_type": "display_data"
    }
   ],
   "source": [
    "\n",
    "px.line(df, x='ds' , y='y' ,title='Desempleo 2018-2023-08')"
   ]
  },
  {
   "cell_type": "code",
   "execution_count": 22,
   "metadata": {},
   "outputs": [
    {
     "name": "stderr",
     "output_type": "stream",
     "text": [
      "19:11:40 - cmdstanpy - INFO - Chain [1] start processing\n",
      "19:11:41 - cmdstanpy - INFO - Chain [1] done processing\n"
     ]
    },
    {
     "data": {
      "text/plain": [
       "<prophet.forecaster.Prophet at 0x13131e94f40>"
      ]
     },
     "execution_count": 22,
     "metadata": {},
     "output_type": "execute_result"
    }
   ],
   "source": [
    "#metodo de modelado \n",
    "m=Prophet()\n",
    "m.fit(df)"
   ]
  },
  {
   "cell_type": "code",
   "execution_count": 23,
   "metadata": {},
   "outputs": [
    {
     "data": {
      "text/html": [
       "<div>\n",
       "<style scoped>\n",
       "    .dataframe tbody tr th:only-of-type {\n",
       "        vertical-align: middle;\n",
       "    }\n",
       "\n",
       "    .dataframe tbody tr th {\n",
       "        vertical-align: top;\n",
       "    }\n",
       "\n",
       "    .dataframe thead th {\n",
       "        text-align: right;\n",
       "    }\n",
       "</style>\n",
       "<table border=\"1\" class=\"dataframe\">\n",
       "  <thead>\n",
       "    <tr style=\"text-align: right;\">\n",
       "      <th></th>\n",
       "      <th>ds</th>\n",
       "    </tr>\n",
       "  </thead>\n",
       "  <tbody>\n",
       "    <tr>\n",
       "      <th>68</th>\n",
       "      <td>2023-09-30</td>\n",
       "    </tr>\n",
       "    <tr>\n",
       "      <th>69</th>\n",
       "      <td>2023-10-31</td>\n",
       "    </tr>\n",
       "    <tr>\n",
       "      <th>70</th>\n",
       "      <td>2023-11-30</td>\n",
       "    </tr>\n",
       "    <tr>\n",
       "      <th>71</th>\n",
       "      <td>2023-12-31</td>\n",
       "    </tr>\n",
       "    <tr>\n",
       "      <th>72</th>\n",
       "      <td>2024-01-31</td>\n",
       "    </tr>\n",
       "  </tbody>\n",
       "</table>\n",
       "</div>"
      ],
      "text/plain": [
       "           ds\n",
       "68 2023-09-30\n",
       "69 2023-10-31\n",
       "70 2023-11-30\n",
       "71 2023-12-31\n",
       "72 2024-01-31"
      ]
     },
     "execution_count": 23,
     "metadata": {},
     "output_type": "execute_result"
    }
   ],
   "source": [
    "future=m.make_future_dataframe(periods=5, freq='M')\n",
    "future.tail()"
   ]
  },
  {
   "cell_type": "code",
   "execution_count": 24,
   "metadata": {},
   "outputs": [
    {
     "data": {
      "text/html": [
       "<div>\n",
       "<style scoped>\n",
       "    .dataframe tbody tr th:only-of-type {\n",
       "        vertical-align: middle;\n",
       "    }\n",
       "\n",
       "    .dataframe tbody tr th {\n",
       "        vertical-align: top;\n",
       "    }\n",
       "\n",
       "    .dataframe thead th {\n",
       "        text-align: right;\n",
       "    }\n",
       "</style>\n",
       "<table border=\"1\" class=\"dataframe\">\n",
       "  <thead>\n",
       "    <tr style=\"text-align: right;\">\n",
       "      <th></th>\n",
       "      <th>ds</th>\n",
       "      <th>yhat</th>\n",
       "      <th>yhat_lower</th>\n",
       "      <th>yhat_upper</th>\n",
       "    </tr>\n",
       "  </thead>\n",
       "  <tbody>\n",
       "    <tr>\n",
       "      <th>0</th>\n",
       "      <td>2018-01-31</td>\n",
       "      <td>10.994778</td>\n",
       "      <td>9.007988</td>\n",
       "      <td>13.113786</td>\n",
       "    </tr>\n",
       "    <tr>\n",
       "      <th>1</th>\n",
       "      <td>2018-02-28</td>\n",
       "      <td>9.515354</td>\n",
       "      <td>7.507683</td>\n",
       "      <td>11.461428</td>\n",
       "    </tr>\n",
       "    <tr>\n",
       "      <th>2</th>\n",
       "      <td>2018-03-31</td>\n",
       "      <td>8.912175</td>\n",
       "      <td>6.795862</td>\n",
       "      <td>11.034215</td>\n",
       "    </tr>\n",
       "    <tr>\n",
       "      <th>3</th>\n",
       "      <td>2018-04-30</td>\n",
       "      <td>10.050595</td>\n",
       "      <td>8.142608</td>\n",
       "      <td>12.056581</td>\n",
       "    </tr>\n",
       "    <tr>\n",
       "      <th>4</th>\n",
       "      <td>2018-05-31</td>\n",
       "      <td>10.405750</td>\n",
       "      <td>8.428969</td>\n",
       "      <td>12.303096</td>\n",
       "    </tr>\n",
       "    <tr>\n",
       "      <th>...</th>\n",
       "      <td>...</td>\n",
       "      <td>...</td>\n",
       "      <td>...</td>\n",
       "      <td>...</td>\n",
       "    </tr>\n",
       "    <tr>\n",
       "      <th>68</th>\n",
       "      <td>2023-09-30</td>\n",
       "      <td>9.291878</td>\n",
       "      <td>7.136988</td>\n",
       "      <td>11.334052</td>\n",
       "    </tr>\n",
       "    <tr>\n",
       "      <th>69</th>\n",
       "      <td>2023-10-31</td>\n",
       "      <td>7.617098</td>\n",
       "      <td>5.579367</td>\n",
       "      <td>9.777572</td>\n",
       "    </tr>\n",
       "    <tr>\n",
       "      <th>70</th>\n",
       "      <td>2023-11-30</td>\n",
       "      <td>6.464252</td>\n",
       "      <td>4.549037</td>\n",
       "      <td>8.369361</td>\n",
       "    </tr>\n",
       "    <tr>\n",
       "      <th>71</th>\n",
       "      <td>2023-12-31</td>\n",
       "      <td>6.444190</td>\n",
       "      <td>4.482028</td>\n",
       "      <td>8.449517</td>\n",
       "    </tr>\n",
       "    <tr>\n",
       "      <th>72</th>\n",
       "      <td>2024-01-31</td>\n",
       "      <td>9.541715</td>\n",
       "      <td>7.512067</td>\n",
       "      <td>11.527060</td>\n",
       "    </tr>\n",
       "  </tbody>\n",
       "</table>\n",
       "<p>73 rows × 4 columns</p>\n",
       "</div>"
      ],
      "text/plain": [
       "           ds       yhat  yhat_lower  yhat_upper\n",
       "0  2018-01-31  10.994778    9.007988   13.113786\n",
       "1  2018-02-28   9.515354    7.507683   11.461428\n",
       "2  2018-03-31   8.912175    6.795862   11.034215\n",
       "3  2018-04-30  10.050595    8.142608   12.056581\n",
       "4  2018-05-31  10.405750    8.428969   12.303096\n",
       "..        ...        ...         ...         ...\n",
       "68 2023-09-30   9.291878    7.136988   11.334052\n",
       "69 2023-10-31   7.617098    5.579367    9.777572\n",
       "70 2023-11-30   6.464252    4.549037    8.369361\n",
       "71 2023-12-31   6.444190    4.482028    8.449517\n",
       "72 2024-01-31   9.541715    7.512067   11.527060\n",
       "\n",
       "[73 rows x 4 columns]"
      ]
     },
     "execution_count": 24,
     "metadata": {},
     "output_type": "execute_result"
    }
   ],
   "source": [
    "forecast=m.predict(future)\n",
    "forecast[['ds','yhat','yhat_lower', 'yhat_upper' ]]\n"
   ]
  },
  {
   "cell_type": "code",
   "execution_count": 25,
   "metadata": {},
   "outputs": [
    {
     "name": "stdout",
     "output_type": "stream",
     "text": [
      "Enviar: {'datos': [{'ds': '2018-01-31', 'yhat': 10.99477772796509, 'yhat_lower': 9.007987627688491, 'yhat_upper': 13.11378555371847}, {'ds': '2018-02-28', 'yhat': 9.515354428713524, 'yhat_lower': 7.507682864659723, 'yhat_upper': 11.461427696603273}, {'ds': '2018-03-31', 'yhat': 8.91217484655374, 'yhat_lower': 6.795861752050151, 'yhat_upper': 11.034214878308335}, {'ds': '2018-04-30', 'yhat': 10.050595294509048, 'yhat_lower': 8.142607927222944, 'yhat_upper': 12.056580749736213}, {'ds': '2018-05-31', 'yhat': 10.405749534470209, 'yhat_lower': 8.428968522059979, 'yhat_upper': 12.303095534839708}, {'ds': '2018-06-30', 'yhat': 9.88053613877139, 'yhat_lower': 7.984524046600052, 'yhat_upper': 11.988007131066603}, {'ds': '2018-07-31', 'yhat': 10.335943500716638, 'yhat_lower': 8.302148362307628, 'yhat_upper': 12.318917097109436}, {'ds': '2018-08-31', 'yhat': 9.879234179079987, 'yhat_lower': 7.842131827841034, 'yhat_upper': 11.851521844780283}, {'ds': '2018-09-30', 'yhat': 9.801248876684273, 'yhat_lower': 7.880899165113124, 'yhat_upper': 11.774875338839772}, {'ds': '2018-10-31', 'yhat': 9.193128513094713, 'yhat_lower': 7.098232630332636, 'yhat_upper': 11.250497239312352}, {'ds': '2018-11-30', 'yhat': 8.724905509738182, 'yhat_lower': 6.694125956716489, 'yhat_upper': 10.645473037301668}, {'ds': '2018-12-31', 'yhat': 9.243184474869109, 'yhat_lower': 7.19866162430701, 'yhat_upper': 11.130766830333485}, {'ds': '2019-01-31', 'yhat': 13.030282281702483, 'yhat_lower': 11.224874581985933, 'yhat_upper': 15.244071671890651}, {'ds': '2019-02-28', 'yhat': 13.416277330993513, 'yhat_lower': 11.511188330210617, 'yhat_upper': 15.331235651075325}, {'ds': '2019-03-31', 'yhat': 12.718900981575926, 'yhat_lower': 10.715927774074826, 'yhat_upper': 14.628164842462395}, {'ds': '2019-04-30', 'yhat': 12.220178309804806, 'yhat_lower': 10.316213359435848, 'yhat_upper': 14.27142601036315}, {'ds': '2019-05-31', 'yhat': 12.60378379475244, 'yhat_lower': 10.587933867902851, 'yhat_upper': 14.620603904453455}, {'ds': '2019-06-30', 'yhat': 12.366660827400407, 'yhat_lower': 10.311578956464249, 'yhat_upper': 14.341996461458736}, {'ds': '2019-07-31', 'yhat': 13.129112414773939, 'yhat_lower': 11.134070260765784, 'yhat_upper': 15.25705520445929}, {'ds': '2019-08-31', 'yhat': 13.33026816510683, 'yhat_lower': 11.2610472782111, 'yhat_upper': 15.406522658820448}, {'ds': '2019-09-30', 'yhat': 13.205296366388275, 'yhat_lower': 11.288923270627507, 'yhat_upper': 15.242190176955317}, {'ds': '2019-10-31', 'yhat': 11.942501156871241, 'yhat_lower': 9.997849304933364, 'yhat_upper': 13.963980994406953}, {'ds': '2019-11-30', 'yhat': 11.188349205571127, 'yhat_lower': 9.075330909013228, 'yhat_upper': 13.18310890471229}, {'ds': '2019-12-31', 'yhat': 11.580271968683661, 'yhat_lower': 9.738181913136133, 'yhat_upper': 13.631265508533646}, {'ds': '2020-01-31', 'yhat': 15.089781113330726, 'yhat_lower': 13.099285982286853, 'yhat_upper': 17.06762512296059}, {'ds': '2020-02-29', 'yhat': 13.090863328926332, 'yhat_lower': 11.144104853083725, 'yhat_upper': 15.206894072110886}, {'ds': '2020-03-31', 'yhat': 12.54623173353227, 'yhat_lower': 10.474253336316592, 'yhat_upper': 14.52121623121746}, {'ds': '2020-04-30', 'yhat': 16.939017742498038, 'yhat_lower': 14.89523585369744, 'yhat_upper': 18.897641315998808}, {'ds': '2020-05-31', 'yhat': 17.317504588340398, 'yhat_lower': 15.33593420396666, 'yhat_upper': 19.337728036490077}, {'ds': '2020-06-30', 'yhat': 16.27061174975293, 'yhat_lower': 14.384804665350984, 'yhat_upper': 18.38485012689722}, {'ds': '2020-07-31', 'yhat': 16.133469753340822, 'yhat_lower': 14.146360489730816, 'yhat_upper': 18.20145634828064}, {'ds': '2020-08-31', 'yhat': 13.988472810551057, 'yhat_lower': 11.856335757340261, 'yhat_upper': 15.881832363817331}, {'ds': '2020-09-30', 'yhat': 13.592696119901214, 'yhat_lower': 11.413389868664785, 'yhat_upper': 15.569185656553373}, {'ds': '2020-10-31', 'yhat': 13.858429809849454, 'yhat_lower': 11.871838522657002, 'yhat_upper': 15.953494828075542}, {'ds': '2020-11-30', 'yhat': 13.591237183012602, 'yhat_lower': 11.674055369146705, 'yhat_upper': 15.58299911506287}, {'ds': '2020-12-31', 'yhat': 13.984012582962604, 'yhat_lower': 12.012798071371632, 'yhat_upper': 15.928471723402025}, {'ds': '2021-01-31', 'yhat': 17.98636923245447, 'yhat_lower': 16.01850154635975, 'yhat_upper': 19.95015332643219}, {'ds': '2021-02-28', 'yhat': 14.26592119281732, 'yhat_lower': 12.296128643154102, 'yhat_upper': 16.28708624120903}, {'ds': '2021-03-31', 'yhat': 13.301780546152017, 'yhat_lower': 11.233387570423732, 'yhat_upper': 15.31682174915745}, {'ds': '2021-04-30', 'yhat': 15.672750769465834, 'yhat_lower': 13.711820720485282, 'yhat_upper': 17.747738603690756}, {'ds': '2021-05-31', 'yhat': 15.614412505217455, 'yhat_lower': 13.678436863676641, 'yhat_upper': 17.609642510786816}, {'ds': '2021-06-30', 'yhat': 14.420450640328918, 'yhat_lower': 12.49600397732018, 'yhat_upper': 16.479633544471806}, {'ds': '2021-07-31', 'yhat': 14.163794287643228, 'yhat_lower': 12.33301423539008, 'yhat_upper': 16.158048576330387}, {'ds': '2021-08-31', 'yhat': 12.627841298821917, 'yhat_lower': 10.719675192253998, 'yhat_upper': 14.696862681586076}, {'ds': '2021-09-30', 'yhat': 12.172275021326334, 'yhat_lower': 10.291517039194055, 'yhat_upper': 14.215973966842892}, {'ds': '2021-10-31', 'yhat': 11.799218724786927, 'yhat_lower': 9.926372927548147, 'yhat_upper': 13.79298359885956}, {'ds': '2021-11-30', 'yhat': 11.227673301442168, 'yhat_lower': 9.181877710074724, 'yhat_upper': 13.247946617032772}, {'ds': '2021-12-31', 'yhat': 11.471619980884295, 'yhat_lower': 9.508306806356412, 'yhat_upper': 13.416815202813803}, {'ds': '2022-01-31', 'yhat': 15.148282560666694, 'yhat_lower': 13.098643572486063, 'yhat_upper': 17.23926323420096}, {'ds': '2022-02-28', 'yhat': 13.296744193366939, 'yhat_lower': 11.243071569590084, 'yhat_upper': 15.312922806998113}, {'ds': '2022-03-31', 'yhat': 12.281580071518738, 'yhat_lower': 10.270426645055815, 'yhat_upper': 14.273475140110168}, {'ds': '2022-04-30', 'yhat': 13.021305803670113, 'yhat_lower': 10.918313113050932, 'yhat_upper': 15.053834484071341}, {'ds': '2022-05-31', 'yhat': 12.964475503982984, 'yhat_lower': 11.068831434894916, 'yhat_upper': 15.055854640925455}, {'ds': '2022-06-30', 'yhat': 12.040567392521108, 'yhat_lower': 10.059551779549492, 'yhat_upper': 14.061905566880911}, {'ds': '2022-07-31', 'yhat': 12.083990214827029, 'yhat_lower': 10.003255180016787, 'yhat_upper': 14.024278526825343}, {'ds': '2022-08-31', 'yhat': 11.215296353516193, 'yhat_lower': 9.330709392150132, 'yhat_upper': 13.330944391990862}, {'ds': '2022-09-30', 'yhat': 10.73861633531597, 'yhat_lower': 8.7461668025219, 'yhat_upper': 12.720273203609175}, {'ds': '2022-10-31', 'yhat': 9.718511432038717, 'yhat_lower': 7.867489111115095, 'yhat_upper': 11.792403354744478}, {'ds': '2022-11-30', 'yhat': 8.851593712860707, 'yhat_lower': 6.69628786567738, 'yhat_upper': 10.755760900382414}, {'ds': '2022-12-31', 'yhat': 8.957888138299573, 'yhat_lower': 6.856950854129432, 'yhat_upper': 10.934084368620516}, {'ds': '2023-01-31', 'yhat': 12.33300140545019, 'yhat_lower': 10.331113025181882, 'yhat_upper': 14.295968978552626}, {'ds': '2023-02-28', 'yhat': 12.34688138662954, 'yhat_lower': 10.387320326332414, 'yhat_upper': 14.505265827578647}, {'ds': '2023-03-31', 'yhat': 11.237520497496684, 'yhat_lower': 9.27144214923442, 'yhat_upper': 13.216811591586458}, {'ds': '2023-04-30', 'yhat': 10.340103109847586, 'yhat_lower': 8.371733165445812, 'yhat_upper': 12.30092815091118}, {'ds': '2023-05-31', 'yhat': 10.3117240550687, 'yhat_lower': 8.423338581986549, 'yhat_upper': 12.21806352675854}, {'ds': '2023-06-30', 'yhat': 9.675906371845768, 'yhat_lower': 7.623356736282889, 'yhat_upper': 11.656651773825176}, {'ds': '2023-07-31', 'yhat': 10.026373419496801, 'yhat_lower': 8.040685659639864, 'yhat_upper': 12.039586829045357}, {'ds': '2023-08-31', 'yhat': 9.815544630105752, 'yhat_lower': 7.832135291001528, 'yhat_upper': 11.746505784508008}, {'ds': '2023-09-30', 'yhat': 9.291878115510066, 'yhat_lower': 7.136988444788798, 'yhat_upper': 11.334052163500532}, {'ds': '2023-10-31', 'yhat': 7.617098366248667, 'yhat_lower': 5.579366555586981, 'yhat_upper': 9.777572063934574}, {'ds': '2023-11-30', 'yhat': 6.464251699049621, 'yhat_lower': 4.549036755288632, 'yhat_upper': 8.369361465634658}, {'ds': '2023-12-31', 'yhat': 6.4441899223994055, 'yhat_lower': 4.482028156003777, 'yhat_upper': 8.449517354045899}, {'ds': '2024-01-31', 'yhat': 9.541714527457032, 'yhat_lower': 7.512066794495746, 'yhat_upper': 11.527059961059958}]}\n",
      "status res: 200\n",
      "respuesta servidor: {\"message\":\"se guardo\"}\n"
     ]
    }
   ],
   "source": [
    "# print(\"forecast\",forecast)\n",
    "#enviar a la api\n",
    "url= \"http://localhost:4000/prediccion\"\n",
    "args= forecast[['ds','yhat','yhat_lower', 'yhat_upper' ]]\n",
    "data = {\"datos\": args.astype({'ds': 'str'}).to_dict(orient='records')}\n",
    "\n",
    "print(\"Enviar:\", data)\n",
    "\n",
    "response = requests.post(url=url, json=data)\n",
    "\n",
    "print(\"status res:\",response.status_code)\n",
    "print(\"respuesta servidor:\", response.text)"
   ]
  },
  {
   "cell_type": "code",
   "execution_count": 26,
   "metadata": {},
   "outputs": [
    {
     "data": {
      "image/png": "[encoded data removed]",
      "text/plain": [
       "<Figure size 1000x600 with 1 Axes>"
      ]
     },
     "metadata": {},
     "output_type": "display_data"
    }
   ],
   "source": [
    "fig1=m.plot(forecast)"
   ]
  }
 ],
 "metadata": {
  "kernelspec": {
   "display_name": "Python 3",
   "language": "python",
   "name": "python3"
  },
  "language_info": {
   "codemirror_mode": {
    "name": "ipython",
    "version": 3
   },
   "file_extension": ".py",
   "mimetype": "text/x-python",
   "name": "python",
   "nbconvert_exporter": "python",
   "pygments_lexer": "ipython3",
   "version": "3.9.7"
  }
 },
 "nbformat": 4,
 "nbformat_minor": 2
}
